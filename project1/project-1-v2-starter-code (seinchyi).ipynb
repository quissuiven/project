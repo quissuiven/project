{
 "cells": [
  {
   "cell_type": "markdown",
   "metadata": {},
   "source": [
    "<img src=\"http://imgur.com/1ZcRyrc.png\" style=\"float: left; margin: 15px; height: 80px\">\n",
    "\n",
    "# Project 1\n",
    "\n",
    "### Building \"Pokemon Stay\"\n",
    "\n",
    "---\n",
    "You are an analyst at a \"scrappy\" online gaming company that specializes in remakes of last year's fads.\n",
    "\n",
    "Your boss, who runs the product development team, is convinced that Pokemon Go's fatal flaw was that you had to actually move around outside. She has design mock-ups for a new game called Pokemon Stay: in this version players still need to move, but just from website to website. Pokemon gyms are now popular online destinations, and catching Pokemon in the \"wild\" simply requires browsing the internet for hours in the comfort of your home.\n",
    "\n",
    "She wants you to program a prototype version of the game, and analyze the planned content to help the team calibrate the design."
   ]
  },
  {
   "cell_type": "markdown",
   "metadata": {},
   "source": [
    "#### Package imports\n",
    "\n",
    "The pprint package below is the only package imported here, and it's not even strictly required to do any of the project. Printing python variables and objects with pprint can help to format them in a \"prettier\" way."
   ]
  },
  {
   "cell_type": "code",
   "execution_count": 3,
   "metadata": {},
   "outputs": [],
   "source": [
    "from pprint import pprint"
   ]
  },
  {
   "cell_type": "markdown",
   "metadata": {},
   "source": [
    "<img src=\"http://imgur.com/l5NasQj.png\" style=\"float: left; margin: 25px 15px 0px 0px; height: 25px\">\n",
    "\n",
    "## 1. Defining a player\n",
    "\n",
    "---\n",
    "\n",
    "The player variables are:\n",
    "\n",
    "    player_id : id code unique to each player (integer)\n",
    "    player_name : entered name of the player (string)\n",
    "    time_played : number of time played the game in minutes (float)\n",
    "    player_pokemon: the player's captured pokemon (dictionary)\n",
    "    gyms_visited: ids of the gyms that a player has visited (list)\n",
    "    \n",
    "Create the components for a player object by defining each of these variables. The dictionary and list variables should just be defined as empty; you can use any (correctly typed) values for the others."
   ]
  },
  {
   "cell_type": "code",
   "execution_count": 4,
   "metadata": {},
   "outputs": [
    {
     "name": "stdout",
     "output_type": "stream",
     "text": [
      "1\n",
      "andy\n"
     ]
    }
   ],
   "source": [
    "class player(object):\n",
    "    \n",
    "    def __init__(self,player_id,player_name='',time_played=1,player_pokemon=None,gyms_visited=None):\n",
    "        \n",
    "        self.player_id=player_id\n",
    "        self.player_name=player_name\n",
    "        self.time_played=time_played\n",
    "        if player_pokemon is None:\n",
    "            player_pokemon={}\n",
    "        self.player_pokemon=player_pokemon\n",
    "        if gyms_visited is None:\n",
    "            gyms_visited =[]\n",
    "        self.gyms_visited=gyms_visited\n",
    "        \n",
    "    def print_stats(self):\n",
    "        print('player_id:', self.player_id)\n",
    "        print('player_name:', self.player_name)\n",
    "        print('time_played:', self.time_played)\n",
    "        print('player_pokemon:', self.player_pokemon)\n",
    "        print('gyms_visited:', self.gyms_visited)\n",
    " \n",
    "andy=player(player_id=1,player_name='andy')\n",
    "print(andy.player_id)\n",
    "print(andy.player_name)"
   ]
  },
  {
   "cell_type": "markdown",
   "metadata": {},
   "source": [
    "<img src=\"http://imgur.com/l5NasQj.png\" style=\"float: left; margin: 25px 15px 0px 0px; height: 25px\">\n",
    "\n",
    "## 2. Defining \"gym\" locations\n",
    "\n",
    "---\n",
    "\n",
    "As the sole programmer, Pokemon Stay will have to start small. To begin, there will be 10 different gym location websites on the internet. The gym locations are:\n",
    "\n",
    "    1. 'reddit.com'\n",
    "    2. 'amazon.com'\n",
    "    3. 'twitter.com'\n",
    "    4. 'linkedin.com'\n",
    "    5. 'ebay.com'\n",
    "    6. 'netflix.com'\n",
    "    7. 'sporcle.com'\n",
    "    8. 'stackoverflow.com'\n",
    "    9. 'github.com'\n",
    "    10. 'quora.com'\n",
    "\n",
    "1. Set up a list of all the gym locations. This will be a list of strings.\n",
    "2. Append two of these locations to your player's list of visited gyms.\n",
    "3. Print the list."
   ]
  },
  {
   "cell_type": "code",
   "execution_count": 5,
   "metadata": {},
   "outputs": [
    {
     "name": "stdout",
     "output_type": "stream",
     "text": [
      "['reddit.com', 'amazon.com', 'twitter.com', 'linkedin.com', 'ebay.com', 'netflix.com', 'sporcle.com', 'stackoverflow.com', 'github.com', 'quora.com']\n"
     ]
    }
   ],
   "source": [
    "pokemon_gyms=['reddit.com', 'amazon.com','twitter.com','linkedin.com','ebay.com','netflix.com','sporcle.com','stackoverflow.com','github.com','quora.com']\n",
    "print(pokemon_gyms)\n",
    "andy.gyms_visited=['reddit.com', 'amazon.com']"
   ]
  },
  {
   "cell_type": "markdown",
   "metadata": {},
   "source": [
    "<img src=\"http://imgur.com/l5NasQj.png\" style=\"float: left; margin: 25px 15px 0px 0px; height: 25px\">\n",
    "\n",
    "## 3. Create a pokedex\n",
    "\n",
    "---\n",
    "\n",
    "We also need to create some pokemon to catch. Each pokemon will be defined by these variables:\n",
    "\n",
    "    pokemon_id : unique identifier for each pokemon (integer)\n",
    "    name : the name of the pokemon (string)\n",
    "    type : the category of pokemon (string)\n",
    "    hp : base hitpoints (integer)\n",
    "    attack : base attack (integer)\n",
    "    defense : base defense (integer)\n",
    "    special_attack : base special attack (integer)\n",
    "    special_defense : base sepecial defense (integer)\n",
    "    speed : base speed (integer)\n",
    "\n",
    "We are only going to create 3 different pokemon with these `pokemon_id` and `pokemon_name` values:\n",
    "\n",
    "    1 : 'charmander'\n",
    "    2 : 'squirtle'\n",
    "    3 : 'bulbasaur'\n",
    "\n",
    "Create a dictionary that will contain the pokemon. The keys of the dictionary will be the `pokemon_id` and the values will themselves dictionaries that contain the other pokemon variables. The structure of the pokedex dictionary will start like so:\n",
    "     \n",
    "     {\n",
    "         1: {\n",
    "                 'name':'charmander',\n",
    "                 'type':'fire',\n",
    "                 ...\n",
    "                 \n",
    "The `type` of charmander, squirtle, and bulbasaur should be `'fire'`, `'water'`, and `'poison'` respectively. The other values are up to you, make them anything you like!\n",
    "\n",
    "Print (or pretty print) the pokedex dictionary with the 3 pokemon."
   ]
  },
  {
   "cell_type": "code",
   "execution_count": 6,
   "metadata": {},
   "outputs": [
    {
     "data": {
      "text/plain": [
       "'Charmander'"
      ]
     },
     "execution_count": 6,
     "metadata": {},
     "output_type": "execute_result"
    }
   ],
   "source": [
    "#Name\tType\tTotal\tHP\tAttack\tDefense\tSpecialAttack\tSpecialDefense\tSpeed\n",
    "#Charmander\tFire\t309\t39\t52\t43\t60\t50\t65\n",
    "#Squirtle\tWater\t314\t44\t48\t65\t50\t64\t43\n",
    "#Bulbasaur\tGrassPoison\t318\t45\t49\t49\t65\t65\t45\n",
    "\n",
    "pokedex={1:{\n",
    "            'name':'Charmander',\n",
    "            'type':'fire',\n",
    "            'total':309,\n",
    "            'hp':39,\n",
    "            'attack':52,\n",
    "            'defense':43,\n",
    "            'special attack':60,\n",
    "            'special defense':50,\n",
    "            'speed':65},\n",
    "        2:{\n",
    "            'name':'Squirtle',\n",
    "            'type':'water',\n",
    "            'total':314,\n",
    "            'hp':44,\n",
    "            'attack':48,\n",
    "            'defense':65,\n",
    "            'special attack':50,\n",
    "            'special defense':64,\n",
    "            'speed':43},\n",
    "        3:{\n",
    "            'name':'Bulbasaur',\n",
    "            'type':'poison',\n",
    "            'total':318,\n",
    "            'hp':45,\n",
    "            'attack':49,\n",
    "            'defense':49,\n",
    "            'special attack':65,\n",
    "            'special defense':65,\n",
    "            'speed':45}\n",
    "        }\n",
    "pokedex[1]['name']"
   ]
  },
  {
   "cell_type": "markdown",
   "metadata": {},
   "source": [
    "<img src=\"http://imgur.com/l5NasQj.png\" style=\"float: left; margin: 25px 15px 0px 0px; height: 25px\">\n",
    "\n",
    "## 4. Create a data structure for players\n",
    "\n",
    "---\n",
    "\n",
    "### 4.1 \n",
    "\n",
    "In order to maintain a database of multiple players, create a dictionary that keeps track of players indexed by `player_id`. \n",
    "\n",
    "The keys of the dictionary will be `player_id` and values will be dictionaries containing each player's variables (from question 1). \n",
    "\n",
    "Construct the `players` dictionary and insert the player that you defined in question 1, then print `players`."
   ]
  },
  {
   "cell_type": "code",
   "execution_count": 7,
   "metadata": {},
   "outputs": [
    {
     "name": "stdout",
     "output_type": "stream",
     "text": [
      "{1: {'player_id': 1, 'player_name': 'andy', 'time_played': 1, 'player_pokemon': {}, 'gyms_visited': ['reddit.com', 'amazon.com']}}\n"
     ]
    }
   ],
   "source": [
    "player_id={andy.player_id:andy.__dict__}\n",
    "players={}\n",
    "players.update({andy.player_id:andy.__dict__})\n",
    "print(players)"
   ]
  },
  {
   "cell_type": "markdown",
   "metadata": {},
   "source": [
    "---\n",
    "\n",
    "### 4.2\n",
    "\n",
    "Create a new player with `player_id = 2` in the `players` dictionary. Leave the `'player_pokemon'` dictionary empty. Append `'alcatraz'` and `'pacific_beach'` to the `'gyms_visited'` list for player 2.\n",
    "\n",
    "The `'player_name'` and `'time_played'` values are up to you, but must be a string and float, respectively.\n",
    "\n",
    "Remember, the player_id is the key for the player in the players dictionary.\n",
    "\n",
    "Print the `players` dictionary with the new player inserted."
   ]
  },
  {
   "cell_type": "code",
   "execution_count": 8,
   "metadata": {},
   "outputs": [
    {
     "name": "stdout",
     "output_type": "stream",
     "text": [
      "{1: {'player_id': 1, 'player_name': 'andy', 'time_played': 1, 'player_pokemon': {}, 'gyms_visited': ['reddit.com', 'amazon.com']}, 2: {'player_id': 2, 'player_name': 'ben', 'time_played': 10.0, 'player_pokemon': {}, 'gyms_visited': ['alcatraz', 'pacific beach']}}\n"
     ]
    }
   ],
   "source": [
    "ben=player(player_id=2,player_name='ben',player_pokemon=None,time_played=10.0,gyms_visited=['alcatraz','pacific beach'])\n",
    "players.update({ben.player_id:ben.__dict__})\n",
    "print(players)"
   ]
  },
  {
   "cell_type": "markdown",
   "metadata": {},
   "source": [
    "<img src=\"http://imgur.com/l5NasQj.png\" style=\"float: left; margin: 25px 15px 0px 0px; height: 25px\">\n",
    "\n",
    "## 5. Add captured pokemon for each player\n",
    "\n",
    "---\n",
    "\n",
    "The `'player_pokemon'` keyed dictionaries for each player keep track of which of the pokemon each player has.\n",
    "\n",
    "The keys of the `'player_pokemon'` dictionaries are the pokemon ids that correspond to the ids in the `pokedex` dictionary you created earlier. The values are integers specifying the stats for the pokemon.\n",
    "\n",
    "Give player 1 a squirtle. Give player 2 charmander and a bulbasaur.\n",
    "\n",
    "Print the players dictionary after adding the pokemon for each player.\n"
   ]
  },
  {
   "cell_type": "code",
   "execution_count": 9,
   "metadata": {},
   "outputs": [
    {
     "name": "stdout",
     "output_type": "stream",
     "text": [
      "{1: {'player_id': 1, 'player_name': 'andy', 'time_played': 1, 'player_pokemon': {1: {'name': 'Charmander', 'type': 'fire', 'total': 309, 'hp': 39, 'attack': 52, 'defense': 43, 'special attack': 60, 'special defense': 50, 'speed': 65}}, 'gyms_visited': ['reddit.com', 'amazon.com']}, 2: {'player_id': 2, 'player_name': 'ben', 'time_played': 10.0, 'player_pokemon': {2: {'name': 'Squirtle', 'type': 'water', 'total': 314, 'hp': 44, 'attack': 48, 'defense': 65, 'special attack': 50, 'special defense': 64, 'speed': 43}, 3: {'name': 'Bulbasaur', 'type': 'poison', 'total': 318, 'hp': 45, 'attack': 49, 'defense': 49, 'special attack': 65, 'special defense': 65, 'speed': 45}}, 'gyms_visited': ['alcatraz', 'pacific beach']}}\n"
     ]
    }
   ],
   "source": [
    "andy.player_pokemon={1:pokedex[1]}\n",
    "ben.player_pokemon={2:pokedex[2],3:pokedex[3]}\n",
    "print(players)"
   ]
  },
  {
   "cell_type": "markdown",
   "metadata": {},
   "source": [
    "\n",
    "\n",
    "## 6. What gyms have players visited?\n",
    "\n",
    "---\n",
    "<img src=\"http://imgur.com/l5NasQj.png\" style=\"float: left; margin: 25px 15px 0px 0px; height: 25px\">\n",
    "### 6.1\n",
    "\n",
    "Write a for-loop that:\n",
    "\n",
    "1. Iterates through the `pokemon_gyms` list of gym locations you defined before.\n",
    "2. For each gym, iterate through each player in the `players` dictionary with a second, internal for-loop.\n",
    "3. If the player has visited the gym, print out \"[player] has visited [gym location].\", filling in [player] and [gym location] with the current player's name and current gym location."
   ]
  },
  {
   "cell_type": "code",
   "execution_count": 10,
   "metadata": {},
   "outputs": [
    {
     "name": "stdout",
     "output_type": "stream",
     "text": [
      "andy has visited reddit.com\n",
      "andy has visited amazon.com\n"
     ]
    }
   ],
   "source": [
    "\n",
    "for gym in pokemon_gyms:\n",
    "    i=0\n",
    "    for p in players:\n",
    "        for i in range(len(players[p]['gyms_visited'])):\n",
    "            if gym==players[p]['gyms_visited'][i]:\n",
    "                print(players[p]['player_name']+\" has visited \"+gym)\n",
    "                i+=1"
   ]
  },
  {
   "cell_type": "markdown",
   "metadata": {},
   "source": [
    "<img src=\"http://imgur.com/xDpSobf.png\" style=\"float: left; margin: 25px 15px 0px 0px; height: 25px\">\n",
    "### 6.2\n",
    "\n",
    "How many times did that loop run? If you have N gyms and also N players, how many times would it run as a function of N?\n",
    "\n",
    "Can you think of a more efficient way to accomplish the same thing? \n",
    "\n",
    "(You can write your answer as Markdown text.)"
   ]
  },
  {
   "cell_type": "code",
   "execution_count": 11,
   "metadata": {},
   "outputs": [
    {
     "name": "stdout",
     "output_type": "stream",
     "text": [
      "andy has visited reddit.com\n",
      "andy has visited amazon.com\n",
      "ben has visited alcatraz\n",
      "ben has visited pacific beach\n"
     ]
    }
   ],
   "source": [
    "for p in players:\n",
    "    for g in players[p]['gyms_visited']:\n",
    "        print(players[p]['player_name']+\" has visited \"+g)"
   ]
  },
  {
   "cell_type": "markdown",
   "metadata": {},
   "source": [
    "<img src=\"http://imgur.com/l5NasQj.png\" style=\"float: left; margin: 25px 15px 0px 0px; height: 25px\">\n",
    "\n",
    "## 7. Calculate player \"power\".\n",
    "\n",
    "---\n",
    "\n",
    "Define a function that will calculate a player's \"power\". Player power is defined as the sum of the base statistics all of their pokemon.\n",
    "\n",
    "Your function will:\n",
    "\n",
    "1. Accept the `players` dictionary, `pokedex` dictionary, and a player_id as arguments.\n",
    "2. For the specified player_id, look up that player's pokemon and their level(s).\n",
    "3. Find and aggregate the attack and defense values for each of the player's pokemon from the `pokedex` dictionary.\n",
    "4. Print \"[player name]'s power is [player power].\", where the player power is the sum of the base statistics for all of their pokemon.\n",
    "5. Return the player's power value.\n",
    "\n",
    "Print out the pokemon power for each of your players."
   ]
  },
  {
   "cell_type": "code",
   "execution_count": 12,
   "metadata": {},
   "outputs": [
    {
     "name": "stdout",
     "output_type": "stream",
     "text": [
      "andy's power is 95\n",
      "ben's power is 211\n"
     ]
    }
   ],
   "source": [
    "def power(players,pokedex,player_id):\n",
    "    pokemon=players[player_id]['player_pokemon']\n",
    "    name=players[player_id]['player_name']\n",
    "    power=[]\n",
    "    for k in pokemon.keys():\n",
    "        power.append(pokemon[k]['attack'])\n",
    "        power.append(pokemon[k]['defense'])\n",
    "    print(name+\"'s power is \"+str(sum(power)))\n",
    "\n",
    "for p in players:\n",
    "    power(players,pokedex,p)\n",
    "    "
   ]
  },
  {
   "cell_type": "markdown",
   "metadata": {
    "collapsed": true
   },
   "source": [
    "<img src=\"http://imgur.com/l5NasQj.png\" style=\"float: left; margin: 25px 15px 0px 0px; height: 25px\">\n",
    "\n",
    "## 8. Load a pokedex file containing all the pokemon\n",
    "\n",
    "---\n",
    "\n",
    "### 8.1\n",
    "\n",
    "While you were putting together the prototype code, your colleagues were preparing a dataset of Pokemon and their attributes. (This was a rush job, so they may have picked some crazy values for some...)\n",
    "\n",
    "The code below loads information from a comma separated value (csv) file. You need to parse this string into a more useable format. The format of the string is:\n",
    "\n",
    "- Rows are separated by newline characters: \\n\n",
    "- Columns are separated by commas: ,\n",
    "- All cells in the csv are double quoted. Ex: \"PokedexNumber\" is the first cell of the first row.\n",
    "\n",
    "\n",
    "Using for-loops, create a list of lists where each list within the overall list is a row of the csv/matrix, and each element in that list is a cell in that row. Additional criteria:\n",
    "\n",
    "1. Quotes are removed from each cell item.\n",
    "2. Numeric column values are converted to floats.\n",
    "3. There are some cells that are empty and have no information. For these cells put a -1 value in place.\n",
    "\n",
    "Your end result is effectively a matrix. Each list in the outer list is a row, and the *j*th elements of list together form the *j*th column, which represents a data attribute. The first three lists in your pokedex list should look like this:\n",
    "\n",
    "    ['PokedexNumber', 'Name', 'Type', 'Total', 'HP', 'Attack', 'Defense', 'SpecialAttack', 'SpecialDefense', 'Speed']\n",
    "    [1.0, 'Bulbasaur', 'GrassPoison', 318.0, 45.0, 49.0, 49.0, 65.0, 65.0, 45.0]\n",
    "    [2.0, 'Ivysaur', 'GrassPoison', 405.0, 60.0, 62.0, 63.0, 80.0, 80.0, 60.0]"
   ]
  },
  {
   "cell_type": "code",
   "execution_count": 126,
   "metadata": {},
   "outputs": [
    {
     "name": "stdout",
     "output_type": "stream",
     "text": [
      "\"PokedexNumber\",\"Name\",\"Type\",\"Total\",\"HP\",\"Attack\",\"Defense\",\"SpecialAttack\",\"SpecialDefense\",\"Speed\"\n",
      "\n",
      "\"001\",\"Bulbasaur\",\"GrassPoison\",\"318\",\"45\",\"49\",\"49\",\"65\",\"65\",\"45\"\n",
      "\n",
      "\"002\",\"Ivysaur\",\"GrassPoison\",\"405\",\"60\",\"62\",\"63\",\"80\",\"80\",\"60\"\n",
      "\n",
      "\"003\",\"Venusaur\",\"GrassPoison\",\"525\",\"80\",\"82\",\"83\",\"100\",\"100\",\"80\"\n",
      "\n",
      "\"003\",\"VenusaurMega Venusaur\",\"GrassPoison\",\"625\",\"80\",\"100\",\"123\",\"122\",\"120\",\"80\"\n",
      "\n"
     ]
    }
   ],
   "source": [
    "# Code to read in pokedex info\n",
    "raw_pd = ''\n",
    "pokedex_file = 'C:/Users/swoo/Desktop/DSI/materials/projects/project-1/pokedex_basic.csv'\n",
    "with open(pokedex_file, 'r') as f:\n",
    "    raw_pd = f.readlines()\n",
    "    \n",
    "# the pokedex string is assigned to the raw_pd variable\n",
    "for line in raw_pd[:5]:\n",
    "    print(line)"
   ]
  },
  {
   "cell_type": "markdown",
   "metadata": {},
   "source": [
    "STUCK HERE: REPLACING EMPTY CELL TO -1"
   ]
  },
  {
   "cell_type": "code",
   "execution_count": 128,
   "metadata": {},
   "outputs": [
    {
     "data": {
      "text/plain": [
       "['PokedexNumber,Name,Type,Total,HP,Attack,Defense,SpecialAttack,SpecialDefense,Speed',\n",
       " '001,Bulbasaur,GrassPoison,318,45,49,49,65,65,45',\n",
       " '002,Ivysaur,GrassPoison,405,60,62,63,80,80,60',\n",
       " '003,Venusaur,GrassPoison,525,80,82,83,100,100,80',\n",
       " '003,VenusaurMega Venusaur,GrassPoison,625,80,100,123,122,120,80']"
      ]
     },
     "execution_count": 128,
     "metadata": {},
     "output_type": "execute_result"
    }
   ],
   "source": [
    "cleaned=[]\n",
    "for l in raw_pd:\n",
    "       cleaned.append((l.replace('\"','')).replace('\\n',''))\n",
    "# header=cleaned[0]\n",
    "# rows=cleaned[1:]\n",
    "# header=header.split(',')\n",
    "\n",
    "cleaned[:5]"
   ]
  },
  {
   "cell_type": "code",
   "execution_count": 129,
   "metadata": {},
   "outputs": [
    {
     "data": {
      "text/plain": [
       "[['PokedexNumber',\n",
       "  'Name',\n",
       "  'Type',\n",
       "  'Total',\n",
       "  'HP',\n",
       "  'Attack',\n",
       "  'Defense',\n",
       "  'SpecialAttack',\n",
       "  'SpecialDefense',\n",
       "  'Speed'],\n",
       " ['001',\n",
       "  'Bulbasaur',\n",
       "  'GrassPoison',\n",
       "  '318',\n",
       "  '45',\n",
       "  '49',\n",
       "  '49',\n",
       "  '65',\n",
       "  '65',\n",
       "  '45'],\n",
       " ['002', 'Ivysaur', 'GrassPoison', '405', '60', '62', '63', '80', '80', '60'],\n",
       " ['003',\n",
       "  'Venusaur',\n",
       "  'GrassPoison',\n",
       "  '525',\n",
       "  '80',\n",
       "  '82',\n",
       "  '83',\n",
       "  '100',\n",
       "  '100',\n",
       "  '80'],\n",
       " ['003',\n",
       "  'VenusaurMega Venusaur',\n",
       "  'GrassPoison',\n",
       "  '625',\n",
       "  '80',\n",
       "  '100',\n",
       "  '123',\n",
       "  '122',\n",
       "  '120',\n",
       "  '80']]"
      ]
     },
     "execution_count": 129,
     "metadata": {},
     "output_type": "execute_result"
    }
   ],
   "source": [
    "cleaned_split=[]\n",
    "for r in cleaned:\n",
    "    cleaned_split.append(r.split(','))\n",
    "    \n",
    "cleaned_split[:5]"
   ]
  },
  {
   "cell_type": "code",
   "execution_count": 135,
   "metadata": {},
   "outputs": [
    {
     "data": {
      "text/plain": [
       "[['PokedexNumber',\n",
       "  'Name',\n",
       "  'Type',\n",
       "  'Total',\n",
       "  'HP',\n",
       "  'Attack',\n",
       "  'Defense',\n",
       "  'SpecialAttack',\n",
       "  'SpecialDefense',\n",
       "  'Speed'],\n",
       " ['001',\n",
       "  'Bulbasaur',\n",
       "  'GrassPoison',\n",
       "  '318',\n",
       "  '45',\n",
       "  '49',\n",
       "  '49',\n",
       "  '65',\n",
       "  '65',\n",
       "  '45'],\n",
       " ['002', 'Ivysaur', 'GrassPoison', '405', '60', '62', '63', '80', '80', '60']]"
      ]
     },
     "execution_count": 135,
     "metadata": {},
     "output_type": "execute_result"
    }
   ],
   "source": [
    "cleaned_split_new=[]    \n",
    "for r in cleaned_split:\n",
    "    cell=[r[0],r[1]]\n",
    "    for col in r[2:]:\n",
    "        if col == ' ':\n",
    "            cell.append(-1)\n",
    "        elif type(col) ==str:\n",
    "            cell.append(col)\n",
    "        else:\n",
    "            cell.append(float(col))\n",
    "    cleaned_split_new.append(cell)\n",
    "\n",
    "cleaned_split_new[:3]"
   ]
  },
  {
   "cell_type": "code",
   "execution_count": 17,
   "metadata": {},
   "outputs": [],
   "source": [
    "#clean1 = cleaned.splitlines(',')\n",
    "#clean1\n",
    "# for line in clean1:\n",
    "#     print line\n",
    "# cleanraw"
   ]
  },
  {
   "cell_type": "markdown",
   "metadata": {},
   "source": [
    "<img src=\"http://imgur.com/xDpSobf.png\" style=\"float: left; margin: 25px 15px 0px 0px; height: 25px\">\n",
    "\n",
    "### 8.2 Parse the raw pokedex with list comprehensions\n",
    "\n",
    "---\n",
    "\n",
    "Perform the same parsing as above, but **using only a single list comprehension** instead of for loops. You may have nested list comprehensions within the main list comprehension! The output should be exactly the same."
   ]
  },
  {
   "cell_type": "code",
   "execution_count": null,
   "metadata": {},
   "outputs": [],
   "source": []
  },
  {
   "cell_type": "markdown",
   "metadata": {},
   "source": [
    "<img src=\"http://imgur.com/l5NasQj.png\" style=\"float: left; margin: 25px 15px 0px 0px; height: 25px\">\n",
    "\n",
    "## 9. Write a function to generate the full pokedex\n",
    "\n",
    "---\n",
    "\n",
    "Write a function that recreates the pokedex you made before, but with the data read in from the full pokemon file. The `PokedexNumber` should be used as the `pokemon_id` key values for the dictionary of pokemon.\n",
    "\n",
    "Your function should:\n",
    "\n",
    "1. Take the parsed pokedex information you created above as an argument.\n",
    "2. Return a dictionary in the same format as your original pokedex you created before containing the information from the parsed full pokedex file.\n",
    "\n",
    "To test the function, print out the pokemon with id = 100."
   ]
  },
  {
   "cell_type": "code",
   "execution_count": 137,
   "metadata": {},
   "outputs": [
    {
     "data": {
      "text/plain": [
       "[['PokedexNumber',\n",
       "  'Name',\n",
       "  'Type',\n",
       "  'Total',\n",
       "  'HP',\n",
       "  'Attack',\n",
       "  'Defense',\n",
       "  'SpecialAttack',\n",
       "  'SpecialDefense',\n",
       "  'Speed',\n",
       "  'Name',\n",
       "  0],\n",
       " ['001',\n",
       "  'Bulbasaur',\n",
       "  'GrassPoison',\n",
       "  '318',\n",
       "  '45',\n",
       "  '49',\n",
       "  '49',\n",
       "  '65',\n",
       "  '65',\n",
       "  '45',\n",
       "  'Bulbasaur',\n",
       "  1],\n",
       " ['002',\n",
       "  'Ivysaur',\n",
       "  'GrassPoison',\n",
       "  '405',\n",
       "  '60',\n",
       "  '62',\n",
       "  '63',\n",
       "  '80',\n",
       "  '80',\n",
       "  '60',\n",
       "  'Ivysaur',\n",
       "  2]]"
      ]
     },
     "execution_count": 137,
     "metadata": {},
     "output_type": "execute_result"
    }
   ],
   "source": [
    "#complex version - pokenumber has duplicates. Create a new column as an unique ID, then add it back to pokedex (cleaned_split_new)\n",
    "unique_pokemon_id=[[r[1],i] for i,r in enumerate(cleaned_split_new)]\n",
    "\n",
    "for i,r in enumerate(cleaned_split_new):\n",
    "    r.extend(unique_pokemon_id[i])\n",
    "              \n",
    "cleaned_split_new[:3]"
   ]
  },
  {
   "cell_type": "code",
   "execution_count": 154,
   "metadata": {
    "scrolled": true
   },
   "outputs": [
    {
     "data": {
      "text/plain": [
       "{'PokedexNumber': '093',\n",
       " 'Name': 'Haunter',\n",
       " 'Type': 'GhostPoison',\n",
       " 'Total': '405',\n",
       " 'HP': '45',\n",
       " 'Attack': '50',\n",
       " 'Defense': '45',\n",
       " 'SpecialAttack': '115',\n",
       " 'SpecialDefense': '55',\n",
       " 'Speed': '95',\n",
       " 0: 101}"
      ]
     },
     "execution_count": 154,
     "metadata": {},
     "output_type": "execute_result"
    }
   ],
   "source": [
    "##simpler solution to create a new column with unique ID\n",
    "def pokedex_create(data):\n",
    "    header=data[0]\n",
    "    rows=data[1:]\n",
    "    pokedex={i:{header[j]:v for j,v in enumerate(r[0:])} for i,r in enumerate(rows)}\n",
    "    return pokedex\n",
    "\n",
    "pokedex_create(cleaned_split_new)[100]"
   ]
  },
  {
   "cell_type": "markdown",
   "metadata": {},
   "source": [
    "<img src=\"http://i.imgur.com/GCAf1UX.png\" style=\"float: left; margin: 25px 15px 0px 0px; height: 25px\">\n",
    "\n",
    "## 10. Write a function to generate a \"filtered\" pokedex\n",
    "---\n",
    "Your function should:\n",
    "1. Take the parsed pokedex information you created above as an argument.\n",
    "1. Take a dictionary as a parameter with keys matching the features of the Pokedex, filtering by exact match for string type values, and/or filter continuous variables specified value that is greater than or equal to the dictionary key parameter.\n",
    "1. Return multiple elements from the Pokedex\n",
    "\n",
    "Example:\n",
    "\n",
    "```python\n",
    "\n",
    "# Only filter based on parameters passed\n",
    "filter_options = {\n",
    "    'Attack':   25,\n",
    "    'Defense':  30,\n",
    "    'Type':     'Electric'\n",
    "}\n",
    "\n",
    "# Return records with attack >= 24, defense >= 30, and type == \"Electric\"\n",
    "# Also anticipate that other paramters can also be passed such as \"SpecialAttack\", \"Speed\", etc.\n",
    "filtered_pokedex(pokedex_data, filter=filter_options)\n",
    "\n",
    "# Example output:\n",
    "# [{'Attack': 30.0,\n",
    "#  'Defense': 50.0,\n",
    "#  'HP': 40.0,\n",
    "#  'Name': 'Voltorb',\n",
    "#  'SpecialAttack': 55.0,\n",
    "#  'SpecialDefense': 55.0,\n",
    "#  'Speed': 100.0,\n",
    "#  'Total': 330.0,\n",
    "#  'Type': 'Electric'},\n",
    "#  {'Attack': 30.0,\n",
    "#  'Defense': 33.0,\n",
    "#  'HP': 32.0,\n",
    "#  'Name': 'Pikachu',\n",
    "#  'SpecialAttack': 55.0,\n",
    "#  'SpecialDefense': 55.0,\n",
    "#  'Speed': 100.0,\n",
    "#  'Total': 330.0,\n",
    "#  'Type': 'Electric'},\n",
    "#  ... etc\n",
    "#  ]\n",
    "\n",
    "```\n",
    "\n"
   ]
  },
  {
   "cell_type": "code",
   "execution_count": null,
   "metadata": {},
   "outputs": [],
   "source": [
    "#filtered_pokedex(pokedex_data, filter=filter_options)\n",
    "\n",
    "def filtered_pokedex(cleaned_split_new,filter=filter_options):\n",
    "    "
   ]
  },
  {
   "cell_type": "markdown",
   "metadata": {
    "collapsed": true
   },
   "source": [
    "\n",
    "## 9. Descriptive statistics on the prototype pokedex\n",
    "\n",
    "<img src=\"http://imgur.com/l5NasQj.png\" style=\"float: left; margin: 25px 15px 0px 0px; height: 25px\">\n",
    "### 9.1\n",
    "\n",
    "What is the population mean and standard deviation of the \"Total\" attribute for all characters in the Pokedex?\n",
    "\n"
   ]
  },
  {
   "cell_type": "code",
   "execution_count": null,
   "metadata": {},
   "outputs": [],
   "source": []
  },
  {
   "cell_type": "markdown",
   "metadata": {},
   "source": [
    "<img src=\"http://imgur.com/l5NasQj.png\" style=\"float: left; margin: 25px 15px 0px 0px; height: 25px\">\n",
    "### 9.2\n",
    "\n",
    "The game is no fun if the characters are wildly unbalanced! Are any characters \"overpowered\", which we'll define as having a \"Total\" more than three standard deviations from the population mean?"
   ]
  },
  {
   "cell_type": "code",
   "execution_count": null,
   "metadata": {},
   "outputs": [],
   "source": []
  },
  {
   "cell_type": "markdown",
   "metadata": {},
   "source": [
    "<img src=\"http://imgur.com/xDpSobf.png\" style=\"float: left; margin: 25px 15px 0px 0px; height: 25px\">\n",
    "\n",
    "## 10. Calibrate the frequency of Pokemon\n",
    "\n",
    "The design team wants you to make the powerful Pokemon rare, and the weaklings more common. How would you set the probability $p_i$ of finding Pokemon *i* each time a player visits a gym?\n",
    "\n",
    "Write a function that takes in a Pokedex number and returns a value $p_i$ for that character.\n",
    "\n",
    "Hint: there are many ways you could do this. What do _you_ think makes sense? Start with simplifying assumptions: for example, you could assume that the probabilities of encountering any two Pokemon on one visit to a gym are independent of each other."
   ]
  },
  {
   "cell_type": "code",
   "execution_count": null,
   "metadata": {},
   "outputs": [],
   "source": []
  }
 ],
 "metadata": {
  "anaconda-cloud": {},
  "kernelspec": {
   "display_name": "Python 3",
   "language": "python",
   "name": "python3"
  },
  "language_info": {
   "codemirror_mode": {
    "name": "ipython",
    "version": 3
   },
   "file_extension": ".py",
   "mimetype": "text/x-python",
   "name": "python",
   "nbconvert_exporter": "python",
   "pygments_lexer": "ipython3",
   "version": "3.6.8"
  }
 },
 "nbformat": 4,
 "nbformat_minor": 1
}
