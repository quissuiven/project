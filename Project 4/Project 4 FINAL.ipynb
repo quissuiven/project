{
 "cells": [
  {
   "cell_type": "markdown",
   "metadata": {},
   "source": [
    "# Project 4 (Sein Chyi)"
   ]
  },
  {
   "cell_type": "code",
   "execution_count": 1,
   "metadata": {},
   "outputs": [],
   "source": [
    "from bs4 import BeautifulSoup\n",
    "import urllib\n",
    "import requests\n",
    "import pandas as pd\n",
    "import os\n",
    "from selenium import webdriver\n",
    "from time import sleep\n",
    "from selenium.webdriver.common.keys import Keys\n",
    "import pyodbc\n",
    "import datetime\n",
    "import numpy as np\n",
    "\n",
    "import re\n",
    "import matplotlib.pyplot as plt\n",
    "import seaborn as sns\n",
    "\n",
    "from sklearn.feature_extraction.text import CountVectorizer\n",
    "from sklearn.feature_extraction.text import TfidfTransformer\n",
    "from sklearn.feature_extraction.text import TfidfVectorizer\n",
    "\n",
    "import sklearn.linear_model\n",
    "from sklearn.linear_model import LinearRegression,ElasticNet\n",
    "from sklearn.linear_model import Ridge\n",
    "from sklearn.linear_model import RidgeCV\n",
    "from sklearn.linear_model import Lasso\n",
    "from sklearn.linear_model import LassoCV,ElasticNetCV\n",
    "from sklearn.linear_model import HuberRegressor,RANSACRegressor,TheilSenRegressor\n",
    "\n",
    "import xgboost as xgb\n",
    "from xgboost import plot_importance,XGBClassifier,XGBRegressor\n",
    "\n",
    "from sklearn.preprocessing import StandardScaler\n",
    "from sklearn.model_selection import train_test_split, KFold, cross_val_score, cross_val_predict,StratifiedKFold\n",
    "\n",
    "from wordcloud import WordCloud, STOPWORDS, ImageColorGenerator\n",
    "\n",
    "import sklearn.metrics\n",
    "from sklearn.metrics import roc_curve, auc\n",
    "\n",
    "from sklearn.ensemble import RandomForestClassifier\n",
    "\n",
    "from sklearn import cluster\n",
    "from sklearn import metrics\n",
    "from sklearn.metrics import pairwise_distances"
   ]
  },
  {
   "cell_type": "code",
   "execution_count": 2,
   "metadata": {},
   "outputs": [
    {
     "data": {
      "text/plain": [
       "job_id                   0\n",
       "company                  0\n",
       "title                    0\n",
       "location               401\n",
       "description              0\n",
       "last_posted_date         0\n",
       "closing_date             0\n",
       "seniority               16\n",
       "employment_type          0\n",
       "num_of_applications      0\n",
       "company_info           167\n",
       "salary_range             0\n",
       "url                      0\n",
       "requirement              3\n",
       "industry                 0\n",
       "dtype: int64"
      ]
     },
     "execution_count": 2,
     "metadata": {},
     "output_type": "execute_result"
    }
   ],
   "source": [
    "jobs_raw = pd.read_csv('jobs_raw_2019_04_28.csv')\n",
    "industry_df = pd.read_csv('jobs_industry_v2_2019_05_07.csv')\n",
    "\n",
    "# reading industry data\n",
    "\n",
    "jobs_raw = jobs_raw.merge(industry_df,how='left',left_on='url',right_on='url')\n",
    "jobs_raw.columns\n",
    "\n",
    "# checking null values in each column\n",
    "\n",
    "jobs_raw.isnull().sum()"
   ]
  },
  {
   "cell_type": "code",
   "execution_count": 3,
   "metadata": {},
   "outputs": [
    {
     "data": {
      "text/html": [
       "<div>\n",
       "<style scoped>\n",
       "    .dataframe tbody tr th:only-of-type {\n",
       "        vertical-align: middle;\n",
       "    }\n",
       "\n",
       "    .dataframe tbody tr th {\n",
       "        vertical-align: top;\n",
       "    }\n",
       "\n",
       "    .dataframe thead th {\n",
       "        text-align: right;\n",
       "    }\n",
       "</style>\n",
       "<table border=\"1\" class=\"dataframe\">\n",
       "  <thead>\n",
       "    <tr style=\"text-align: right;\">\n",
       "      <th></th>\n",
       "      <th>job_id</th>\n",
       "    </tr>\n",
       "    <tr>\n",
       "      <th>company</th>\n",
       "      <th></th>\n",
       "    </tr>\n",
       "  </thead>\n",
       "  <tbody>\n",
       "    <tr>\n",
       "      <th>Company Undisclosed</th>\n",
       "      <td>147</td>\n",
       "    </tr>\n",
       "    <tr>\n",
       "      <th>DBS BANK LTD.</th>\n",
       "      <td>62</td>\n",
       "    </tr>\n",
       "    <tr>\n",
       "      <th>MACHSPEED HUMAN RESOURCES PTE. LTD.</th>\n",
       "      <td>32</td>\n",
       "    </tr>\n",
       "    <tr>\n",
       "      <th>KERRY CONSULTING PTE. LTD.</th>\n",
       "      <td>27</td>\n",
       "    </tr>\n",
       "    <tr>\n",
       "      <th>GOVERNMENT TECHNOLOGY AGENCY</th>\n",
       "      <td>27</td>\n",
       "    </tr>\n",
       "    <tr>\n",
       "      <th>BLUECHIP PLATFORMS ASIA PTE. LTD.</th>\n",
       "      <td>26</td>\n",
       "    </tr>\n",
       "    <tr>\n",
       "      <th>OVERSEACHINESE BANKING CORPORATION LIMITED</th>\n",
       "      <td>25</td>\n",
       "    </tr>\n",
       "    <tr>\n",
       "      <th>A*STAR RESEARCH ENTITIES</th>\n",
       "      <td>25</td>\n",
       "    </tr>\n",
       "    <tr>\n",
       "      <th>NATIONAL UNIVERSITY OF SINGAPORE</th>\n",
       "      <td>20</td>\n",
       "    </tr>\n",
       "    <tr>\n",
       "      <th>GOOGLE ASIA PACIFIC PTE. LTD.</th>\n",
       "      <td>19</td>\n",
       "    </tr>\n",
       "    <tr>\n",
       "      <th>TANGSPAC CONSULTING PTE LTD</th>\n",
       "      <td>16</td>\n",
       "    </tr>\n",
       "    <tr>\n",
       "      <th>D L RESOURCES PTE LTD</th>\n",
       "      <td>16</td>\n",
       "    </tr>\n",
       "    <tr>\n",
       "      <th>MANPOWER STAFFING SERVICES (SINGAPORE) PTE LTD</th>\n",
       "      <td>16</td>\n",
       "    </tr>\n",
       "    <tr>\n",
       "      <th>CITIBANK N.A.</th>\n",
       "      <td>15</td>\n",
       "    </tr>\n",
       "    <tr>\n",
       "      <th>TRAVELOKA SERVICES PTE. LTD.</th>\n",
       "      <td>15</td>\n",
       "    </tr>\n",
       "    <tr>\n",
       "      <th>ALEXANDER MANN BPO SOLUTIONS (SINGAPORE) PTE. LTD.</th>\n",
       "      <td>14</td>\n",
       "    </tr>\n",
       "    <tr>\n",
       "      <th>PRIMESTAFF MANAGEMENT SERVICES PTE LTD</th>\n",
       "      <td>13</td>\n",
       "    </tr>\n",
       "    <tr>\n",
       "      <th>OPTIMUM SOLUTIONS (SINGAPORE) PTE LTD</th>\n",
       "      <td>12</td>\n",
       "    </tr>\n",
       "    <tr>\n",
       "      <th>PERSONNEL LINK JOBHUB PTE. LTD.</th>\n",
       "      <td>12</td>\n",
       "    </tr>\n",
       "    <tr>\n",
       "      <th>STARHUB LTD.</th>\n",
       "      <td>11</td>\n",
       "    </tr>\n",
       "  </tbody>\n",
       "</table>\n",
       "</div>"
      ],
      "text/plain": [
       "                                                    job_id\n",
       "company                                                   \n",
       "Company Undisclosed                                    147\n",
       "DBS BANK LTD.                                           62\n",
       "MACHSPEED HUMAN RESOURCES PTE. LTD.                     32\n",
       "KERRY CONSULTING PTE. LTD.                              27\n",
       "GOVERNMENT TECHNOLOGY AGENCY                            27\n",
       "BLUECHIP PLATFORMS ASIA PTE. LTD.                       26\n",
       "OVERSEACHINESE BANKING CORPORATION LIMITED              25\n",
       "A*STAR RESEARCH ENTITIES                                25\n",
       "NATIONAL UNIVERSITY OF SINGAPORE                        20\n",
       "GOOGLE ASIA PACIFIC PTE. LTD.                           19\n",
       "TANGSPAC CONSULTING PTE LTD                             16\n",
       "D L RESOURCES PTE LTD                                   16\n",
       "MANPOWER STAFFING SERVICES (SINGAPORE) PTE LTD          16\n",
       "CITIBANK N.A.                                           15\n",
       "TRAVELOKA SERVICES PTE. LTD.                            15\n",
       "ALEXANDER MANN BPO SOLUTIONS (SINGAPORE) PTE. LTD.      14\n",
       "PRIMESTAFF MANAGEMENT SERVICES PTE LTD                  13\n",
       "OPTIMUM SOLUTIONS (SINGAPORE) PTE LTD                   12\n",
       "PERSONNEL LINK JOBHUB PTE. LTD.                         12\n",
       "STARHUB LTD.                                            11"
      ]
     },
     "execution_count": 3,
     "metadata": {},
     "output_type": "execute_result"
    }
   ],
   "source": [
    "# Top 20 companies by number of jobs\n",
    "\n",
    "jobs_raw.groupby('company').agg({\"job_id\":\"count\"}).sort_values(by='job_id',ascending=False).head(20)"
   ]
  },
  {
   "cell_type": "markdown",
   "metadata": {},
   "source": [
    "# Data pre-processing"
   ]
  },
  {
   "cell_type": "code",
   "execution_count": 4,
   "metadata": {},
   "outputs": [
    {
     "data": {
      "text/plain": [
       "data_role_category\n",
       "analyst           1218\n",
       "data engineer      122\n",
       "data scientist     106\n",
       "other              316\n",
       "dtype: int64"
      ]
     },
     "execution_count": 4,
     "metadata": {},
     "output_type": "execute_result"
    }
   ],
   "source": [
    "# identifying job category based on title: ANALYST vs DATA ENGINEER vs DATA SCIENTIST\n",
    "\n",
    "jobs = jobs_raw.copy()\n",
    "\n",
    "def data_role_condition(val):\n",
    "    if 'analy' in val: \n",
    "        return 'analyst'\n",
    "    elif 'data scientist' in val or 'data science' in val or 'machine learn' in val or 'ml' in val or 'ai ' in val: \n",
    "        return 'data scientist'\n",
    "    elif 'data' in val and 'engineer' in val:\n",
    "        return 'data engineer'\n",
    "    else: \n",
    "        return 'other'\n",
    "\n",
    "jobs['data_role_category'] = [data_role_condition(val.lower()) for val in jobs['title']]\n",
    "\n",
    "jobs.groupby('data_role_category').size()"
   ]
  },
  {
   "cell_type": "code",
   "execution_count": 5,
   "metadata": {},
   "outputs": [
    {
     "data": {
      "text/html": [
       "<div>\n",
       "<style scoped>\n",
       "    .dataframe tbody tr th:only-of-type {\n",
       "        vertical-align: middle;\n",
       "    }\n",
       "\n",
       "    .dataframe tbody tr th {\n",
       "        vertical-align: top;\n",
       "    }\n",
       "\n",
       "    .dataframe thead th {\n",
       "        text-align: right;\n",
       "    }\n",
       "</style>\n",
       "<table border=\"1\" class=\"dataframe\">\n",
       "  <thead>\n",
       "    <tr style=\"text-align: right;\">\n",
       "      <th></th>\n",
       "      <th>job_id</th>\n",
       "      <th>company</th>\n",
       "      <th>title</th>\n",
       "      <th>location</th>\n",
       "      <th>description</th>\n",
       "      <th>last_posted_date</th>\n",
       "      <th>closing_date</th>\n",
       "      <th>seniority</th>\n",
       "      <th>employment_type</th>\n",
       "      <th>num_of_applications</th>\n",
       "      <th>company_info</th>\n",
       "      <th>salary_range</th>\n",
       "      <th>url</th>\n",
       "      <th>requirement</th>\n",
       "      <th>industry</th>\n",
       "      <th>data_role_category</th>\n",
       "      <th>salary_low</th>\n",
       "      <th>salary_high</th>\n",
       "    </tr>\n",
       "  </thead>\n",
       "  <tbody>\n",
       "    <tr>\n",
       "      <th>0</th>\n",
       "      <td>JOB-2019-0089288</td>\n",
       "      <td>IBM SINGAPORE PTE LTD</td>\n",
       "      <td>Finance Analyst</td>\n",
       "      <td>IBM PLACE, 9 CHANGI BUSINESS PARK CENTRAL 1 48...</td>\n",
       "      <td>The analyst role is responsible for the analys...</td>\n",
       "      <td>Posted 26 Apr 2019</td>\n",
       "      <td>Closing on 26 May 2019</td>\n",
       "      <td>Professional</td>\n",
       "      <td>Permanent, Full Time</td>\n",
       "      <td>6 applications</td>\n",
       "      <td>At IBM, we strive to lead in the creation, dev...</td>\n",
       "      <td>, $4,000to$5,500, $4,000, to$5,500, Monthly, ...</td>\n",
       "      <td>https://www.mycareersfuture.sg/job/finance-ana...</td>\n",
       "      <td>4 years Experience in FinanceAccounting Audit...</td>\n",
       "      <td>Information Technology</td>\n",
       "      <td>analyst</td>\n",
       "      <td>4000.0</td>\n",
       "      <td>5500.0</td>\n",
       "    </tr>\n",
       "    <tr>\n",
       "      <th>1</th>\n",
       "      <td>JOB-2019-0089172</td>\n",
       "      <td>ROBERT WALTERS (SINGAPORE) PTE LTD</td>\n",
       "      <td>Client Onboarding Analyst</td>\n",
       "      <td>6 BATTERY ROAD 049909</td>\n",
       "      <td>An exciting 6 month Client Onboarding Analyst ...</td>\n",
       "      <td>Posted 26 Apr 2019</td>\n",
       "      <td>Closing on 10 May 2019</td>\n",
       "      <td>Executive</td>\n",
       "      <td>Temporary, Contract</td>\n",
       "      <td>1 application</td>\n",
       "      <td>ROBERT WALTERS (SINGAPORE) PTE LTD\\nRobert Wal...</td>\n",
       "      <td>Recruiter, , $5,000to$6,000, $5,000, to$6,000...</td>\n",
       "      <td>https://www.mycareersfuture.sg/job/client-onbo...</td>\n",
       "      <td>To succeed in this Client Onboarding environme...</td>\n",
       "      <td>Banking and Finance</td>\n",
       "      <td>analyst</td>\n",
       "      <td>5000.0</td>\n",
       "      <td>6000.0</td>\n",
       "    </tr>\n",
       "    <tr>\n",
       "      <th>2</th>\n",
       "      <td>JOB-2019-0088785</td>\n",
       "      <td>DRIVER TRETT (SINGAPORE) PTE. LTD.</td>\n",
       "      <td>Delay Analyst (Consultant  Senior Consultant l...</td>\n",
       "      <td>NaN</td>\n",
       "      <td>Driver Trett have a strong presence globally a...</td>\n",
       "      <td>Posted 26 Apr 2019</td>\n",
       "      <td>Closing on 25 May 2019</td>\n",
       "      <td>Professional</td>\n",
       "      <td>Full Time</td>\n",
       "      <td>1 application</td>\n",
       "      <td>Driver Group Plc is a cutting edge, multidisci...</td>\n",
       "      <td>, $7,500to$14,000, $7,500, to$14,000, Monthly...</td>\n",
       "      <td>https://www.mycareersfuture.sg/job/delay-analy...</td>\n",
       "      <td>Qualifications  Requirements  Bachelor’s degre...</td>\n",
       "      <td>Consulting</td>\n",
       "      <td>analyst</td>\n",
       "      <td>7500.0</td>\n",
       "      <td>14000.0</td>\n",
       "    </tr>\n",
       "    <tr>\n",
       "      <th>3</th>\n",
       "      <td>JOB-2019-0090078</td>\n",
       "      <td>AMAZON ASIAPACIFIC HOLDINGS PRIVATE LIMITED</td>\n",
       "      <td>Senior Finance Analyst</td>\n",
       "      <td>AIA TOWER, 1 ROBINSON ROAD 048542</td>\n",
       "      <td>At Amazon, were working to be the most custome...</td>\n",
       "      <td>Posted 26 Apr 2019</td>\n",
       "      <td>Closing on 26 May 2019</td>\n",
       "      <td>Manager</td>\n",
       "      <td>Permanent</td>\n",
       "      <td>4 applications</td>\n",
       "      <td>AMAZON ASIAPACIFIC HOLDINGS PRIVATE LIMITED...</td>\n",
       "      <td>, Salary undisclosed, , Closing on 26 May 2019</td>\n",
       "      <td>https://www.mycareersfuture.sg/job/senior-fina...</td>\n",
       "      <td>Create financial modelssensitivities for futur...</td>\n",
       "      <td>Others</td>\n",
       "      <td>analyst</td>\n",
       "      <td>NaN</td>\n",
       "      <td>NaN</td>\n",
       "    </tr>\n",
       "    <tr>\n",
       "      <th>4</th>\n",
       "      <td>JOB-2019-0090054</td>\n",
       "      <td>METEORITE INFORMATICS PTE. LTD.</td>\n",
       "      <td>Senior Business Analyst</td>\n",
       "      <td>VIVA BUSINESS PARK, 750C CHAI CHEE ROAD 469003</td>\n",
       "      <td>Scope of Work for Senior System AnalystTeam Le...</td>\n",
       "      <td>Posted 26 Apr 2019</td>\n",
       "      <td>Closing on 26 May 2019</td>\n",
       "      <td>Professional</td>\n",
       "      <td>Full Time</td>\n",
       "      <td>1 application</td>\n",
       "      <td>METEORITE INFORMATICS(MI) is a Singapore based...</td>\n",
       "      <td>, $5,000to$6,000, $5,000, to$6,000, Monthly, ...</td>\n",
       "      <td>https://www.mycareersfuture.sg/job/senior-busi...</td>\n",
       "      <td>Pre-requisite for Senior System AnalystTeam Le...</td>\n",
       "      <td>Information Technology</td>\n",
       "      <td>analyst</td>\n",
       "      <td>5000.0</td>\n",
       "      <td>6000.0</td>\n",
       "    </tr>\n",
       "  </tbody>\n",
       "</table>\n",
       "</div>"
      ],
      "text/plain": [
       "               job_id                                      company  \\\n",
       "0   JOB-2019-0089288                         IBM SINGAPORE PTE LTD   \n",
       "1   JOB-2019-0089172            ROBERT WALTERS (SINGAPORE) PTE LTD   \n",
       "2   JOB-2019-0088785            DRIVER TRETT (SINGAPORE) PTE. LTD.   \n",
       "3   JOB-2019-0090078   AMAZON ASIAPACIFIC HOLDINGS PRIVATE LIMITED   \n",
       "4   JOB-2019-0090054               METEORITE INFORMATICS PTE. LTD.   \n",
       "\n",
       "                                               title  \\\n",
       "0                                    Finance Analyst   \n",
       "1                          Client Onboarding Analyst   \n",
       "2  Delay Analyst (Consultant  Senior Consultant l...   \n",
       "3                             Senior Finance Analyst   \n",
       "4                            Senior Business Analyst   \n",
       "\n",
       "                                            location  \\\n",
       "0  IBM PLACE, 9 CHANGI BUSINESS PARK CENTRAL 1 48...   \n",
       "1                              6 BATTERY ROAD 049909   \n",
       "2                                                NaN   \n",
       "3                  AIA TOWER, 1 ROBINSON ROAD 048542   \n",
       "4     VIVA BUSINESS PARK, 750C CHAI CHEE ROAD 469003   \n",
       "\n",
       "                                         description    last_posted_date  \\\n",
       "0  The analyst role is responsible for the analys...  Posted 26 Apr 2019   \n",
       "1  An exciting 6 month Client Onboarding Analyst ...  Posted 26 Apr 2019   \n",
       "2  Driver Trett have a strong presence globally a...  Posted 26 Apr 2019   \n",
       "3  At Amazon, were working to be the most custome...  Posted 26 Apr 2019   \n",
       "4  Scope of Work for Senior System AnalystTeam Le...  Posted 26 Apr 2019   \n",
       "\n",
       "             closing_date     seniority       employment_type  \\\n",
       "0  Closing on 26 May 2019  Professional  Permanent, Full Time   \n",
       "1  Closing on 10 May 2019     Executive   Temporary, Contract   \n",
       "2  Closing on 25 May 2019  Professional             Full Time   \n",
       "3  Closing on 26 May 2019       Manager             Permanent   \n",
       "4  Closing on 26 May 2019  Professional             Full Time   \n",
       "\n",
       "  num_of_applications                                       company_info  \\\n",
       "0      6 applications  At IBM, we strive to lead in the creation, dev...   \n",
       "1       1 application  ROBERT WALTERS (SINGAPORE) PTE LTD\\nRobert Wal...   \n",
       "2       1 application  Driver Group Plc is a cutting edge, multidisci...   \n",
       "3      4 applications     AMAZON ASIAPACIFIC HOLDINGS PRIVATE LIMITED...   \n",
       "4       1 application  METEORITE INFORMATICS(MI) is a Singapore based...   \n",
       "\n",
       "                                        salary_range  \\\n",
       "0   , $4,000to$5,500, $4,000, to$5,500, Monthly, ...   \n",
       "1   Recruiter, , $5,000to$6,000, $5,000, to$6,000...   \n",
       "2   , $7,500to$14,000, $7,500, to$14,000, Monthly...   \n",
       "3     , Salary undisclosed, , Closing on 26 May 2019   \n",
       "4   , $5,000to$6,000, $5,000, to$6,000, Monthly, ...   \n",
       "\n",
       "                                                 url  \\\n",
       "0  https://www.mycareersfuture.sg/job/finance-ana...   \n",
       "1  https://www.mycareersfuture.sg/job/client-onbo...   \n",
       "2  https://www.mycareersfuture.sg/job/delay-analy...   \n",
       "3  https://www.mycareersfuture.sg/job/senior-fina...   \n",
       "4  https://www.mycareersfuture.sg/job/senior-busi...   \n",
       "\n",
       "                                         requirement                industry  \\\n",
       "0   4 years Experience in FinanceAccounting Audit...  Information Technology   \n",
       "1  To succeed in this Client Onboarding environme...     Banking and Finance   \n",
       "2  Qualifications  Requirements  Bachelor’s degre...             Consulting    \n",
       "3  Create financial modelssensitivities for futur...                  Others   \n",
       "4  Pre-requisite for Senior System AnalystTeam Le...  Information Technology   \n",
       "\n",
       "  data_role_category  salary_low  salary_high  \n",
       "0            analyst      4000.0       5500.0  \n",
       "1            analyst      5000.0       6000.0  \n",
       "2            analyst      7500.0      14000.0  \n",
       "3            analyst         NaN          NaN  \n",
       "4            analyst      5000.0       6000.0  "
      ]
     },
     "execution_count": 5,
     "metadata": {},
     "output_type": "execute_result"
    }
   ],
   "source": [
    "# extract SALARY using regex\n",
    "\n",
    "salary_low = []\n",
    "salary_high = []\n",
    "for index,txt in enumerate(jobs['salary_range']):\n",
    "    try: \n",
    "        # extracting minimum expected salary from the range\n",
    "        salary_low.append(int(re.findall(\"\\d+,\\d+\", txt)[0].replace(\",\",\"\")))\n",
    "    except:\n",
    "        salary_low.append(None)\n",
    "        \n",
    "    try:\n",
    "        # extracting maximum expected salary from the range\n",
    "        salary_high.append(int(re.findall(\"\\d+,\\d+\", txt)[1].replace(\",\",\"\")))\n",
    "    except:\n",
    "        salary_high.append(None)\n",
    "\n",
    "jobs['salary_low'] = salary_low\n",
    "jobs['salary_high'] = salary_high\n",
    "\n",
    "jobs.head()"
   ]
  },
  {
   "cell_type": "code",
   "execution_count": 6,
   "metadata": {},
   "outputs": [
    {
     "data": {
      "image/png": "[encoded data removed]",
      "text/plain": [
       "<Figure size 720x360 with 1 Axes>"
      ]
     },
     "metadata": {
      "needs_background": "light"
     },
     "output_type": "display_data"
    }
   ],
   "source": [
    "fig,ax = plt.subplots(figsize=(10,5))\n",
    "jobs[jobs['data_role_category']!='other'].groupby('data_role_category').median()[['salary_low','salary_high']].plot(ax=ax)\n",
    "plt.title('Comparing Salary Range for each Data Role',fontsize=20)\n",
    "plt.xlabel('Data Role',fontsize=14)\n",
    "plt.ylabel('Monthly Salary (SGD)',fontsize=14)\n",
    "plt.show()"
   ]
  },
  {
   "cell_type": "code",
   "execution_count": 7,
   "metadata": {},
   "outputs": [
    {
     "data": {
      "text/plain": [
       "annual_monthly\n",
       "1.0       55\n",
       "12.0    1538\n",
       "dtype: int64"
      ]
     },
     "execution_count": 7,
     "metadata": {},
     "output_type": "execute_result"
    }
   ],
   "source": [
    "# is it MONTHLY salary or ANNUAL salary posted?\n",
    "\n",
    "jobs['annual_monthly'] = [re.findall(\"[A-Za-z]+[ly]\", txt)[0] for txt in jobs['salary_range'] ]\n",
    "jobs['annual_monthly'] = [12 if val == 'Monthly' else (1 if val =='Annually' else None) for val in jobs['annual_monthly'] ]\n",
    "jobs.groupby('annual_monthly').size()"
   ]
  },
  {
   "cell_type": "code",
   "execution_count": 8,
   "metadata": {},
   "outputs": [
    {
     "data": {
      "text/html": [
       "<div>\n",
       "<style scoped>\n",
       "    .dataframe tbody tr th:only-of-type {\n",
       "        vertical-align: middle;\n",
       "    }\n",
       "\n",
       "    .dataframe tbody tr th {\n",
       "        vertical-align: top;\n",
       "    }\n",
       "\n",
       "    .dataframe thead th {\n",
       "        text-align: right;\n",
       "    }\n",
       "</style>\n",
       "<table border=\"1\" class=\"dataframe\">\n",
       "  <thead>\n",
       "    <tr style=\"text-align: right;\">\n",
       "      <th></th>\n",
       "      <th>job_id</th>\n",
       "      <th>company</th>\n",
       "      <th>title</th>\n",
       "      <th>location</th>\n",
       "      <th>description</th>\n",
       "      <th>last_posted_date</th>\n",
       "      <th>closing_date</th>\n",
       "      <th>seniority</th>\n",
       "      <th>employment_type</th>\n",
       "      <th>num_of_applications</th>\n",
       "      <th>...</th>\n",
       "      <th>salary_range</th>\n",
       "      <th>url</th>\n",
       "      <th>requirement</th>\n",
       "      <th>industry</th>\n",
       "      <th>data_role_category</th>\n",
       "      <th>salary_low</th>\n",
       "      <th>salary_high</th>\n",
       "      <th>annual_monthly</th>\n",
       "      <th>annual_salary_low</th>\n",
       "      <th>annual_salary_high</th>\n",
       "    </tr>\n",
       "  </thead>\n",
       "  <tbody>\n",
       "    <tr>\n",
       "      <th>0</th>\n",
       "      <td>JOB-2019-0089288</td>\n",
       "      <td>IBM SINGAPORE PTE LTD</td>\n",
       "      <td>Finance Analyst</td>\n",
       "      <td>IBM PLACE, 9 CHANGI BUSINESS PARK CENTRAL 1 48...</td>\n",
       "      <td>The analyst role is responsible for the analys...</td>\n",
       "      <td>Posted 26 Apr 2019</td>\n",
       "      <td>Closing on 26 May 2019</td>\n",
       "      <td>Professional</td>\n",
       "      <td>Permanent, Full Time</td>\n",
       "      <td>6 applications</td>\n",
       "      <td>...</td>\n",
       "      <td>, $4,000to$5,500, $4,000, to$5,500, Monthly, ...</td>\n",
       "      <td>https://www.mycareersfuture.sg/job/finance-ana...</td>\n",
       "      <td>4 years Experience in FinanceAccounting Audit...</td>\n",
       "      <td>Information Technology</td>\n",
       "      <td>analyst</td>\n",
       "      <td>4000.0</td>\n",
       "      <td>5500.0</td>\n",
       "      <td>12.0</td>\n",
       "      <td>48000</td>\n",
       "      <td>66000</td>\n",
       "    </tr>\n",
       "    <tr>\n",
       "      <th>1</th>\n",
       "      <td>JOB-2019-0089172</td>\n",
       "      <td>ROBERT WALTERS (SINGAPORE) PTE LTD</td>\n",
       "      <td>Client Onboarding Analyst</td>\n",
       "      <td>6 BATTERY ROAD 049909</td>\n",
       "      <td>An exciting 6 month Client Onboarding Analyst ...</td>\n",
       "      <td>Posted 26 Apr 2019</td>\n",
       "      <td>Closing on 10 May 2019</td>\n",
       "      <td>Executive</td>\n",
       "      <td>Temporary, Contract</td>\n",
       "      <td>1 application</td>\n",
       "      <td>...</td>\n",
       "      <td>Recruiter, , $5,000to$6,000, $5,000, to$6,000...</td>\n",
       "      <td>https://www.mycareersfuture.sg/job/client-onbo...</td>\n",
       "      <td>To succeed in this Client Onboarding environme...</td>\n",
       "      <td>Banking and Finance</td>\n",
       "      <td>analyst</td>\n",
       "      <td>5000.0</td>\n",
       "      <td>6000.0</td>\n",
       "      <td>12.0</td>\n",
       "      <td>60000</td>\n",
       "      <td>72000</td>\n",
       "    </tr>\n",
       "    <tr>\n",
       "      <th>2</th>\n",
       "      <td>JOB-2019-0088785</td>\n",
       "      <td>DRIVER TRETT (SINGAPORE) PTE. LTD.</td>\n",
       "      <td>Delay Analyst (Consultant  Senior Consultant l...</td>\n",
       "      <td>NaN</td>\n",
       "      <td>Driver Trett have a strong presence globally a...</td>\n",
       "      <td>Posted 26 Apr 2019</td>\n",
       "      <td>Closing on 25 May 2019</td>\n",
       "      <td>Professional</td>\n",
       "      <td>Full Time</td>\n",
       "      <td>1 application</td>\n",
       "      <td>...</td>\n",
       "      <td>, $7,500to$14,000, $7,500, to$14,000, Monthly...</td>\n",
       "      <td>https://www.mycareersfuture.sg/job/delay-analy...</td>\n",
       "      <td>Qualifications  Requirements  Bachelor’s degre...</td>\n",
       "      <td>Consulting</td>\n",
       "      <td>analyst</td>\n",
       "      <td>7500.0</td>\n",
       "      <td>14000.0</td>\n",
       "      <td>12.0</td>\n",
       "      <td>90000</td>\n",
       "      <td>168000</td>\n",
       "    </tr>\n",
       "    <tr>\n",
       "      <th>3</th>\n",
       "      <td>JOB-2019-0090054</td>\n",
       "      <td>METEORITE INFORMATICS PTE. LTD.</td>\n",
       "      <td>Senior Business Analyst</td>\n",
       "      <td>VIVA BUSINESS PARK, 750C CHAI CHEE ROAD 469003</td>\n",
       "      <td>Scope of Work for Senior System AnalystTeam Le...</td>\n",
       "      <td>Posted 26 Apr 2019</td>\n",
       "      <td>Closing on 26 May 2019</td>\n",
       "      <td>Professional</td>\n",
       "      <td>Full Time</td>\n",
       "      <td>1 application</td>\n",
       "      <td>...</td>\n",
       "      <td>, $5,000to$6,000, $5,000, to$6,000, Monthly, ...</td>\n",
       "      <td>https://www.mycareersfuture.sg/job/senior-busi...</td>\n",
       "      <td>Pre-requisite for Senior System AnalystTeam Le...</td>\n",
       "      <td>Information Technology</td>\n",
       "      <td>analyst</td>\n",
       "      <td>5000.0</td>\n",
       "      <td>6000.0</td>\n",
       "      <td>12.0</td>\n",
       "      <td>60000</td>\n",
       "      <td>72000</td>\n",
       "    </tr>\n",
       "    <tr>\n",
       "      <th>4</th>\n",
       "      <td>JOB-2019-0089085</td>\n",
       "      <td>GOOGLE ASIA PACIFIC PTE. LTD.</td>\n",
       "      <td>Publisher Intelligence Analyst, Online Partner...</td>\n",
       "      <td>MARINA BAY FINANCIAL CENTRE, 8 MARINA BOULEVAR...</td>\n",
       "      <td>Company overview Google is not a conventional ...</td>\n",
       "      <td>Posted 26 Apr 2019</td>\n",
       "      <td>Closing on 26 May 2019</td>\n",
       "      <td>Junior Executive</td>\n",
       "      <td>Full Time</td>\n",
       "      <td>1 application</td>\n",
       "      <td>...</td>\n",
       "      <td>, $5,700to$11,400, $5,700, to$11,400, Monthly...</td>\n",
       "      <td>https://www.mycareersfuture.sg/job/publisher-i...</td>\n",
       "      <td>Minimum qualifications - BABS degree or equiva...</td>\n",
       "      <td>Sales / Retail</td>\n",
       "      <td>analyst</td>\n",
       "      <td>5700.0</td>\n",
       "      <td>11400.0</td>\n",
       "      <td>12.0</td>\n",
       "      <td>68400</td>\n",
       "      <td>136800</td>\n",
       "    </tr>\n",
       "  </tbody>\n",
       "</table>\n",
       "<p>5 rows × 21 columns</p>\n",
       "</div>"
      ],
      "text/plain": [
       "               job_id                             company  \\\n",
       "0   JOB-2019-0089288                IBM SINGAPORE PTE LTD   \n",
       "1   JOB-2019-0089172   ROBERT WALTERS (SINGAPORE) PTE LTD   \n",
       "2   JOB-2019-0088785   DRIVER TRETT (SINGAPORE) PTE. LTD.   \n",
       "3   JOB-2019-0090054      METEORITE INFORMATICS PTE. LTD.   \n",
       "4   JOB-2019-0089085        GOOGLE ASIA PACIFIC PTE. LTD.   \n",
       "\n",
       "                                               title  \\\n",
       "0                                    Finance Analyst   \n",
       "1                          Client Onboarding Analyst   \n",
       "2  Delay Analyst (Consultant  Senior Consultant l...   \n",
       "3                            Senior Business Analyst   \n",
       "4  Publisher Intelligence Analyst, Online Partner...   \n",
       "\n",
       "                                            location  \\\n",
       "0  IBM PLACE, 9 CHANGI BUSINESS PARK CENTRAL 1 48...   \n",
       "1                              6 BATTERY ROAD 049909   \n",
       "2                                                NaN   \n",
       "3     VIVA BUSINESS PARK, 750C CHAI CHEE ROAD 469003   \n",
       "4  MARINA BAY FINANCIAL CENTRE, 8 MARINA BOULEVAR...   \n",
       "\n",
       "                                         description    last_posted_date  \\\n",
       "0  The analyst role is responsible for the analys...  Posted 26 Apr 2019   \n",
       "1  An exciting 6 month Client Onboarding Analyst ...  Posted 26 Apr 2019   \n",
       "2  Driver Trett have a strong presence globally a...  Posted 26 Apr 2019   \n",
       "3  Scope of Work for Senior System AnalystTeam Le...  Posted 26 Apr 2019   \n",
       "4  Company overview Google is not a conventional ...  Posted 26 Apr 2019   \n",
       "\n",
       "             closing_date         seniority       employment_type  \\\n",
       "0  Closing on 26 May 2019      Professional  Permanent, Full Time   \n",
       "1  Closing on 10 May 2019         Executive   Temporary, Contract   \n",
       "2  Closing on 25 May 2019      Professional             Full Time   \n",
       "3  Closing on 26 May 2019      Professional             Full Time   \n",
       "4  Closing on 26 May 2019  Junior Executive             Full Time   \n",
       "\n",
       "  num_of_applications  ...                                       salary_range  \\\n",
       "0      6 applications  ...   , $4,000to$5,500, $4,000, to$5,500, Monthly, ...   \n",
       "1       1 application  ...   Recruiter, , $5,000to$6,000, $5,000, to$6,000...   \n",
       "2       1 application  ...   , $7,500to$14,000, $7,500, to$14,000, Monthly...   \n",
       "3       1 application  ...   , $5,000to$6,000, $5,000, to$6,000, Monthly, ...   \n",
       "4       1 application  ...   , $5,700to$11,400, $5,700, to$11,400, Monthly...   \n",
       "\n",
       "                                                 url  \\\n",
       "0  https://www.mycareersfuture.sg/job/finance-ana...   \n",
       "1  https://www.mycareersfuture.sg/job/client-onbo...   \n",
       "2  https://www.mycareersfuture.sg/job/delay-analy...   \n",
       "3  https://www.mycareersfuture.sg/job/senior-busi...   \n",
       "4  https://www.mycareersfuture.sg/job/publisher-i...   \n",
       "\n",
       "                                         requirement                industry  \\\n",
       "0   4 years Experience in FinanceAccounting Audit...  Information Technology   \n",
       "1  To succeed in this Client Onboarding environme...     Banking and Finance   \n",
       "2  Qualifications  Requirements  Bachelor’s degre...             Consulting    \n",
       "3  Pre-requisite for Senior System AnalystTeam Le...  Information Technology   \n",
       "4  Minimum qualifications - BABS degree or equiva...         Sales / Retail    \n",
       "\n",
       "  data_role_category salary_low  salary_high  annual_monthly  \\\n",
       "0            analyst     4000.0       5500.0            12.0   \n",
       "1            analyst     5000.0       6000.0            12.0   \n",
       "2            analyst     7500.0      14000.0            12.0   \n",
       "3            analyst     5000.0       6000.0            12.0   \n",
       "4            analyst     5700.0      11400.0            12.0   \n",
       "\n",
       "   annual_salary_low  annual_salary_high  \n",
       "0              48000               66000  \n",
       "1              60000               72000  \n",
       "2              90000              168000  \n",
       "3              60000               72000  \n",
       "4              68400              136800  \n",
       "\n",
       "[5 rows x 21 columns]"
      ]
     },
     "execution_count": 8,
     "metadata": {},
     "output_type": "execute_result"
    }
   ],
   "source": [
    "# convert all to ANNUAL salary\n",
    "\n",
    "jobs['annual_salary_low'] = jobs['salary_low'].fillna(0).astype('int64',errors='ignore') \\\n",
    "                            * jobs['annual_monthly'].fillna(0).astype('int64',errors='ignore')\n",
    "jobs['annual_salary_high'] = jobs['salary_high'].fillna(0).astype('int64',errors='ignore') \\\n",
    "                            * jobs['annual_monthly'].fillna(0).astype('int64',errors='ignore')\n",
    "\n",
    "# dropping job postings with NO SALARY information\n",
    "\n",
    "jobs.dropna(subset=['annual_salary_low', 'annual_salary_high'],inplace=True)\n",
    "jobs.drop(jobs[jobs['annual_salary_low']==0].index,inplace=True)\n",
    "jobs.reset_index(drop=True,inplace=True)\n",
    "jobs.head()"
   ]
  },
  {
   "cell_type": "code",
   "execution_count": 9,
   "metadata": {},
   "outputs": [
    {
     "data": {
      "image/png": "[encoded data removed]",
      "text/plain": [
       "<Figure size 576x288 with 1 Axes>"
      ]
     },
     "metadata": {
      "needs_background": "light"
     },
     "output_type": "display_data"
    },
    {
     "data": {
      "image/png": "[encoded data removed]",
      "text/plain": [
       "<Figure size 576x288 with 1 Axes>"
      ]
     },
     "metadata": {
      "needs_background": "light"
     },
     "output_type": "display_data"
    }
   ],
   "source": [
    "# checking distribution of annual salary\n",
    "\n",
    "plt.figure(figsize=(8,4))\n",
    "jobs['annual_salary_low'].hist(bins=20,color='orange',alpha=0.8)\n",
    "plt.ylabel('Number of job postings',fontsize=14)\n",
    "plt.xlabel('Annual Salary - Min',fontsize=14)\n",
    "plt.title('Histogram for both minimum and maximum expected salary (annual SGD)',fontsize=14)\n",
    "plt.show();\n",
    "\n",
    "plt.figure(figsize=(8,4))\n",
    "jobs['annual_salary_high'].hist(bins=20,alpha=0.8)\n",
    "plt.ylabel('Number of job postings',fontsize=14)\n",
    "plt.xlabel('Annual Salary - High',fontsize=14)\n",
    "plt.show();"
   ]
  },
  {
   "cell_type": "code",
   "execution_count": 10,
   "metadata": {},
   "outputs": [
    {
     "data": {
      "text/plain": [
       "(1517, 21)"
      ]
     },
     "execution_count": 10,
     "metadata": {},
     "output_type": "execute_result"
    }
   ],
   "source": [
    "# excluding outliers\n",
    "\n",
    "IQR = jobs['annual_salary_low'].quantile(q=0.75) - jobs['annual_salary_low'].quantile(q=0.25) \n",
    "jobs = jobs[jobs['annual_salary_low'] <= jobs['annual_salary_low'].quantile(q=0.75) + 1.5*IQR]\n",
    "jobs.shape"
   ]
  },
  {
   "cell_type": "code",
   "execution_count": 11,
   "metadata": {},
   "outputs": [
    {
     "data": {
      "text/html": [
       "<div>\n",
       "<style scoped>\n",
       "    .dataframe tbody tr th:only-of-type {\n",
       "        vertical-align: middle;\n",
       "    }\n",
       "\n",
       "    .dataframe tbody tr th {\n",
       "        vertical-align: top;\n",
       "    }\n",
       "\n",
       "    .dataframe thead th {\n",
       "        text-align: right;\n",
       "    }\n",
       "</style>\n",
       "<table border=\"1\" class=\"dataframe\">\n",
       "  <thead>\n",
       "    <tr style=\"text-align: right;\">\n",
       "      <th></th>\n",
       "      <th>count</th>\n",
       "      <th>mean</th>\n",
       "      <th>std</th>\n",
       "      <th>min</th>\n",
       "      <th>25%</th>\n",
       "      <th>50%</th>\n",
       "      <th>75%</th>\n",
       "      <th>max</th>\n",
       "    </tr>\n",
       "  </thead>\n",
       "  <tbody>\n",
       "    <tr>\n",
       "      <th>annual_salary_low</th>\n",
       "      <td>1517.0</td>\n",
       "      <td>57973.719183</td>\n",
       "      <td>20571.801486</td>\n",
       "      <td>18000.0</td>\n",
       "      <td>42000.0</td>\n",
       "      <td>54996.0</td>\n",
       "      <td>72000.0</td>\n",
       "      <td>114000.0</td>\n",
       "    </tr>\n",
       "    <tr>\n",
       "      <th>annual_salary_high</th>\n",
       "      <td>1517.0</td>\n",
       "      <td>92068.369150</td>\n",
       "      <td>52362.703008</td>\n",
       "      <td>21600.0</td>\n",
       "      <td>62400.0</td>\n",
       "      <td>85200.0</td>\n",
       "      <td>108000.0</td>\n",
       "      <td>900000.0</td>\n",
       "    </tr>\n",
       "  </tbody>\n",
       "</table>\n",
       "</div>"
      ],
      "text/plain": [
       "                     count          mean           std      min      25%  \\\n",
       "annual_salary_low   1517.0  57973.719183  20571.801486  18000.0  42000.0   \n",
       "annual_salary_high  1517.0  92068.369150  52362.703008  21600.0  62400.0   \n",
       "\n",
       "                        50%       75%       max  \n",
       "annual_salary_low   54996.0   72000.0  114000.0  \n",
       "annual_salary_high  85200.0  108000.0  900000.0  "
      ]
     },
     "execution_count": 11,
     "metadata": {},
     "output_type": "execute_result"
    }
   ],
   "source": [
    "# summary of annual salary\n",
    "\n",
    "jobs[['annual_salary_low','annual_salary_high']].describe().T"
   ]
  },
  {
   "cell_type": "markdown",
   "metadata": {},
   "source": [
    "Looking at minimum expected annual salary, we see a median of 55k with a standard deviation of 20k.\n"
   ]
  },
  {
   "cell_type": "code",
   "execution_count": 12,
   "metadata": {},
   "outputs": [
    {
     "data": {
      "text/plain": [
       "[(None, None, '4year'),\n",
       " (None, 'three year', 'year'),\n",
       " (None, None, None),\n",
       " (None, None, '4year'),\n",
       " ('-2year', None, '2year'),\n",
       " (None, None, None),\n",
       " (None, None, None),\n",
       " (None, None, None),\n",
       " (None, None, '1year'),\n",
       " (None, None, None)]"
      ]
     },
     "execution_count": 12,
     "metadata": {},
     "output_type": "execute_result"
    }
   ],
   "source": [
    "# extracting YEAR OF EXPERIENCE required using regex - part 1\n",
    "def clean_requirement(text):\n",
    "    return text.replace(\" \",\"\").replace(\"+\",\"\")\n",
    "\n",
    "year_experience_1 = []\n",
    "year_experience_2 = []\n",
    "year_experience_3 = []\n",
    "for index,txt in enumerate(jobs['requirement']):\n",
    "    try:\n",
    "        year_experience_1.append(re.search(\"[0-9]*-[0-9]*year\", clean_requirement(txt)).group())\n",
    "    except:\n",
    "        year_experience_1.append(None)\n",
    "        \n",
    "    try:\n",
    "        year_experience_2.append(re.search(\"\\w+([a-n])\\w+ year\", txt).group())\n",
    "    except:\n",
    "        year_experience_2.append(None)\n",
    "        \n",
    "    try:\n",
    "        year_experience_3.append(re.search(\"[0-9]*year\", clean_requirement(txt)).group())\n",
    "    except:\n",
    "        year_experience_3.append(None)        \n",
    "    \n",
    "year_experience_combined = list(zip(year_experience_1,year_experience_2,year_experience_3))\n",
    "year_experience_combined[:10]"
   ]
  },
  {
   "cell_type": "code",
   "execution_count": 13,
   "metadata": {},
   "outputs": [
    {
     "data": {
      "text/html": [
       "<div>\n",
       "<style scoped>\n",
       "    .dataframe tbody tr th:only-of-type {\n",
       "        vertical-align: middle;\n",
       "    }\n",
       "\n",
       "    .dataframe tbody tr th {\n",
       "        vertical-align: top;\n",
       "    }\n",
       "\n",
       "    .dataframe thead th {\n",
       "        text-align: right;\n",
       "    }\n",
       "</style>\n",
       "<table border=\"1\" class=\"dataframe\">\n",
       "  <thead>\n",
       "    <tr style=\"text-align: right;\">\n",
       "      <th></th>\n",
       "      <th>job_id</th>\n",
       "      <th>annual_salary_low</th>\n",
       "    </tr>\n",
       "    <tr>\n",
       "      <th>year_experience_required</th>\n",
       "      <th></th>\n",
       "      <th></th>\n",
       "    </tr>\n",
       "  </thead>\n",
       "  <tbody>\n",
       "    <tr>\n",
       "      <th>0.0</th>\n",
       "      <td>7</td>\n",
       "      <td>53142.857143</td>\n",
       "    </tr>\n",
       "    <tr>\n",
       "      <th>1.0</th>\n",
       "      <td>92</td>\n",
       "      <td>41386.956522</td>\n",
       "    </tr>\n",
       "    <tr>\n",
       "      <th>2.0</th>\n",
       "      <td>206</td>\n",
       "      <td>46130.427184</td>\n",
       "    </tr>\n",
       "    <tr>\n",
       "      <th>3.0</th>\n",
       "      <td>215</td>\n",
       "      <td>58183.051163</td>\n",
       "    </tr>\n",
       "    <tr>\n",
       "      <th>4.0</th>\n",
       "      <td>61</td>\n",
       "      <td>64698.163934</td>\n",
       "    </tr>\n",
       "    <tr>\n",
       "      <th>5.0</th>\n",
       "      <td>172</td>\n",
       "      <td>65722.674419</td>\n",
       "    </tr>\n",
       "    <tr>\n",
       "      <th>6.0</th>\n",
       "      <td>33</td>\n",
       "      <td>78109.090909</td>\n",
       "    </tr>\n",
       "    <tr>\n",
       "      <th>7.0</th>\n",
       "      <td>26</td>\n",
       "      <td>78253.384615</td>\n",
       "    </tr>\n",
       "    <tr>\n",
       "      <th>8.0</th>\n",
       "      <td>39</td>\n",
       "      <td>78146.153846</td>\n",
       "    </tr>\n",
       "    <tr>\n",
       "      <th>9.0</th>\n",
       "      <td>4</td>\n",
       "      <td>82350.000000</td>\n",
       "    </tr>\n",
       "    <tr>\n",
       "      <th>10.0</th>\n",
       "      <td>41</td>\n",
       "      <td>83611.902439</td>\n",
       "    </tr>\n",
       "    <tr>\n",
       "      <th>15.0</th>\n",
       "      <td>1</td>\n",
       "      <td>80400.000000</td>\n",
       "    </tr>\n",
       "    <tr>\n",
       "      <th>46.0</th>\n",
       "      <td>1</td>\n",
       "      <td>60000.000000</td>\n",
       "    </tr>\n",
       "    <tr>\n",
       "      <th>160.0</th>\n",
       "      <td>1</td>\n",
       "      <td>27600.000000</td>\n",
       "    </tr>\n",
       "  </tbody>\n",
       "</table>\n",
       "</div>"
      ],
      "text/plain": [
       "                          job_id  annual_salary_low\n",
       "year_experience_required                           \n",
       "0.0                            7       53142.857143\n",
       "1.0                           92       41386.956522\n",
       "2.0                          206       46130.427184\n",
       "3.0                          215       58183.051163\n",
       "4.0                           61       64698.163934\n",
       "5.0                          172       65722.674419\n",
       "6.0                           33       78109.090909\n",
       "7.0                           26       78253.384615\n",
       "8.0                           39       78146.153846\n",
       "9.0                            4       82350.000000\n",
       "10.0                          41       83611.902439\n",
       "15.0                           1       80400.000000\n",
       "46.0                           1       60000.000000\n",
       "160.0                          1       27600.000000"
      ]
     },
     "execution_count": 13,
     "metadata": {},
     "output_type": "execute_result"
    }
   ],
   "source": [
    "# extracting year of experience required using regex - part 2\n",
    "\n",
    "def clean_string_number(x):\n",
    "    \"\"\" Clean up number of years that are written in text format\n",
    "        for example 'one' --> '1' \n",
    "        x is case-insenstive\n",
    "    \"\"\"\n",
    "    if x.lower()=='one': return '1'\n",
    "    elif x.lower()=='two': return '2'\n",
    "    elif x.lower()=='three': return '3'\n",
    "    elif x.lower()=='four': return '4'\n",
    "    elif x.lower()=='five': return '5'\n",
    "    elif x.lower()=='six': return '6'\n",
    "    elif x.lower()=='seven': return '7'\n",
    "    elif x.lower()=='eight': return '8'\n",
    "    elif x.lower()=='nine': return '9'\n",
    "    else: return x\n",
    "\n",
    "year_experience_clean = []\n",
    "\n",
    "for values in year_experience_combined:\n",
    "    if values[0] is not None and values[0].split(\"-\")[0] != '':\n",
    "        year_experience_clean.append(values[0].split(\"-\")[0])\n",
    "    elif values[1] is not None:\n",
    "        year_experience_clean.append(clean_string_number(values[1].replace(\" \",\"\").split('year')[0]))\n",
    "    elif values[2] is not None:\n",
    "        year_experience_clean.append(values[2].split('year')[0])\n",
    "    else:\n",
    "        year_experience_clean.append(None)\n",
    "list(zip(year_experience_1,year_experience_2,year_experience_3,year_experience_clean))\n",
    "\n",
    "year_experience_final = []\n",
    "\n",
    "for val in year_experience_clean:\n",
    "    try:\n",
    "        year_experience_final.append(int(val))\n",
    "    except:\n",
    "        year_experience_final.append(None)\n",
    "        \n",
    "jobs['year_experience_required'] = year_experience_final\n",
    "\n",
    "# a quick glance on average annual salary (lower boundary) by year of experience\n",
    "jobs.groupby('year_experience_required').agg({\"job_id\": \"count\",\"annual_salary_low\": \"mean\"})"
   ]
  },
  {
   "cell_type": "code",
   "execution_count": 14,
   "metadata": {},
   "outputs": [],
   "source": [
    "# remove YEAR OF EXPERIENCE outlier\n",
    "\n",
    "np.mean(jobs['year_experience_required']) + 1.5*(np.std(jobs['year_experience_required']))\n",
    "#10\n",
    "\n",
    "jobs['year_experience_required'] = [None if val > 15 else val for val in jobs['year_experience_required']]"
   ]
  },
  {
   "cell_type": "code",
   "execution_count": 15,
   "metadata": {},
   "outputs": [
    {
     "data": {
      "text/html": [
       "<div>\n",
       "<style scoped>\n",
       "    .dataframe tbody tr th:only-of-type {\n",
       "        vertical-align: middle;\n",
       "    }\n",
       "\n",
       "    .dataframe tbody tr th {\n",
       "        vertical-align: top;\n",
       "    }\n",
       "\n",
       "    .dataframe thead th {\n",
       "        text-align: right;\n",
       "    }\n",
       "</style>\n",
       "<table border=\"1\" class=\"dataframe\">\n",
       "  <thead>\n",
       "    <tr style=\"text-align: right;\">\n",
       "      <th></th>\n",
       "      <th>count</th>\n",
       "      <th>mean</th>\n",
       "      <th>std</th>\n",
       "      <th>min</th>\n",
       "      <th>25%</th>\n",
       "      <th>50%</th>\n",
       "      <th>75%</th>\n",
       "      <th>max</th>\n",
       "    </tr>\n",
       "  </thead>\n",
       "  <tbody>\n",
       "    <tr>\n",
       "      <th>year_experience_required</th>\n",
       "      <td>897.0</td>\n",
       "      <td>3.797101</td>\n",
       "      <td>2.314809</td>\n",
       "      <td>0.0</td>\n",
       "      <td>2.0</td>\n",
       "      <td>3.0</td>\n",
       "      <td>5.0</td>\n",
       "      <td>15.0</td>\n",
       "    </tr>\n",
       "  </tbody>\n",
       "</table>\n",
       "</div>"
      ],
      "text/plain": [
       "                          count      mean       std  min  25%  50%  75%   max\n",
       "year_experience_required  897.0  3.797101  2.314809  0.0  2.0  3.0  5.0  15.0"
      ]
     },
     "execution_count": 15,
     "metadata": {},
     "output_type": "execute_result"
    }
   ],
   "source": [
    "# summary of minimum experience\n",
    "pd.DataFrame(jobs['year_experience_required'].describe()).T\n",
    "\n",
    "# standard deviation = 3\n",
    "# mean = 2.31"
   ]
  },
  {
   "cell_type": "code",
   "execution_count": 16,
   "metadata": {},
   "outputs": [
    {
     "data": {
      "image/png": "[encoded data removed]",
      "text/plain": [
       "<Figure size 720x576 with 1 Axes>"
      ]
     },
     "metadata": {
      "needs_background": "light"
     },
     "output_type": "display_data"
    }
   ],
   "source": [
    "fig,ax = plt.subplots(figsize=(10,8))\n",
    "jobs.groupby(['job_id','year_experience_required']).mean()['salary_low'].unstack().boxplot(vert=False, ax=ax)\n",
    "plt.title('Comparing Minimum Expected Salary by Year of Experience',fontsize=20)\n",
    "plt.ylabel('Year of Experience',fontsize=14)\n",
    "plt.xlabel('Min Expected Monthly Salary (SGD)',fontsize=14)\n",
    "plt.show()"
   ]
  },
  {
   "cell_type": "code",
   "execution_count": 17,
   "metadata": {},
   "outputs": [
    {
     "data": {
      "image/png": "[encoded data removed]",
      "text/plain": [
       "<Figure size 720x360 with 1 Axes>"
      ]
     },
     "metadata": {
      "needs_background": "light"
     },
     "output_type": "display_data"
    }
   ],
   "source": [
    "fig,ax = plt.subplots(figsize=(10,5))\n",
    "jobs.groupby('year_experience_required').median()[['salary_low','salary_high']].plot(ax=ax)\n",
    "plt.title('Comparing Salary Range by Year of Experience',fontsize=20)\n",
    "plt.xlabel('Year of Experience',fontsize=14)\n",
    "plt.ylabel('Monthly Salary (SGD)',fontsize=14)\n",
    "plt.show()"
   ]
  },
  {
   "cell_type": "code",
   "execution_count": 18,
   "metadata": {},
   "outputs": [
    {
     "data": {
      "text/plain": [
       "year_experience_required\n",
       "0.0       7\n",
       "1.0      92\n",
       "2.0     206\n",
       "3.0     835\n",
       "4.0      61\n",
       "5.0     172\n",
       "6.0      33\n",
       "7.0      26\n",
       "8.0      39\n",
       "9.0       4\n",
       "10.0     41\n",
       "15.0      1\n",
       "dtype: int64"
      ]
     },
     "execution_count": 18,
     "metadata": {},
     "output_type": "execute_result"
    }
   ],
   "source": [
    "# clean up year_experience\n",
    "\n",
    "from sklearn.impute import SimpleImputer\n",
    "import numpy as np\n",
    "\n",
    "# fill missing values with median column values\n",
    "\n",
    "imputed_values = jobs['year_experience_required'].values.reshape(-1,1)\n",
    "imputer = SimpleImputer(missing_values= np.nan, strategy='median')\n",
    "jobs['year_experience_required'] = imputer.fit_transform(imputed_values)\n",
    "\n",
    "# count the number of NaN values in each column\n",
    "jobs['year_experience_required'].isnull().sum()\n",
    "jobs.groupby('year_experience_required').size()"
   ]
  },
  {
   "cell_type": "code",
   "execution_count": 19,
   "metadata": {},
   "outputs": [
    {
     "data": {
      "text/html": [
       "<div>\n",
       "<style scoped>\n",
       "    .dataframe tbody tr th:only-of-type {\n",
       "        vertical-align: middle;\n",
       "    }\n",
       "\n",
       "    .dataframe tbody tr th {\n",
       "        vertical-align: top;\n",
       "    }\n",
       "\n",
       "    .dataframe thead th {\n",
       "        text-align: right;\n",
       "    }\n",
       "</style>\n",
       "<table border=\"1\" class=\"dataframe\">\n",
       "  <thead>\n",
       "    <tr style=\"text-align: right;\">\n",
       "      <th></th>\n",
       "      <th>job_id</th>\n",
       "      <th>annual_salary_low</th>\n",
       "    </tr>\n",
       "    <tr>\n",
       "      <th>technical_skill_required</th>\n",
       "      <th></th>\n",
       "      <th></th>\n",
       "    </tr>\n",
       "  </thead>\n",
       "  <tbody>\n",
       "    <tr>\n",
       "      <th>0</th>\n",
       "      <td>654</td>\n",
       "      <td>56022.831804</td>\n",
       "    </tr>\n",
       "    <tr>\n",
       "      <th>1</th>\n",
       "      <td>301</td>\n",
       "      <td>57725.063123</td>\n",
       "    </tr>\n",
       "    <tr>\n",
       "      <th>2</th>\n",
       "      <td>179</td>\n",
       "      <td>55110.726257</td>\n",
       "    </tr>\n",
       "    <tr>\n",
       "      <th>3</th>\n",
       "      <td>129</td>\n",
       "      <td>60106.852713</td>\n",
       "    </tr>\n",
       "    <tr>\n",
       "      <th>4</th>\n",
       "      <td>75</td>\n",
       "      <td>61044.853333</td>\n",
       "    </tr>\n",
       "    <tr>\n",
       "      <th>5</th>\n",
       "      <td>52</td>\n",
       "      <td>62796.000000</td>\n",
       "    </tr>\n",
       "    <tr>\n",
       "      <th>6</th>\n",
       "      <td>26</td>\n",
       "      <td>68669.076923</td>\n",
       "    </tr>\n",
       "    <tr>\n",
       "      <th>7</th>\n",
       "      <td>33</td>\n",
       "      <td>65436.363636</td>\n",
       "    </tr>\n",
       "    <tr>\n",
       "      <th>8</th>\n",
       "      <td>14</td>\n",
       "      <td>63971.428571</td>\n",
       "    </tr>\n",
       "    <tr>\n",
       "      <th>9</th>\n",
       "      <td>14</td>\n",
       "      <td>65857.142857</td>\n",
       "    </tr>\n",
       "    <tr>\n",
       "      <th>10</th>\n",
       "      <td>13</td>\n",
       "      <td>63784.615385</td>\n",
       "    </tr>\n",
       "    <tr>\n",
       "      <th>11</th>\n",
       "      <td>19</td>\n",
       "      <td>72947.368421</td>\n",
       "    </tr>\n",
       "    <tr>\n",
       "      <th>12</th>\n",
       "      <td>3</td>\n",
       "      <td>56000.000000</td>\n",
       "    </tr>\n",
       "    <tr>\n",
       "      <th>13</th>\n",
       "      <td>2</td>\n",
       "      <td>62400.000000</td>\n",
       "    </tr>\n",
       "    <tr>\n",
       "      <th>14</th>\n",
       "      <td>2</td>\n",
       "      <td>78600.000000</td>\n",
       "    </tr>\n",
       "    <tr>\n",
       "      <th>18</th>\n",
       "      <td>1</td>\n",
       "      <td>42000.000000</td>\n",
       "    </tr>\n",
       "  </tbody>\n",
       "</table>\n",
       "</div>"
      ],
      "text/plain": [
       "                          job_id  annual_salary_low\n",
       "technical_skill_required                           \n",
       "0                            654       56022.831804\n",
       "1                            301       57725.063123\n",
       "2                            179       55110.726257\n",
       "3                            129       60106.852713\n",
       "4                             75       61044.853333\n",
       "5                             52       62796.000000\n",
       "6                             26       68669.076923\n",
       "7                             33       65436.363636\n",
       "8                             14       63971.428571\n",
       "9                             14       65857.142857\n",
       "10                            13       63784.615385\n",
       "11                            19       72947.368421\n",
       "12                             3       56000.000000\n",
       "13                             2       62400.000000\n",
       "14                             2       78600.000000\n",
       "18                             1       42000.000000"
      ]
     },
     "execution_count": 19,
     "metadata": {},
     "output_type": "execute_result"
    }
   ],
   "source": [
    "# number of technical skills required\n",
    "\n",
    "jobs['requirement_description'] = jobs['requirement'] + jobs['description'] \n",
    "jobs['requirement_description'] = jobs['requirement_description'].fillna(\"NA\")\n",
    "\n",
    "technical_skill = ['hadoop','spark','python'\n",
    "                   ,'scala','hive','sql'\n",
    "                   ,'linux','c++','java'\n",
    "                   ,'matlab','tableau','power bi'\n",
    "                   ,'qlik','machine learning','kubernetes'\n",
    "                   ,'docker','aws','kafka'\n",
    "                   ,'presto','nlp','azure'\n",
    "                   ,'map reduce','spss','sas'\n",
    "                   ,'ecs','mesos','big data','software engineer'\n",
    "                   ,'mongodb','no sql','google cloud'\n",
    "                    ]\n",
    "\n",
    "for skill in technical_skill:\n",
    "    col_name = \"skill_{}\".format(skill)\n",
    "    jobs[col_name] = [1 if skill in str(val).lower() else 0 for val in jobs['requirement_description']]\n",
    "\n",
    "# aggregate total skills required or listed in the job requirement   \n",
    "jobs['technical_skill_required'] = jobs[[col for col in jobs.columns if 'skill_' in col]].sum(axis=1)\n",
    "jobs.groupby('technical_skill_required').agg({\"job_id\": \"count\",\"annual_salary_low\": \"mean\"})"
   ]
  },
  {
   "cell_type": "code",
   "execution_count": 20,
   "metadata": {},
   "outputs": [
    {
     "data": {
      "text/plain": [
       "require_phd\n",
       "0    1418\n",
       "1      99\n",
       "dtype: int64"
      ]
     },
     "execution_count": 20,
     "metadata": {},
     "output_type": "execute_result"
    }
   ],
   "source": [
    "# does the job require PHD?\n",
    "\n",
    "jobs['require_phd'] = [1 if 'phd' in str(val).replace(\".\",\"\").lower() else 0 for val in jobs['requirement_description']]\n",
    "jobs.groupby('require_phd').size()"
   ]
  },
  {
   "cell_type": "code",
   "execution_count": 21,
   "metadata": {
    "scrolled": true
   },
   "outputs": [],
   "source": [
    "# clean up INDUSTRY\n",
    "jobs['industry'] = jobs['industry'].apply(lambda x:str(x).replace(\" \",\"\")).replace(\",\",\"\")\n",
    "\n",
    "# RUN THE FOLLOWING CODE ONLY ONCE!!! \n",
    "# beware of duplicate columns if you run it multiple times\n",
    "# comment it out after running it once\n",
    "\n",
    "jobs = jobs.merge(jobs[\"industry\"].str.get_dummies(sep=','),how='left'\n",
    "             ,left_on=None,right_on=None,left_index=True,right_index=True)\n"
   ]
  },
  {
   "cell_type": "code",
   "execution_count": 22,
   "metadata": {},
   "outputs": [
    {
     "data": {
      "text/html": [
       "<div>\n",
       "<style scoped>\n",
       "    .dataframe tbody tr th:only-of-type {\n",
       "        vertical-align: middle;\n",
       "    }\n",
       "\n",
       "    .dataframe tbody tr th {\n",
       "        vertical-align: top;\n",
       "    }\n",
       "\n",
       "    .dataframe thead th {\n",
       "        text-align: right;\n",
       "    }\n",
       "</style>\n",
       "<table border=\"1\" class=\"dataframe\">\n",
       "  <thead>\n",
       "    <tr style=\"text-align: right;\">\n",
       "      <th></th>\n",
       "      <th>0</th>\n",
       "      <th>1</th>\n",
       "      <th>2</th>\n",
       "    </tr>\n",
       "  </thead>\n",
       "  <tbody>\n",
       "    <tr>\n",
       "      <th>16</th>\n",
       "      <td>InformationTechnology</td>\n",
       "      <td>6761</td>\n",
       "      <td>854</td>\n",
       "    </tr>\n",
       "    <tr>\n",
       "      <th>22</th>\n",
       "      <td>Others</td>\n",
       "      <td>7585</td>\n",
       "      <td>83</td>\n",
       "    </tr>\n",
       "    <tr>\n",
       "      <th>0</th>\n",
       "      <td>Accounting/Auditing/Taxation</td>\n",
       "      <td>4541</td>\n",
       "      <td>77</td>\n",
       "    </tr>\n",
       "    <tr>\n",
       "      <th>7</th>\n",
       "      <td>Engineering</td>\n",
       "      <td>4730</td>\n",
       "      <td>74</td>\n",
       "    </tr>\n",
       "    <tr>\n",
       "      <th>4</th>\n",
       "      <td>Consulting</td>\n",
       "      <td>11798</td>\n",
       "      <td>70</td>\n",
       "    </tr>\n",
       "    <tr>\n",
       "      <th>29</th>\n",
       "      <td>Sciences/Laboratory/R&amp;D</td>\n",
       "      <td>4409</td>\n",
       "      <td>53</td>\n",
       "    </tr>\n",
       "    <tr>\n",
       "      <th>24</th>\n",
       "      <td>Public/CivilService</td>\n",
       "      <td>4726</td>\n",
       "      <td>39</td>\n",
       "    </tr>\n",
       "    <tr>\n",
       "      <th>19</th>\n",
       "      <td>Logistics/SupplyChain</td>\n",
       "      <td>4144</td>\n",
       "      <td>28</td>\n",
       "    </tr>\n",
       "    <tr>\n",
       "      <th>2</th>\n",
       "      <td>Advertising/Media</td>\n",
       "      <td>7837</td>\n",
       "      <td>19</td>\n",
       "    </tr>\n",
       "    <tr>\n",
       "      <th>31</th>\n",
       "      <td>Telecommunications</td>\n",
       "      <td>4076</td>\n",
       "      <td>17</td>\n",
       "    </tr>\n",
       "    <tr>\n",
       "      <th>21</th>\n",
       "      <td>Marketing/PublicRelations</td>\n",
       "      <td>11688</td>\n",
       "      <td>17</td>\n",
       "    </tr>\n",
       "    <tr>\n",
       "      <th>23</th>\n",
       "      <td>ProfessionalServices</td>\n",
       "      <td>3693</td>\n",
       "      <td>15</td>\n",
       "    </tr>\n",
       "    <tr>\n",
       "      <th>17</th>\n",
       "      <td>Insurance</td>\n",
       "      <td>9864</td>\n",
       "      <td>14</td>\n",
       "    </tr>\n",
       "    <tr>\n",
       "      <th>5</th>\n",
       "      <td>CustomerService</td>\n",
       "      <td>4579</td>\n",
       "      <td>14</td>\n",
       "    </tr>\n",
       "    <tr>\n",
       "      <th>20</th>\n",
       "      <td>Manufacturing</td>\n",
       "      <td>4508</td>\n",
       "      <td>12</td>\n",
       "    </tr>\n",
       "    <tr>\n",
       "      <th>27</th>\n",
       "      <td>RiskManagement</td>\n",
       "      <td>10542</td>\n",
       "      <td>12</td>\n",
       "    </tr>\n",
       "    <tr>\n",
       "      <th>11</th>\n",
       "      <td>GeneralManagement</td>\n",
       "      <td>4447</td>\n",
       "      <td>11</td>\n",
       "    </tr>\n",
       "    <tr>\n",
       "      <th>28</th>\n",
       "      <td>Sales/Retail</td>\n",
       "      <td>4640</td>\n",
       "      <td>10</td>\n",
       "    </tr>\n",
       "    <tr>\n",
       "      <th>1</th>\n",
       "      <td>Admin/Secretarial</td>\n",
       "      <td>2578</td>\n",
       "      <td>9</td>\n",
       "    </tr>\n",
       "    <tr>\n",
       "      <th>15</th>\n",
       "      <td>HumanResources</td>\n",
       "      <td>5388</td>\n",
       "      <td>8</td>\n",
       "    </tr>\n",
       "    <tr>\n",
       "      <th>26</th>\n",
       "      <td>RealEstate/PropertyManagement</td>\n",
       "      <td>4640</td>\n",
       "      <td>5</td>\n",
       "    </tr>\n",
       "    <tr>\n",
       "      <th>13</th>\n",
       "      <td>Healthcare/Pharmaceutical</td>\n",
       "      <td>4980</td>\n",
       "      <td>5</td>\n",
       "    </tr>\n",
       "    <tr>\n",
       "      <th>32</th>\n",
       "      <td>Travel/Tourism</td>\n",
       "      <td>4750</td>\n",
       "      <td>4</td>\n",
       "    </tr>\n",
       "    <tr>\n",
       "      <th>8</th>\n",
       "      <td>Environment/Health</td>\n",
       "      <td>5500</td>\n",
       "      <td>3</td>\n",
       "    </tr>\n",
       "    <tr>\n",
       "      <th>6</th>\n",
       "      <td>Design</td>\n",
       "      <td>3333</td>\n",
       "      <td>3</td>\n",
       "    </tr>\n",
       "    <tr>\n",
       "      <th>3</th>\n",
       "      <td>BuildingandConstruction</td>\n",
       "      <td>2500</td>\n",
       "      <td>2</td>\n",
       "    </tr>\n",
       "    <tr>\n",
       "      <th>25</th>\n",
       "      <td>Purchasing/Merchandising</td>\n",
       "      <td>4700</td>\n",
       "      <td>2</td>\n",
       "    </tr>\n",
       "    <tr>\n",
       "      <th>14</th>\n",
       "      <td>Hospitality</td>\n",
       "      <td>2500</td>\n",
       "      <td>1</td>\n",
       "    </tr>\n",
       "    <tr>\n",
       "      <th>12</th>\n",
       "      <td>GeneralWork</td>\n",
       "      <td>6600</td>\n",
       "      <td>1</td>\n",
       "    </tr>\n",
       "    <tr>\n",
       "      <th>10</th>\n",
       "      <td>F&amp;B</td>\n",
       "      <td>2200</td>\n",
       "      <td>1</td>\n",
       "    </tr>\n",
       "    <tr>\n",
       "      <th>30</th>\n",
       "      <td>SecurityandInvestigation</td>\n",
       "      <td>4000</td>\n",
       "      <td>1</td>\n",
       "    </tr>\n",
       "    <tr>\n",
       "      <th>9</th>\n",
       "      <td>Events/Promotions</td>\n",
       "      <td>2500</td>\n",
       "      <td>1</td>\n",
       "    </tr>\n",
       "    <tr>\n",
       "      <th>18</th>\n",
       "      <td>Legal</td>\n",
       "      <td>6000</td>\n",
       "      <td>1</td>\n",
       "    </tr>\n",
       "  </tbody>\n",
       "</table>\n",
       "</div>"
      ],
      "text/plain": [
       "                                0      1    2\n",
       "16          InformationTechnology   6761  854\n",
       "22                         Others   7585   83\n",
       "0    Accounting/Auditing/Taxation   4541   77\n",
       "7                     Engineering   4730   74\n",
       "4                      Consulting  11798   70\n",
       "29        Sciences/Laboratory/R&D   4409   53\n",
       "24            Public/CivilService   4726   39\n",
       "19          Logistics/SupplyChain   4144   28\n",
       "2               Advertising/Media   7837   19\n",
       "31             Telecommunications   4076   17\n",
       "21      Marketing/PublicRelations  11688   17\n",
       "23           ProfessionalServices   3693   15\n",
       "17                      Insurance   9864   14\n",
       "5                 CustomerService   4579   14\n",
       "20                  Manufacturing   4508   12\n",
       "27                 RiskManagement  10542   12\n",
       "11              GeneralManagement   4447   11\n",
       "28                   Sales/Retail   4640   10\n",
       "1               Admin/Secretarial   2578    9\n",
       "15                 HumanResources   5388    8\n",
       "26  RealEstate/PropertyManagement   4640    5\n",
       "13      Healthcare/Pharmaceutical   4980    5\n",
       "32                 Travel/Tourism   4750    4\n",
       "8              Environment/Health   5500    3\n",
       "6                          Design   3333    3\n",
       "3         BuildingandConstruction   2500    2\n",
       "25       Purchasing/Merchandising   4700    2\n",
       "14                    Hospitality   2500    1\n",
       "12                    GeneralWork   6600    1\n",
       "10                            F&B   2200    1\n",
       "30       SecurityandInvestigation   4000    1\n",
       "9               Events/Promotions   2500    1\n",
       "18                          Legal   6000    1"
      ]
     },
     "execution_count": 22,
     "metadata": {},
     "output_type": "execute_result"
    }
   ],
   "source": [
    "# investigate average pay for each industry\n",
    "\n",
    "industry_col = [col for col in jobs[\"industry\"].str.get_dummies(sep=',').columns if 'nan' not in col] \n",
    "\n",
    "industry_mean_pay = []\n",
    "for val in industry_col:\n",
    "    industry_mean_pay.append((val, round(jobs[jobs[val] ==1]['salary_low'].mean()),jobs[jobs[val] ==1]['job_id'].count()))\n",
    "\n",
    "pd.DataFrame(industry_mean_pay).sort_values(by=2,ascending=False)"
   ]
  },
  {
   "cell_type": "code",
   "execution_count": 23,
   "metadata": {},
   "outputs": [],
   "source": [
    "# clean up SENIORITY\n",
    "\n",
    "jobs[\"seniority\"]=jobs[\"seniority\"].apply(lambda x:str(x).replace(\" \",\"\"))\n",
    "\n",
    "# split seniority that containts multiple values and dummify\n",
    "# when running the following code - beware of duplicate columns if you run it multiple times\n",
    "# comment it out after running it once\n",
    "\n",
    "jobs = jobs.merge(jobs[\"seniority\"].str.get_dummies(sep=','),how='left'\n",
    "            ,left_on=None,right_on=None,left_index=True,right_index=True)\n",
    "jobs.drop(columns=['nan'],inplace=True)\n",
    "\n",
    "# clean up employment_type\n",
    "\n",
    "jobs[\"employment_type\"] = jobs[\"employment_type\"].apply(lambda x:str(x).replace(\" \",\"\"))\n",
    "\n",
    "# # RUN THE FOLLOWING CODE ONLY ONCE!!! \n",
    "# beware of duplicate columns if you run it multiple times\n",
    "# comment it out after running it once\n",
    "\n",
    "jobs = jobs.merge(jobs[\"employment_type\"].str.get_dummies(sep=','),how='left'\n",
    "            ,left_on=None,right_on=None,left_index=True,right_index=True)"
   ]
  },
  {
   "cell_type": "code",
   "execution_count": 24,
   "metadata": {},
   "outputs": [
    {
     "name": "stdout",
     "output_type": "stream",
     "text": [
      "Executive: SGD 5058\n",
      "Fresh/entrylevel: SGD 7977\n",
      "JuniorExecutive: SGD 6953\n",
      "Manager: SGD 7700\n",
      "MiddleManagement: SGD 6643\n",
      "Non-executive: SGD 5682\n",
      "Professional: SGD 8362\n",
      "SeniorExecutive: SGD 8243\n",
      "SeniorManagement: SGD 6227\n"
     ]
    }
   ],
   "source": [
    "# investigate average pay for each seniority level\n",
    "\n",
    "seniority_col = [col for col in jobs[\"seniority\"].str.get_dummies(sep=',').columns if 'nan' not in col] \n",
    "\n",
    "for val in seniority_col:\n",
    "    print(val+\": SGD \"+str(round(jobs[jobs[val] ==1]['salary_low'].mean())))"
   ]
  },
  {
   "cell_type": "code",
   "execution_count": 25,
   "metadata": {},
   "outputs": [],
   "source": [
    "# NLP job requirement and company description \n",
    "\n",
    "from nltk.corpus import stopwords\n",
    "from nltk.stem import WordNetLemmatizer\n",
    "from nltk.tokenize import word_tokenize\n",
    "from textblob import TextBlob, Word\n",
    "\n",
    "# run the following code if this is your first time running this\n",
    "# import nltk\n",
    "# nltk.download('averaged_perceptron_tagger')\n",
    "\n",
    "\n",
    "stop = stopwords.words('english')\n",
    "stop += ['experience','skill','data','is','are','be','degree','skills'\n",
    "         ,'year','years','e g','relevant','minimum','ability','good','strong'\n",
    "        ,'work','knowledge','support','much','days','related','welcome'\n",
    "        ,'excellent','responsibilities','go','well','using','key'\n",
    "        ,'across','based','etc','job','closely','singapore','also','use'\n",
    "        ,'candidate','best','part','make','create','large','ensure','www','com','sg'\n",
    "        ,'company','industry','description','location','requirement']\n",
    "\n",
    "count_vect = CountVectorizer(min_df=50,stop_words=stop,ngram_range=(2,3)\n",
    "                      ,strip_accents='unicode'\n",
    "                      ,binary=True)\n",
    "\n",
    "X_nlp    =  count_vect.fit_transform(jobs['requirement_description'])\n",
    "\n",
    "keywords = pd.DataFrame(X_nlp.todense(),columns=count_vect.get_feature_names())\n",
    "keywords_column = list(keywords.columns)\n",
    "\n",
    "jobs = jobs.merge(keywords,how='left',left_on=None,right_on=None,left_index=True,right_index=True)\n",
    "jobs[keywords_column] = jobs[keywords_column].fillna(0)"
   ]
  },
  {
   "cell_type": "markdown",
   "metadata": {},
   "source": [
    "# Prediction"
   ]
  },
  {
   "cell_type": "code",
   "execution_count": 26,
   "metadata": {
    "scrolled": false
   },
   "outputs": [],
   "source": [
    "# PREDICTOR columns\n",
    "\n",
    "main_column = ['year_experience_required'\n",
    "                ,'require_phd'\n",
    "                ,'data_role_category'\n",
    "              ,'company']\n",
    "\n",
    "skill_column = [col for col in jobs.columns if 'skill' in col]\n",
    "\n",
    "seniority_column = ['Executive',\n",
    "       'Fresh/entrylevel', 'JuniorExecutive', 'Manager', 'MiddleManagement',\n",
    "       'Non-executive', 'Professional', 'SeniorExecutive', 'SeniorManagement']\n",
    "\n",
    "employment_type_column = ['Contract', 'Flexiwork', 'Freelance', 'FullTime', 'Internship',\n",
    "       'PartTime', 'Permanent', 'Temporary']\n",
    "\n",
    "industry_columns = list(jobs[\"industry\"].str.get_dummies(sep=',').columns)\n",
    "\n",
    "\n",
    "predictor_column = main_column + skill_column + seniority_column + employment_type_column + keywords_column +industry_columns\n",
    "# pd.DataFrame(jobs[predictor_column].isnull().sum()).sort_values(by=0,ascending=False)"
   ]
  },
  {
   "cell_type": "code",
   "execution_count": 27,
   "metadata": {},
   "outputs": [
    {
     "name": "stdout",
     "output_type": "stream",
     "text": [
      "(1016, 813) (1016,) (501, 813) (501,)\n",
      "Average annual salary: SGD57973.71918259723\n",
      "Index(['year_experience_required', 'require_phd', 'skill_hadoop',\n",
      "       'skill_spark', 'skill_python', 'skill_scala', 'skill_hive', 'skill_sql',\n",
      "       'skill_linux', 'skill_c++',\n",
      "       ...\n",
      "       'company_XYPHER PTE. LTD.', 'company_YHS (SINGAPORE) PTE LTD',\n",
      "       'company_ZALORA SOUTH EAST ASIA PTE. LTD.',\n",
      "       'company_ZAVE TECHNOLOGY PTE. LTD.', 'company_ZEEMART  PTE. LTD.',\n",
      "       'company_ZENDESK SINGAPORE PTE. LTD.', 'company_ZENIKA PTE. LTD.',\n",
      "       'company_ZENITH INFOTECH (S) PTE LTD.', 'company_ZILINGO PTE. LTD.',\n",
      "       'company_ZOOLOO INFORMATION SYSTEMS PTE. LTD.'],\n",
      "      dtype='object', length=813)\n"
     ]
    },
    {
     "name": "stderr",
     "output_type": "stream",
     "text": [
      "C:\\Users\\swoo\\Anaconda3\\lib\\site-packages\\sklearn\\preprocessing\\data.py:625: DataConversionWarning: Data with input dtype uint8, int64, float64 were all converted to float64 by StandardScaler.\n",
      "  return self.partial_fit(X, y)\n",
      "C:\\Users\\swoo\\Anaconda3\\lib\\site-packages\\sklearn\\base.py:462: DataConversionWarning: Data with input dtype uint8, int64, float64 were all converted to float64 by StandardScaler.\n",
      "  return self.fit(X, **fit_params).transform(X)\n"
     ]
    }
   ],
   "source": [
    "# transforming and standardizing the data\n",
    "\n",
    "X = jobs[predictor_column]\n",
    "\n",
    "Xd = pd.get_dummies(X)\n",
    "y = jobs['annual_salary_low']\n",
    "Xd.drop(columns=['data_role_category_other'],inplace=True)\n",
    "ss = StandardScaler()\n",
    "\n",
    "# be careful when transforming array back to data frame, especially there is a missing index with the source data\n",
    "Xs = pd.DataFrame(ss.fit_transform(Xd),index=Xd.index)\n",
    "Xs.columns = Xd.columns\n",
    "\n",
    "Xs_train,Xs_test,y_train,y_test = train_test_split(Xs,y,test_size=0.33,random_state=42)\n",
    "\n",
    "print(Xs_train.shape,y_train.shape,Xs_test.shape,y_test.shape)\n",
    "print(\"Average annual salary: SGD\" + str(y.mean()))\n",
    "print(Xs.columns)"
   ]
  },
  {
   "cell_type": "markdown",
   "metadata": {},
   "source": [
    "# Simple models as base models\n",
    "\n",
    "## Linear and Lasso"
   ]
  },
  {
   "cell_type": "code",
   "execution_count": 28,
   "metadata": {},
   "outputs": [
    {
     "name": "stdout",
     "output_type": "stream",
     "text": [
      "[-28218.   -23108.   -29551.   -24187.75 -20872.  ]\n",
      "-25187.35\n"
     ]
    }
   ],
   "source": [
    "# BASE MODEL\n",
    "\n",
    "linreg = LinearRegression()\n",
    "linreg.fit(Xs_train,np.ravel(y_train))\n",
    "linreg_scores = cross_val_score(linreg, Xs_train,np.ravel(y_train),cv=5,scoring='neg_median_absolute_error')\n",
    "print(linreg_scores)\n",
    "print(np.mean(linreg_scores))"
   ]
  },
  {
   "cell_type": "code",
   "execution_count": 29,
   "metadata": {},
   "outputs": [
    {
     "name": "stdout",
     "output_type": "stream",
     "text": [
      "[-10941.94488965 -10697.19271698 -11069.44924351  -8923.19556224\n",
      " -10160.85352163]\n",
      "-10358.527186803312\n"
     ]
    }
   ],
   "source": [
    "# REGULARIZATION - LASSO\n",
    "\n",
    "lasso = LassoCV(cv=5)\n",
    "lasso.fit(Xs_train,y_train)\n",
    "lasso_scores = cross_val_score(lasso,Xs_train,y_train,cv=5,scoring='neg_median_absolute_error')\n",
    "print(lasso_scores)\n",
    "print(np.mean(lasso_scores))"
   ]
  },
  {
   "cell_type": "code",
   "execution_count": 30,
   "metadata": {
    "scrolled": false
   },
   "outputs": [
    {
     "data": {
      "text/html": [
       "<div>\n",
       "<style scoped>\n",
       "    .dataframe tbody tr th:only-of-type {\n",
       "        vertical-align: middle;\n",
       "    }\n",
       "\n",
       "    .dataframe tbody tr th {\n",
       "        vertical-align: top;\n",
       "    }\n",
       "\n",
       "    .dataframe thead th {\n",
       "        text-align: right;\n",
       "    }\n",
       "</style>\n",
       "<table border=\"1\" class=\"dataframe\">\n",
       "  <thead>\n",
       "    <tr style=\"text-align: right;\">\n",
       "      <th></th>\n",
       "      <th>variable</th>\n",
       "      <th>coef</th>\n",
       "      <th>abs_coef</th>\n",
       "    </tr>\n",
       "  </thead>\n",
       "  <tbody>\n",
       "    <tr>\n",
       "      <th>0</th>\n",
       "      <td>year_experience_required</td>\n",
       "      <td>6453.988949</td>\n",
       "      <td>6453.988949</td>\n",
       "    </tr>\n",
       "    <tr>\n",
       "      <th>36</th>\n",
       "      <td>JuniorExecutive</td>\n",
       "      <td>-3506.467661</td>\n",
       "      <td>3506.467661</td>\n",
       "    </tr>\n",
       "    <tr>\n",
       "      <th>35</th>\n",
       "      <td>Fresh/entrylevel</td>\n",
       "      <td>-2857.223164</td>\n",
       "      <td>2857.223164</td>\n",
       "    </tr>\n",
       "    <tr>\n",
       "      <th>733</th>\n",
       "      <td>company_TANGSPAC CONSULTING PTE LTD</td>\n",
       "      <td>2353.302203</td>\n",
       "      <td>2353.302203</td>\n",
       "    </tr>\n",
       "    <tr>\n",
       "      <th>34</th>\n",
       "      <td>Executive</td>\n",
       "      <td>-1979.422327</td>\n",
       "      <td>1979.422327</td>\n",
       "    </tr>\n",
       "    <tr>\n",
       "      <th>309</th>\n",
       "      <td>company_BARCLAYS BANK PLC</td>\n",
       "      <td>1617.774137</td>\n",
       "      <td>1617.774137</td>\n",
       "    </tr>\n",
       "    <tr>\n",
       "      <th>553</th>\n",
       "      <td>company_MACHSPEED HUMAN RESOURCES PTE. LTD.</td>\n",
       "      <td>-1604.623662</td>\n",
       "      <td>1604.623662</td>\n",
       "    </tr>\n",
       "    <tr>\n",
       "      <th>544</th>\n",
       "      <td>company_LAZADA SOUTH EAST ASIA PTE. LTD.</td>\n",
       "      <td>1588.285446</td>\n",
       "      <td>1588.285446</td>\n",
       "    </tr>\n",
       "    <tr>\n",
       "      <th>770</th>\n",
       "      <td>company_TWITTER ASIA PACIFIC PTE. LTD.</td>\n",
       "      <td>1578.898782</td>\n",
       "      <td>1578.898782</td>\n",
       "    </tr>\n",
       "    <tr>\n",
       "      <th>386</th>\n",
       "      <td>company_DBS BANK LTD.</td>\n",
       "      <td>-1469.878413</td>\n",
       "      <td>1469.878413</td>\n",
       "    </tr>\n",
       "    <tr>\n",
       "      <th>524</th>\n",
       "      <td>company_JPMORGAN CHASE BANK, N.A.</td>\n",
       "      <td>1429.856602</td>\n",
       "      <td>1429.856602</td>\n",
       "    </tr>\n",
       "    <tr>\n",
       "      <th>455</th>\n",
       "      <td>company_GOOGLE ASIA PACIFIC PTE. LTD.</td>\n",
       "      <td>1397.084143</td>\n",
       "      <td>1397.084143</td>\n",
       "    </tr>\n",
       "    <tr>\n",
       "      <th>710</th>\n",
       "      <td>company_STANDARD CHARTERED BANK (SINGAPORE) LI...</td>\n",
       "      <td>1355.318872</td>\n",
       "      <td>1355.318872</td>\n",
       "    </tr>\n",
       "    <tr>\n",
       "      <th>509</th>\n",
       "      <td>company_ITOCHU SINGAPORE PTE LTD</td>\n",
       "      <td>1326.197204</td>\n",
       "      <td>1326.197204</td>\n",
       "    </tr>\n",
       "    <tr>\n",
       "      <th>384</th>\n",
       "      <td>company_DATAROBOT SINGAPORE PTE. LTD.</td>\n",
       "      <td>1217.618614</td>\n",
       "      <td>1217.618614</td>\n",
       "    </tr>\n",
       "    <tr>\n",
       "      <th>786</th>\n",
       "      <td>company_VISA WORLDWIDE PTE. LIMITED</td>\n",
       "      <td>1196.930081</td>\n",
       "      <td>1196.930081</td>\n",
       "    </tr>\n",
       "    <tr>\n",
       "      <th>43</th>\n",
       "      <td>Contract</td>\n",
       "      <td>-1187.565334</td>\n",
       "      <td>1187.565334</td>\n",
       "    </tr>\n",
       "    <tr>\n",
       "      <th>500</th>\n",
       "      <td>company_INTELLECT MINDS PTE. LTD.</td>\n",
       "      <td>1158.295609</td>\n",
       "      <td>1158.295609</td>\n",
       "    </tr>\n",
       "    <tr>\n",
       "      <th>214</th>\n",
       "      <td>Admin/Secretarial</td>\n",
       "      <td>-1143.018266</td>\n",
       "      <td>1143.018266</td>\n",
       "    </tr>\n",
       "    <tr>\n",
       "      <th>531</th>\n",
       "      <td>company_KERRY CONSULTING PTE. LTD.</td>\n",
       "      <td>1141.573338</td>\n",
       "      <td>1141.573338</td>\n",
       "    </tr>\n",
       "  </tbody>\n",
       "</table>\n",
       "</div>"
      ],
      "text/plain": [
       "                                              variable         coef  \\\n",
       "0                             year_experience_required  6453.988949   \n",
       "36                                     JuniorExecutive -3506.467661   \n",
       "35                                    Fresh/entrylevel -2857.223164   \n",
       "733                company_TANGSPAC CONSULTING PTE LTD  2353.302203   \n",
       "34                                           Executive -1979.422327   \n",
       "309                          company_BARCLAYS BANK PLC  1617.774137   \n",
       "553        company_MACHSPEED HUMAN RESOURCES PTE. LTD. -1604.623662   \n",
       "544           company_LAZADA SOUTH EAST ASIA PTE. LTD.  1588.285446   \n",
       "770             company_TWITTER ASIA PACIFIC PTE. LTD.  1578.898782   \n",
       "386                              company_DBS BANK LTD. -1469.878413   \n",
       "524                  company_JPMORGAN CHASE BANK, N.A.  1429.856602   \n",
       "455              company_GOOGLE ASIA PACIFIC PTE. LTD.  1397.084143   \n",
       "710  company_STANDARD CHARTERED BANK (SINGAPORE) LI...  1355.318872   \n",
       "509                   company_ITOCHU SINGAPORE PTE LTD  1326.197204   \n",
       "384              company_DATAROBOT SINGAPORE PTE. LTD.  1217.618614   \n",
       "786                company_VISA WORLDWIDE PTE. LIMITED  1196.930081   \n",
       "43                                            Contract -1187.565334   \n",
       "500                  company_INTELLECT MINDS PTE. LTD.  1158.295609   \n",
       "214                                  Admin/Secretarial -1143.018266   \n",
       "531                 company_KERRY CONSULTING PTE. LTD.  1141.573338   \n",
       "\n",
       "        abs_coef  \n",
       "0    6453.988949  \n",
       "36   3506.467661  \n",
       "35   2857.223164  \n",
       "733  2353.302203  \n",
       "34   1979.422327  \n",
       "309  1617.774137  \n",
       "553  1604.623662  \n",
       "544  1588.285446  \n",
       "770  1578.898782  \n",
       "386  1469.878413  \n",
       "524  1429.856602  \n",
       "455  1397.084143  \n",
       "710  1355.318872  \n",
       "509  1326.197204  \n",
       "384  1217.618614  \n",
       "786  1196.930081  \n",
       "43   1187.565334  \n",
       "500  1158.295609  \n",
       "214  1143.018266  \n",
       "531  1141.573338  "
      ]
     },
     "execution_count": 30,
     "metadata": {},
     "output_type": "execute_result"
    }
   ],
   "source": [
    "lasso_coefs = pd.DataFrame({'variable':Xs_train.columns,'coef':lasso.coef_,'abs_coef':np.abs(lasso.coef_)})\n",
    "lasso_coefs[lasso_coefs['abs_coef']>0].sort_values('abs_coef',ascending=False).head(20)"
   ]
  },
  {
   "cell_type": "markdown",
   "metadata": {},
   "source": [
    "Looking at an average pay of 57k across all job postings, we are seeing of 6% increase in minimum expected salary with the increasing relevant year of experience.\n",
    "\n",
    "Note: standard deviation of year_experience = 1.8"
   ]
  },
  {
   "cell_type": "code",
   "execution_count": 31,
   "metadata": {},
   "outputs": [
    {
     "name": "stderr",
     "output_type": "stream",
     "text": [
      "C:\\Users\\swoo\\Anaconda3\\lib\\site-packages\\ipykernel_launcher.py:1: SettingWithCopyWarning: \n",
      "A value is trying to be set on a copy of a slice from a DataFrame.\n",
      "Try using .loc[row_indexer,col_indexer] = value instead\n",
      "\n",
      "See the caveats in the documentation: http://pandas.pydata.org/pandas-docs/stable/indexing.html#indexing-view-versus-copy\n",
      "  \"\"\"Entry point for launching an IPython kernel.\n"
     ]
    },
    {
     "data": {
      "text/plain": [
       "Text(0, 0.5, 'Lasso Prediction')"
      ]
     },
     "execution_count": 31,
     "metadata": {},
     "output_type": "execute_result"
    },
    {
     "data": {
      "image/png": "[encoded data removed]",
      "text/plain": [
       "<Figure size 720x576 with 1 Axes>"
      ]
     },
     "metadata": {
      "needs_background": "light"
     },
     "output_type": "display_data"
    }
   ],
   "source": [
    "Xs_test['annual_predict_low_lasso'] = lasso.predict(Xs_test[Xs_train.columns])\n",
    "plt.figure(figsize=(10,8))\n",
    "plt.scatter(y_test,Xs_test['annual_predict_low_lasso'])\n",
    "plt.plot(y_test,y_test,color='red')\n",
    "plt.title('Minimum Expected Annual Salary vs Lasso Prediction',fontsize=20)\n",
    "plt.xlabel('Minimum Expected Annual Salary',fontsize=14)\n",
    "plt.ylabel('Lasso Prediction',fontsize=14)"
   ]
  },
  {
   "cell_type": "code",
   "execution_count": 32,
   "metadata": {},
   "outputs": [
    {
     "name": "stdout",
     "output_type": "stream",
     "text": [
      "Median absolute error =  10112.269034768877\n",
      "Mean absolute error =  11834.851715239673\n"
     ]
    }
   ],
   "source": [
    "print(\"Median absolute error = \",sklearn.metrics.median_absolute_error(y_test, Xs_test['annual_predict_low_lasso']))\n",
    "print(\"Mean absolute error = \",sklearn.metrics.mean_absolute_error(y_test, Xs_test['annual_predict_low_lasso']))"
   ]
  },
  {
   "cell_type": "markdown",
   "metadata": {},
   "source": [
    "Lasso prediction: An average of 10k error in estimation across all annual salary predictions."
   ]
  },
  {
   "cell_type": "markdown",
   "metadata": {},
   "source": [
    "## xgboost regressor with gridsearch"
   ]
  },
  {
   "cell_type": "code",
   "execution_count": 33,
   "metadata": {},
   "outputs": [],
   "source": [
    "# #Try GridSearch on XGBoost regressor\n",
    "\n",
    "# from xgboost.sklearn import XGBRegressor\n",
    "# xg_reg_gs = XGBRegressor()\n",
    "\n",
    "# import time\n",
    "# start_time = time.time()\n",
    "\n",
    "# from sklearn.model_selection import GridSearchCV\n",
    "\n",
    "# param_grid = {'base_score':[0.4],\n",
    "#               'max_depth': [5,7,9],\n",
    "# #               'reg_alpha': [0,0.5,1],\n",
    "# #               'reg_lambda': [0,0.5,1],\n",
    "# #               'min_child_weight': [1, 5, 10],\n",
    "#               'learning_rate':[0.1,0.2,0.3],\n",
    "#               'colsample_bytree':[0.3,0.5,0.7],\n",
    "#               'colsample_bylevel':[0.3,0.5,0.7],\n",
    "#               'booster':['gbtree'],\n",
    "#               'n_estimators' : [100,200,500]\n",
    "#              }\n",
    "\n",
    "# grid = GridSearchCV(xg_reg_gs, param_grid, cv=3, n_jobs=-1,scoring='neg_median_absolute_error')\n",
    "# grid.fit(Xs_train,y_train)\n",
    "\n",
    "# print(grid.best_params_)\n",
    "# print(grid.best_score_)\n",
    "# print(grid.best_estimator_)\n",
    "# print(\"--- %s seconds ---\" % (time.time() - start_time))"
   ]
  },
  {
   "cell_type": "code",
   "execution_count": 34,
   "metadata": {},
   "outputs": [
    {
     "name": "stderr",
     "output_type": "stream",
     "text": [
      "C:\\Users\\swoo\\Anaconda3\\lib\\site-packages\\xgboost\\core.py:587: FutureWarning: Series.base is deprecated and will be removed in a future version\n",
      "  if getattr(data, 'base', None) is not None and \\\n"
     ]
    },
    {
     "name": "stdout",
     "output_type": "stream",
     "text": [
      "Median absolute error =  9467.50390625\n",
      "Mean absolute error =  11813.28423621507\n"
     ]
    },
    {
     "name": "stderr",
     "output_type": "stream",
     "text": [
      "C:\\Users\\swoo\\Anaconda3\\lib\\site-packages\\ipykernel_launcher.py:18: SettingWithCopyWarning: \n",
      "A value is trying to be set on a copy of a slice from a DataFrame.\n",
      "Try using .loc[row_indexer,col_indexer] = value instead\n",
      "\n",
      "See the caveats in the documentation: http://pandas.pydata.org/pandas-docs/stable/indexing.html#indexing-view-versus-copy\n"
     ]
    }
   ],
   "source": [
    "xg_reg = XGBRegressor(base_score=0.4, booster='gbtree', colsample_bylevel=0.3,\n",
    "       colsample_bytree=0.5, gamma=0, importance_type='gain',\n",
    "       learning_rate=0.1, max_delta_step=0, max_depth=9,\n",
    "       min_child_weight=1, missing=None, n_estimators=200, n_jobs=1,\n",
    "       nthread=None, objective='reg:linear', random_state=0, reg_alpha=0,\n",
    "       reg_lambda=1, scale_pos_weight=1, seed=None, silent=True,\n",
    "       subsample=1)\n",
    "\n",
    "# XGBRegressor(base_score=0.4, booster='gbtree', colsample_bylevel=0.7,\n",
    "#        colsample_bytree=0.5, gamma=0, importance_type='gain',\n",
    "#        learning_rate=0.1, max_delta_step=0, max_depth=9,\n",
    "#        min_child_weight=1, missing=None, n_estimators=100, n_jobs=1,\n",
    "#        nthread=None, objective='reg:linear', random_state=0, reg_alpha=0,\n",
    "#        reg_lambda=1, scale_pos_weight=1, seed=None, silent=True,\n",
    "#        subsample=1)\n",
    "\n",
    "xg_reg.fit(Xs_train,y_train)\n",
    "Xs_test['xgreg_predictions'] = xg_reg.predict(Xs_test[Xs_train.columns])\n",
    "\n",
    "print(\"Median absolute error = \",sklearn.metrics.median_absolute_error(y_test, Xs_test['xgreg_predictions']))\n",
    "print(\"Mean absolute error = \",sklearn.metrics.mean_absolute_error(y_test, Xs_test['xgreg_predictions']))"
   ]
  },
  {
   "cell_type": "markdown",
   "metadata": {},
   "source": [
    "XGBoostRegressor prediction: \n",
    "\n",
    "An average of SGD 9k error in estimation across all annual salary predictions."
   ]
  },
  {
   "cell_type": "code",
   "execution_count": 35,
   "metadata": {},
   "outputs": [
    {
     "data": {
      "image/png": "[encoded data removed]",
      "text/plain": [
       "<Figure size 1080x720 with 1 Axes>"
      ]
     },
     "metadata": {
      "needs_background": "light"
     },
     "output_type": "display_data"
    }
   ],
   "source": [
    "# investigate significant features in impacting salary\n",
    "\n",
    "fig, ax = plt.subplots(figsize=(15, 10))\n",
    "plot_importance(xg_reg,max_num_features=25,height=0.8,grid=False,ax=ax );\n"
   ]
  },
  {
   "cell_type": "code",
   "execution_count": 36,
   "metadata": {},
   "outputs": [
    {
     "data": {
      "text/plain": [
       "Text(0.5, 1.0, 'error percentage by annual salary bin')"
      ]
     },
     "execution_count": 36,
     "metadata": {},
     "output_type": "execute_result"
    },
    {
     "data": {
      "image/png": "[encoded data removed]",
      "text/plain": [
       "<Figure size 1080x360 with 1 Axes>"
      ]
     },
     "metadata": {
      "needs_background": "light"
     },
     "output_type": "display_data"
    }
   ],
   "source": [
    "import math                           \n",
    "def roundup(x):\n",
    "    return int(math.ceil(x / 10000.0)) * 10000\n",
    "\n",
    "df = Xs_test.merge(y_test,how='left',left_on=None,right_on=None,left_index=True,right_index=True)\n",
    "df.head()\n",
    "df['xgreg_residual_percentage'] = (df['xgreg_predictions'] - df['annual_salary_low']) / df['annual_salary_low']\n",
    "over_under = ['over' if val > 0 else 0 for val in df['xgreg_residual_percentage']]\n",
    "fig, ax=plt.subplots(figsize=(15,5))\n",
    "pd.DataFrame(df.groupby([roundup(val) for val in df['annual_salary_low']])\\\n",
    "    .agg({\"xgreg_residual_percentage\":\"mean\"})).sort_values(by='xgreg_residual_percentage').plot.barh(ax=ax)\n",
    "plt.title('error percentage by annual salary bin')"
   ]
  },
  {
   "cell_type": "code",
   "execution_count": 37,
   "metadata": {},
   "outputs": [
    {
     "data": {
      "text/plain": [
       "Text(0.5, 1.0, 'Actual vs Predicted salary (xgboost)')"
      ]
     },
     "execution_count": 37,
     "metadata": {},
     "output_type": "execute_result"
    },
    {
     "data": {
      "image/png": "[encoded data removed]",
      "text/plain": [
       "<Figure size 1080x720 with 1 Axes>"
      ]
     },
     "metadata": {
      "needs_background": "light"
     },
     "output_type": "display_data"
    }
   ],
   "source": [
    "# compare actual salary vs predicted\n",
    "plt.figure(figsize=(15,10))\n",
    "sns.scatterplot(y_test,Xs_test['xgreg_predictions'] )\n",
    "sns.lineplot(y_test,y_test,color='red')\n",
    "\n",
    "plt.xlabel('Actual Annual Salary')\n",
    "plt.ylabel('Predicted Annual Salary')\n",
    "plt.title('Actual vs Predicted salary (xgboost)')\n"
   ]
  },
  {
   "cell_type": "code",
   "execution_count": 38,
   "metadata": {},
   "outputs": [
    {
     "data": {
      "text/plain": [
       "Text(0.5, 1.0, 'Residual Plot')"
      ]
     },
     "execution_count": 38,
     "metadata": {},
     "output_type": "execute_result"
    },
    {
     "data": {
      "image/png": "[encoded data removed]",
      "text/plain": [
       "<Figure size 1080x720 with 1 Axes>"
      ]
     },
     "metadata": {
      "needs_background": "light"
     },
     "output_type": "display_data"
    }
   ],
   "source": [
    "# residual plot\n",
    "\n",
    "plt.figure(figsize=(15,10))\n",
    "sns.scatterplot(df['annual_salary_low'],df['xgreg_predictions'] - df['annual_salary_low'])\n",
    "sns.lineplot(x=df['annual_salary_low'],y=0,color='red')\n",
    "\n",
    "plt.xlabel('Actual Annual Salary')\n",
    "plt.ylabel('Residual')\n",
    "plt.title('Residual Plot')"
   ]
  },
  {
   "cell_type": "code",
   "execution_count": 39,
   "metadata": {},
   "outputs": [
    {
     "data": {
      "text/plain": [
       "<matplotlib.axes._subplots.AxesSubplot at 0x1870fe08780>"
      ]
     },
     "execution_count": 39,
     "metadata": {},
     "output_type": "execute_result"
    },
    {
     "data": {
      "image/png": "[encoded data removed]",
      "text/plain": [
       "<Figure size 1080x720 with 1 Axes>"
      ]
     },
     "metadata": {
      "needs_background": "light"
     },
     "output_type": "display_data"
    }
   ],
   "source": [
    "xg_boost_residual = (Xs_test['xgreg_predictions']  - y_test) / y_test\n",
    "plt.figure(figsize=(15,10))\n",
    "xg_boost_residual.hist(bins=50)"
   ]
  },
  {
   "cell_type": "markdown",
   "metadata": {},
   "source": [
    "## Top 5 over-estimated jobs by percentage"
   ]
  },
  {
   "cell_type": "code",
   "execution_count": 40,
   "metadata": {},
   "outputs": [
    {
     "data": {
      "text/html": [
       "<div>\n",
       "<style scoped>\n",
       "    .dataframe tbody tr th:only-of-type {\n",
       "        vertical-align: middle;\n",
       "    }\n",
       "\n",
       "    .dataframe tbody tr th {\n",
       "        vertical-align: top;\n",
       "    }\n",
       "\n",
       "    .dataframe thead th {\n",
       "        text-align: right;\n",
       "    }\n",
       "</style>\n",
       "<table border=\"1\" class=\"dataframe\">\n",
       "  <thead>\n",
       "    <tr style=\"text-align: right;\">\n",
       "      <th></th>\n",
       "      <th>company</th>\n",
       "      <th>annual_salary_low</th>\n",
       "      <th>xgreg_predictions</th>\n",
       "      <th>title</th>\n",
       "      <th>requirement</th>\n",
       "      <th>employment_type</th>\n",
       "      <th>year_experience_required_y</th>\n",
       "      <th>seniority</th>\n",
       "      <th>url</th>\n",
       "    </tr>\n",
       "  </thead>\n",
       "  <tbody>\n",
       "    <tr>\n",
       "      <th>338</th>\n",
       "      <td>STARHUB LTD.</td>\n",
       "      <td>20400</td>\n",
       "      <td>46690.089844</td>\n",
       "      <td>CSE CS Technical Support Analyst (contract)</td>\n",
       "      <td>• Diploma, GCE “A” ” O” level • Proficient in English and one other language • Customer-driven with ability to build rapport with customers and understand their needs • Able to work in a team within a fast-paced and dynamic environment • Strong negotiating skill in getting payment commitment from customers • Strong team player with initiative and ability to perform under pressure • Strong interpersonal and communication skills • Pleasant, warm and cheerful personality • Strong in mathematical ability • Must be able to work rotating shift duties and during weekends and public holidays   * We regret that only shortlisted candidates will be notified.</td>\n",
       "      <td>Contract</td>\n",
       "      <td>3.0</td>\n",
       "      <td>Fresh/entrylevel</td>\n",
       "      <td>https://www.mycareersfuture.sg/job/cse-cs-technical-support-analyst-starhub-bc865ff5b9c679577475a8439beb27f3</td>\n",
       "    </tr>\n",
       "    <tr>\n",
       "      <th>1406</th>\n",
       "      <td>DATHENA SCIENCE PTE. LTD.</td>\n",
       "      <td>24000</td>\n",
       "      <td>57882.683594</td>\n",
       "      <td>Field Data Scientist</td>\n",
       "      <td>Desired Experiences  2+ years of experience in a customerclient-facing role such as Customer Success Manager, Technical Account Manager or Sales Engineer Comfortable managing technical conversations with technical and non-technical stakeholders. Problem-solving skills around technical, product, and business questions. Ability to build great relationships with technical and non-technical customers Contribute to the success of a dynamic and growing organization Good understanding of machine learning techniques and algorithms, such as K-means, k-NN, Naive Bayes, SVM, Decision Forests, etc. Knowledge with common data science toolkits, such as R, Spark, NumPy, etc. Excellence in at least one of these is highly desirable Good knowledge in using query languages such as SQL, Hive, Pig, etc. Knowledge with NoSQL databases, such as Cassandra and HBase Good applied statistics skills, such as distributions, statistical testing, regression, etc. Good scripting and programming skills Python, Scala, Java.  Soft Skills  Fluent in English Data-oriented personality Exceptional Oral and Written Communication Skills Time management Interpersonal Skills Critical Thinking Presentation Skills  Working Conditions The Field Data Scientist must fully embrace the team spirit of a young and innovative Start-up. Travel and working from remote locations may be required. Location Singapore R&amp;D Office.</td>\n",
       "      <td>FullTime,Internship</td>\n",
       "      <td>2.0</td>\n",
       "      <td>Executive</td>\n",
       "      <td>https://www.mycareersfuture.sg/job/field-data-scientist-dathena-science-ef8743c8aad21b7da211bfaf16e59a1e</td>\n",
       "    </tr>\n",
       "    <tr>\n",
       "      <th>378</th>\n",
       "      <td>WINSYS TECHNOLOGY PTE LTD</td>\n",
       "      <td>18000</td>\n",
       "      <td>46328.414062</td>\n",
       "      <td>IT Support Analyst</td>\n",
       "      <td>* Diploma  Degree in Computer Science, Computer Engineering or equivalent * Good software development experience in web based applications, Linux and Database (Oracle  SQL Server) implementation * Good in Software Application Support, Programming and Database and Network Architecture knowledge.  * Strong analytical skills and able to work under tight timelines * Good time keeper, person of integrity * Commitment to quality, attention to detail   Interested candidates are to forward your detailed resume stating current and expected salary to recruit@winsys.com.sg   We regret that only shortlisted candidates will be notified.</td>\n",
       "      <td>Contract</td>\n",
       "      <td>3.0</td>\n",
       "      <td>Fresh/entrylevel</td>\n",
       "      <td>https://www.mycareersfuture.sg/job/support-analyst-winsys-technology-8e73381a575bc7462fc4211487d118e7</td>\n",
       "    </tr>\n",
       "    <tr>\n",
       "      <th>1280</th>\n",
       "      <td>DATHENA SCIENCE PTE. LTD.</td>\n",
       "      <td>24000</td>\n",
       "      <td>61793.625000</td>\n",
       "      <td>Field Operation Engineer  Big Data Engineer</td>\n",
       "      <td>Skills  Experience in building and supporting Hadoop  BigData architecture including Yarn, HDFS, Hbase, Zookeeper, Phoenix, Spark, Hive, Kafka etc. Ability to isolate and troubleshoot Hadoop service issues using a combination of system and Hadoop logs and monitoringalerting systems. Experience with Apache Ambari. Experienced in Linux (RHEL, CentOS, Ubuntu, Debian, ...) including network and scripting (Bash, Python) Deep understanding of complete end-to-end Data-warehouse  Data Analytics solutions. Containers (Docker, OpenShift) Experience with Spark development is an added advantage Interpersonal skills  Key metrics  Customer satisfaction (customer lifetime value improvement) Partner satisfaction Issue resolution speed Contributions to the overall platform Internal communication  Working conditions As a critical link between the client and the development, you must fully embrace the team spirit of a young and innovative Start-up. Business trips are possible.</td>\n",
       "      <td>FullTime,Internship</td>\n",
       "      <td>3.0</td>\n",
       "      <td>Executive</td>\n",
       "      <td>https://www.mycareersfuture.sg/job/field-operation-engineer-big-data-engineer-dathena-science-817389eb9f9b7b01508fe9331f4d526f</td>\n",
       "    </tr>\n",
       "    <tr>\n",
       "      <th>786</th>\n",
       "      <td>SUN ELECTRIC (SINGAPORE) PTE. LTD.</td>\n",
       "      <td>19200</td>\n",
       "      <td>61449.519531</td>\n",
       "      <td>Pricing Manager</td>\n",
       "      <td>Strong qualtitative abilities and good with mathematical modelling tools Strong presentation skills for customer centric presentations of information Alert and attentive to details, especially in regard sensitive market pricing metrics Strong quantitative abilities with an analytical capability Leadership abilities allowing you to direct related company personnel to perform exceptionally</td>\n",
       "      <td>FullTime</td>\n",
       "      <td>3.0</td>\n",
       "      <td>Manager</td>\n",
       "      <td>https://www.mycareersfuture.sg/job/pricing-manager-sun-electric-ec88b8fd2b2bd15eeb1b586ce3124b48</td>\n",
       "    </tr>\n",
       "  </tbody>\n",
       "</table>\n",
       "</div>"
      ],
      "text/plain": [
       "                                 company  annual_salary_low  \\\n",
       "338   STARHUB LTD.                        20400               \n",
       "1406  DATHENA SCIENCE PTE. LTD.           24000               \n",
       "378   WINSYS TECHNOLOGY PTE LTD           18000               \n",
       "1280  DATHENA SCIENCE PTE. LTD.           24000               \n",
       "786   SUN ELECTRIC (SINGAPORE) PTE. LTD.  19200               \n",
       "\n",
       "      xgreg_predictions                                        title  \\\n",
       "338   46690.089844       CSE CS Technical Support Analyst (contract)   \n",
       "1406  57882.683594       Field Data Scientist                          \n",
       "378   46328.414062       IT Support Analyst                            \n",
       "1280  61793.625000       Field Operation Engineer  Big Data Engineer   \n",
       "786   61449.519531       Pricing Manager                               \n",
       "\n",
       "                                                                                                                                                                                                                                                                                                                                                                                                                                                                                                                                                                                                                                                                                                                                                                                                                                                                                                                                                                                                                                                                                                                                                                                                                                                                                                                                                                                                                                                                                                                                                                                                                                                           requirement  \\\n",
       "338   • Diploma, GCE “A” ” O” level • Proficient in English and one other language • Customer-driven with ability to build rapport with customers and understand their needs • Able to work in a team within a fast-paced and dynamic environment • Strong negotiating skill in getting payment commitment from customers • Strong team player with initiative and ability to perform under pressure • Strong interpersonal and communication skills • Pleasant, warm and cheerful personality • Strong in mathematical ability • Must be able to work rotating shift duties and during weekends and public holidays   * We regret that only shortlisted candidates will be notified.                                                                                                                                                                                                                                                                                                                                                                                                                                                                                                                                                                                                                                                                                                                                                                                                                                                                                                                                                                                    \n",
       "1406  Desired Experiences  2+ years of experience in a customerclient-facing role such as Customer Success Manager, Technical Account Manager or Sales Engineer Comfortable managing technical conversations with technical and non-technical stakeholders. Problem-solving skills around technical, product, and business questions. Ability to build great relationships with technical and non-technical customers Contribute to the success of a dynamic and growing organization Good understanding of machine learning techniques and algorithms, such as K-means, k-NN, Naive Bayes, SVM, Decision Forests, etc. Knowledge with common data science toolkits, such as R, Spark, NumPy, etc. Excellence in at least one of these is highly desirable Good knowledge in using query languages such as SQL, Hive, Pig, etc. Knowledge with NoSQL databases, such as Cassandra and HBase Good applied statistics skills, such as distributions, statistical testing, regression, etc. Good scripting and programming skills Python, Scala, Java.  Soft Skills  Fluent in English Data-oriented personality Exceptional Oral and Written Communication Skills Time management Interpersonal Skills Critical Thinking Presentation Skills  Working Conditions The Field Data Scientist must fully embrace the team spirit of a young and innovative Start-up. Travel and working from remote locations may be required. Location Singapore R&D Office.                                                                                                                                                                                                                  \n",
       "378   * Diploma  Degree in Computer Science, Computer Engineering or equivalent * Good software development experience in web based applications, Linux and Database (Oracle  SQL Server) implementation * Good in Software Application Support, Programming and Database and Network Architecture knowledge.  * Strong analytical skills and able to work under tight timelines * Good time keeper, person of integrity * Commitment to quality, attention to detail   Interested candidates are to forward your detailed resume stating current and expected salary to recruit@winsys.com.sg   We regret that only shortlisted candidates will be notified.                                                                                                                                                                                                                                                                                                                                                                                                                                                                                                                                                                                                                                                                                                                                                                                                                                                                                                                                                                                                            \n",
       "1280  Skills  Experience in building and supporting Hadoop  BigData architecture including Yarn, HDFS, Hbase, Zookeeper, Phoenix, Spark, Hive, Kafka etc. Ability to isolate and troubleshoot Hadoop service issues using a combination of system and Hadoop logs and monitoringalerting systems. Experience with Apache Ambari. Experienced in Linux (RHEL, CentOS, Ubuntu, Debian, ...) including network and scripting (Bash, Python) Deep understanding of complete end-to-end Data-warehouse  Data Analytics solutions. Containers (Docker, OpenShift) Experience with Spark development is an added advantage Interpersonal skills  Key metrics  Customer satisfaction (customer lifetime value improvement) Partner satisfaction Issue resolution speed Contributions to the overall platform Internal communication  Working conditions As a critical link between the client and the development, you must fully embrace the team spirit of a young and innovative Start-up. Business trips are possible.                                                                                                                                                                                                                                                                                                                                                                                                                                                                                                                                                                                                                                                       \n",
       "786    Strong qualtitative abilities and good with mathematical modelling tools Strong presentation skills for customer centric presentations of information Alert and attentive to details, especially in regard sensitive market pricing metrics Strong quantitative abilities with an analytical capability Leadership abilities allowing you to direct related company personnel to perform exceptionally                                                                                                                                                                                                                                                                                                                                                                                                                                                                                                                                                                                                                                                                                                                                                                                                                                                                                                                                                                                                                                                                                                                                                                                                                                                            \n",
       "\n",
       "          employment_type  year_experience_required_y         seniority  \\\n",
       "338   Contract             3.0                         Fresh/entrylevel   \n",
       "1406  FullTime,Internship  2.0                         Executive          \n",
       "378   Contract             3.0                         Fresh/entrylevel   \n",
       "1280  FullTime,Internship  3.0                         Executive          \n",
       "786   FullTime             3.0                         Manager            \n",
       "\n",
       "                                                                                                                                 url  \n",
       "338   https://www.mycareersfuture.sg/job/cse-cs-technical-support-analyst-starhub-bc865ff5b9c679577475a8439beb27f3                    \n",
       "1406  https://www.mycareersfuture.sg/job/field-data-scientist-dathena-science-ef8743c8aad21b7da211bfaf16e59a1e                        \n",
       "378   https://www.mycareersfuture.sg/job/support-analyst-winsys-technology-8e73381a575bc7462fc4211487d118e7                           \n",
       "1280  https://www.mycareersfuture.sg/job/field-operation-engineer-big-data-engineer-dathena-science-817389eb9f9b7b01508fe9331f4d526f  \n",
       "786   https://www.mycareersfuture.sg/job/pricing-manager-sun-electric-ec88b8fd2b2bd15eeb1b586ce3124b48                                "
      ]
     },
     "execution_count": 40,
     "metadata": {},
     "output_type": "execute_result"
    }
   ],
   "source": [
    "Xs_test_temp = Xs_test.merge(y_test,how='left',left_on=None,right_on=None,left_index=True,right_index=True)\n",
    "Xs_test_temp['residual_percentage'] = (Xs_test_temp['xgreg_predictions'] - Xs_test_temp['annual_salary_low'])/ Xs_test_temp['annual_salary_low']\n",
    "\n",
    "pd.set_option('max_colwidth', -1)\n",
    "Xs_test_temp.sort_values(by=['residual_percentage']).tail()\\\n",
    ".merge(jobs[['company','title','requirement','year_experience_required','employment_type','seniority','url']],how='inner',left_on=None,right_on=None,left_index=True,right_index=True)\\\n",
    "[['company','annual_salary_low','xgreg_predictions','title','requirement','employment_type','year_experience_required_y','seniority','url']]"
   ]
  },
  {
   "cell_type": "markdown",
   "metadata": {},
   "source": [
    "## Top 5 under-estimated jobs by percentage"
   ]
  },
  {
   "cell_type": "code",
   "execution_count": 41,
   "metadata": {
    "scrolled": true
   },
   "outputs": [
    {
     "data": {
      "text/html": [
       "<div>\n",
       "<style scoped>\n",
       "    .dataframe tbody tr th:only-of-type {\n",
       "        vertical-align: middle;\n",
       "    }\n",
       "\n",
       "    .dataframe tbody tr th {\n",
       "        vertical-align: top;\n",
       "    }\n",
       "\n",
       "    .dataframe thead th {\n",
       "        text-align: right;\n",
       "    }\n",
       "</style>\n",
       "<table border=\"1\" class=\"dataframe\">\n",
       "  <thead>\n",
       "    <tr style=\"text-align: right;\">\n",
       "      <th></th>\n",
       "      <th>company</th>\n",
       "      <th>annual_salary_low</th>\n",
       "      <th>xgreg_predictions</th>\n",
       "      <th>title</th>\n",
       "      <th>requirement</th>\n",
       "      <th>year_experience_required_y</th>\n",
       "      <th>employment_type</th>\n",
       "      <th>seniority</th>\n",
       "      <th>url</th>\n",
       "    </tr>\n",
       "  </thead>\n",
       "  <tbody>\n",
       "    <tr>\n",
       "      <th>58</th>\n",
       "      <td>DRW SINGAPORE PTE. LTD.</td>\n",
       "      <td>84000</td>\n",
       "      <td>41097.800781</td>\n",
       "      <td>Trading Analyst</td>\n",
       "      <td>What you’ll do in this role….  Research and analyze trends across major financial markets and cultivate a thorough understanding of current world events and their impact across financial markets Collaborate on the research, development, and implementation of trading strategies Investigate the potential application of existing strategies to new asset classes Perform post-trade analysis of strategies while utilizing custom technology systems Communicate relevant news, market events, and system behaviors to team members  What you bring to the team…  A bachelor’s, master’s, or PhD in mathematics, statistics, physics, engineering, computer science or related field Recent graduate to 2 years of work experience Advanced quantitative, analytical and problem solving skills and the ability to deploy those skills during time-sensitive situations A deep curiosity of analyzing large data sets using your knowledge of probability and statistics  Experience programming in Python, R, C++ or similar languages Proficient in Microsoft Excel, VBA Are adaptive, self-motivated, enjoy challenges and significant responsibility, and thrive in fast-paced, competitive environments Can advocate for your perspectives on trading strategies and risk in a concise manner to the team The ability to communicate effectively and work well in teams</td>\n",
       "      <td>2.0</td>\n",
       "      <td>FullTime</td>\n",
       "      <td>Fresh/entrylevel</td>\n",
       "      <td>https://www.mycareersfuture.sg/job/trading-analyst-drw-singapore-e975d3b300dc9012ad30f8d2570442a8</td>\n",
       "    </tr>\n",
       "    <tr>\n",
       "      <th>899</th>\n",
       "      <td>HARTREE PARTNERS SINGAPORE PTE. LIMITED</td>\n",
       "      <td>84000</td>\n",
       "      <td>42349.234375</td>\n",
       "      <td>Analyst, Job</td>\n",
       "      <td>Backgroun in IT and quantitative finance, experience in energy or commodities is an advantage. Proven experenience (2+ years) in PLEXOS software, to model the Australian Electricity Network. Familiarity with the AEMO EMMS Database schema and ASX schema. Strong knowledge in programming languages such as R.Python, VBA. etc with significant experience in automating data, web scraping and tool creation for the desk. Able to identify and solve problems in an independent manner. 3+ years experience in a similar role andor experience in Australian Power Industry or Markets. Familiar with database technology, preferably Oracle.  experience with developing queries, views, functions, and procedures and loadingimporting data (ETL).</td>\n",
       "      <td>2.0</td>\n",
       "      <td>FullTime</td>\n",
       "      <td>JuniorExecutive</td>\n",
       "      <td>https://www.mycareersfuture.sg/job/analyst-job-hartree-partners-singapore-cbdd329da9ef760c1ad8b943ad151bca</td>\n",
       "    </tr>\n",
       "    <tr>\n",
       "      <th>1162</th>\n",
       "      <td>OVERSEACHINESE BANKING CORPORATION LIMITED</td>\n",
       "      <td>84000</td>\n",
       "      <td>42526.468750</td>\n",
       "      <td>Business Analyst  Murex, Global Treasury (Business Process Transformation)  2 year contract</td>\n",
       "      <td>Requirements  Qualifications • Ideally degree in mathematical or financial discipline.   • Familiarity with Treasury products including Fixed Income and FX Cash  Money Market as well as derivative products. Good understanding of the trade lifecycle from front to back office.   • Experience and in-depth knowledge on Murex Treasury Version 3 platform is required especially in the areas of front office and middle office functions.  Knowledge on back office modules is an advantage.    • Prior experience in a function of Business Analyst, Project Manager or Middle  Back Office Team Lead in conversion projects with a proven track record is preferred.   • Excellent communication skills, able to handle multiple projects and priorities concurrently and manage business expectations accordingly.     Position  2 year contract</td>\n",
       "      <td>2.0</td>\n",
       "      <td>Contract,FullTime</td>\n",
       "      <td>SeniorExecutive</td>\n",
       "      <td>https://www.mycareersfuture.sg/job/business-analyst-murex-global-treasury-2-year-contract-oversea-chinese-banking-corporation-b289fb5208bcbc07903ee9e6fc9b06ac</td>\n",
       "    </tr>\n",
       "    <tr>\n",
       "      <th>474</th>\n",
       "      <td>BARCLAYS BANK PLC</td>\n",
       "      <td>108000</td>\n",
       "      <td>54778.812500</td>\n",
       "      <td>2019 Markets (Structuring) Graduate Programme</td>\n",
       "      <td>Our Graduate Roles are available for students in their final year Bachelors or Masters degree students or graduates with no more than 2 working years of experience.   The ideal candidate should show the following competencies  Agile learner You’re hungry to learn more, adapting what you know to new situations and gaining a comprehensive knowledge of our business. Relationship navigator You want to make strong and lasting relationships across teams, businesses and geographic areas. You are comfortable with calling on others for help and collaboration. Team collaborator You thrive on achieving goals through teamwork. You can lead, make valid contributions, and leverage your group’s collective expertise and skills. Resilient performer You work well under pressure. You’re determined, you get things done, and you aren’t phased by challenges, changes or ambiguity in what’s asked of you. Critical analyst You like to analyse and interpret problems and complex information. When it comes to finding a solution, you think broadly and consider a wide number of information sources to reach your conclusions. Numerical interpreter You can understand the story behind facts and figures. You can use numerical skills to solve a problem, and you can use numerical data to build a narrative and understand a subject.</td>\n",
       "      <td>3.0</td>\n",
       "      <td>Permanent,FullTime</td>\n",
       "      <td>Fresh/entrylevel</td>\n",
       "      <td>https://www.mycareersfuture.sg/job/2019-markets-graduate-programme-barclays-bank-plc-3d96b582270fd66afdd3e6054e6e5dd1</td>\n",
       "    </tr>\n",
       "    <tr>\n",
       "      <th>947</th>\n",
       "      <td>MCI CAREER  SERVICES PTE. LTD.</td>\n",
       "      <td>96000</td>\n",
       "      <td>50917.707031</td>\n",
       "      <td>Lead Business Analyst (Cards)</td>\n",
       "      <td>Experience in any mainframe credit card application software particularly in either Issuing or Acquiring or Authorization or Loan modules Strong technical and analytical skills Experience in core credit card system migration is a an added advantage Motivated and Team Player  Applicants who possess relevant experience for the above responsibilities are most welcome to apply. If you do not possess the above experience, your application will still be considered on individual merits and you may be contacted for other opportunities. Please include the following information in your resume • Education background • Work experiences in point forms • Reason (s) for leaving • Current and expected salary • Date of availability  Notice period **We regret to inform that only shortlisted candidates would be notified. ** We wish you all the best in your career search. Lau Wei Ling (Natalyn) Registration Number R1762677 EA Licence No 06C2859 (MCI Career Services Pte Ltd</td>\n",
       "      <td>3.0</td>\n",
       "      <td>Permanent,Contract</td>\n",
       "      <td>Manager,Executive,SeniorExecutive</td>\n",
       "      <td>https://www.mycareersfuture.sg/job/lead-business-analyst-mci-career-services-cd7e9abbfe98f43ee3ffbf1fa70fa287</td>\n",
       "    </tr>\n",
       "  </tbody>\n",
       "</table>\n",
       "</div>"
      ],
      "text/plain": [
       "                                         company  annual_salary_low  \\\n",
       "58    DRW SINGAPORE PTE. LTD.                     84000               \n",
       "899   HARTREE PARTNERS SINGAPORE PTE. LIMITED     84000               \n",
       "1162  OVERSEACHINESE BANKING CORPORATION LIMITED  84000               \n",
       "474   BARCLAYS BANK PLC                           108000              \n",
       "947   MCI CAREER  SERVICES PTE. LTD.              96000               \n",
       "\n",
       "      xgreg_predictions  \\\n",
       "58    41097.800781        \n",
       "899   42349.234375        \n",
       "1162  42526.468750        \n",
       "474   54778.812500        \n",
       "947   50917.707031        \n",
       "\n",
       "                                                                                            title  \\\n",
       "58    Trading Analyst                                                                               \n",
       "899   Analyst, Job                                                                                  \n",
       "1162  Business Analyst  Murex, Global Treasury (Business Process Transformation)  2 year contract   \n",
       "474   2019 Markets (Structuring) Graduate Programme                                                 \n",
       "947   Lead Business Analyst (Cards)                                                                 \n",
       "\n",
       "                                                                                                                                                                                                                                                                                                                                                                                                                                                                                                                                                                                                                                                                                                                                                                                                                                                                                                                                                                                                                                                                                                                                                                                                                                                                                                                                                                               requirement  \\\n",
       "58    What you’ll do in this role….  Research and analyze trends across major financial markets and cultivate a thorough understanding of current world events and their impact across financial markets Collaborate on the research, development, and implementation of trading strategies Investigate the potential application of existing strategies to new asset classes Perform post-trade analysis of strategies while utilizing custom technology systems Communicate relevant news, market events, and system behaviors to team members  What you bring to the team…  A bachelor’s, master’s, or PhD in mathematics, statistics, physics, engineering, computer science or related field Recent graduate to 2 years of work experience Advanced quantitative, analytical and problem solving skills and the ability to deploy those skills during time-sensitive situations A deep curiosity of analyzing large data sets using your knowledge of probability and statistics  Experience programming in Python, R, C++ or similar languages Proficient in Microsoft Excel, VBA Are adaptive, self-motivated, enjoy challenges and significant responsibility, and thrive in fast-paced, competitive environments Can advocate for your perspectives on trading strategies and risk in a concise manner to the team The ability to communicate effectively and work well in teams    \n",
       "899   Backgroun in IT and quantitative finance, experience in energy or commodities is an advantage. Proven experenience (2+ years) in PLEXOS software, to model the Australian Electricity Network. Familiarity with the AEMO EMMS Database schema and ASX schema. Strong knowledge in programming languages such as R.Python, VBA. etc with significant experience in automating data, web scraping and tool creation for the desk. Able to identify and solve problems in an independent manner. 3+ years experience in a similar role andor experience in Australian Power Industry or Markets. Familiar with database technology, preferably Oracle.  experience with developing queries, views, functions, and procedures and loadingimporting data (ETL).                                                                                                                                                                                                                                                                                                                                                                                                                                                                                                                                                                                                                             \n",
       "1162  Requirements  Qualifications • Ideally degree in mathematical or financial discipline.   • Familiarity with Treasury products including Fixed Income and FX Cash  Money Market as well as derivative products. Good understanding of the trade lifecycle from front to back office.   • Experience and in-depth knowledge on Murex Treasury Version 3 platform is required especially in the areas of front office and middle office functions.  Knowledge on back office modules is an advantage.    • Prior experience in a function of Business Analyst, Project Manager or Middle  Back Office Team Lead in conversion projects with a proven track record is preferred.   • Excellent communication skills, able to handle multiple projects and priorities concurrently and manage business expectations accordingly.     Position  2 year contract                                                                                                                                                                                                                                                                                                                                                                                                                                                                                                                              \n",
       "474   Our Graduate Roles are available for students in their final year Bachelors or Masters degree students or graduates with no more than 2 working years of experience.   The ideal candidate should show the following competencies  Agile learner You’re hungry to learn more, adapting what you know to new situations and gaining a comprehensive knowledge of our business. Relationship navigator You want to make strong and lasting relationships across teams, businesses and geographic areas. You are comfortable with calling on others for help and collaboration. Team collaborator You thrive on achieving goals through teamwork. You can lead, make valid contributions, and leverage your group’s collective expertise and skills. Resilient performer You work well under pressure. You’re determined, you get things done, and you aren’t phased by challenges, changes or ambiguity in what’s asked of you. Critical analyst You like to analyse and interpret problems and complex information. When it comes to finding a solution, you think broadly and consider a wide number of information sources to reach your conclusions. Numerical interpreter You can understand the story behind facts and figures. You can use numerical skills to solve a problem, and you can use numerical data to build a narrative and understand a subject.                     \n",
       "947    Experience in any mainframe credit card application software particularly in either Issuing or Acquiring or Authorization or Loan modules Strong technical and analytical skills Experience in core credit card system migration is a an added advantage Motivated and Team Player  Applicants who possess relevant experience for the above responsibilities are most welcome to apply. If you do not possess the above experience, your application will still be considered on individual merits and you may be contacted for other opportunities. Please include the following information in your resume • Education background • Work experiences in point forms • Reason (s) for leaving • Current and expected salary • Date of availability  Notice period **We regret to inform that only shortlisted candidates would be notified. ** We wish you all the best in your career search. Lau Wei Ling (Natalyn) Registration Number R1762677 EA Licence No 06C2859 (MCI Career Services Pte Ltd                                                                                                                                                                                                                                                                                                                                                                               \n",
       "\n",
       "      year_experience_required_y     employment_type  \\\n",
       "58    2.0                         FullTime             \n",
       "899   2.0                         FullTime             \n",
       "1162  2.0                         Contract,FullTime    \n",
       "474   3.0                         Permanent,FullTime   \n",
       "947   3.0                         Permanent,Contract   \n",
       "\n",
       "                              seniority  \\\n",
       "58    Fresh/entrylevel                    \n",
       "899   JuniorExecutive                     \n",
       "1162  SeniorExecutive                     \n",
       "474   Fresh/entrylevel                    \n",
       "947   Manager,Executive,SeniorExecutive   \n",
       "\n",
       "                                                                                                                                                                 url  \n",
       "58    https://www.mycareersfuture.sg/job/trading-analyst-drw-singapore-e975d3b300dc9012ad30f8d2570442a8                                                               \n",
       "899   https://www.mycareersfuture.sg/job/analyst-job-hartree-partners-singapore-cbdd329da9ef760c1ad8b943ad151bca                                                      \n",
       "1162  https://www.mycareersfuture.sg/job/business-analyst-murex-global-treasury-2-year-contract-oversea-chinese-banking-corporation-b289fb5208bcbc07903ee9e6fc9b06ac  \n",
       "474   https://www.mycareersfuture.sg/job/2019-markets-graduate-programme-barclays-bank-plc-3d96b582270fd66afdd3e6054e6e5dd1                                           \n",
       "947   https://www.mycareersfuture.sg/job/lead-business-analyst-mci-career-services-cd7e9abbfe98f43ee3ffbf1fa70fa287                                                   "
      ]
     },
     "execution_count": 41,
     "metadata": {},
     "output_type": "execute_result"
    }
   ],
   "source": [
    "pd.set_option('max_colwidth', -1)\n",
    "Xs_test_temp.sort_values(by=['residual_percentage']).head()\\\n",
    ".merge(jobs[['company','title','requirement','year_experience_required','employment_type','seniority','url']],how='inner',left_on=None,right_on=None,left_index=True,right_index=True)\\\n",
    "[['company','annual_salary_low','xgreg_predictions','title','requirement','year_experience_required_y','employment_type','seniority','url']]"
   ]
  },
  {
   "cell_type": "markdown",
   "metadata": {},
   "source": [
    "## Question 2\n",
    "### What components of a job posting distinguish data scientists from other data jobs?\n",
    "### Method 1: EDA"
   ]
  },
  {
   "cell_type": "code",
   "execution_count": 42,
   "metadata": {},
   "outputs": [],
   "source": [
    "def get_freq_words(sparse_counts, columns):\n",
    "    # X_all is a sparse matrix, so sum() returns a 'matrix' datatype ...\n",
    "    #   which we then convert into a 1-D ndarray for sorting\n",
    "    word_counts = np.asarray(X_nlp.sum(axis=0)).reshape(-1)\n",
    "\n",
    "    # argsort() returns smallest first, so we reverse the result\n",
    "    largest_count_indices = word_counts.argsort()[::-1]\n",
    "\n",
    "    # pretty-print the results! Remember to always ask whether they make sense ...\n",
    "    freq_words = pd.Series(word_counts[largest_count_indices], \n",
    "                           index=columns[largest_count_indices])\n",
    "    df =  pd.DataFrame(freq_words).reset_index()\n",
    "    df.columns =['keyword','frequency']\n",
    "    return df\n"
   ]
  },
  {
   "cell_type": "code",
   "execution_count": 43,
   "metadata": {},
   "outputs": [
    {
     "name": "stdout",
     "output_type": "stream",
     "text": [
      "analyst\n",
      "                  keyword  frequency\n",
      "0   communication skills   392      \n",
      "2   business requirements  242      \n",
      "3   computer science       237      \n",
      "4   3 years                223      \n",
      "5   problem solving        222      \n",
      "6   ability work           209      \n",
      "7   5 years                208      \n",
      "9   skills ability         200      \n",
      "10  business analyst       200      \n",
      "11  team player            200      \n",
      "----------------------------------------------------------------------------------------------------\n",
      "other\n",
      "                  keyword  frequency\n",
      "0   communication skills   95       \n",
      "1   business intelligence  94       \n",
      "2   business analyst       68       \n",
      "4   problem solving        66       \n",
      "5   ability work           58       \n",
      "6   computer science       56       \n",
      "7   team members           52       \n",
      "8   software development   46       \n",
      "9   interpersonal skills   46       \n",
      "10  team player            45       \n",
      "----------------------------------------------------------------------------------------------------\n",
      "data scientist\n",
      "            keyword  frequency\n",
      "0  machine learning  162      \n",
      "1  data science      108      \n",
      "2  computer science  53       \n",
      "3  data scientist    52       \n",
      "4  big data          46       \n",
      "----------------------------------------------------------------------------------------------------\n",
      "data engineer\n",
      "            keyword  frequency\n",
      "0  big data          110      \n",
      "1  computer science  74       \n",
      "2  2 years           49       \n",
      "3  hands experience  48       \n",
      "5  machine learning  37       \n",
      "----------------------------------------------------------------------------------------------------\n"
     ]
    }
   ],
   "source": [
    "for cat in set(jobs['data_role_category']):\n",
    "\n",
    "    cvt = CountVectorizer(min_df=30,stop_words='english',ngram_range=(2, 3),token_pattern=r'\\b\\w+\\b',strip_accents='unicode')\n",
    "    X_nlp    =  cvt.fit_transform(jobs[jobs['data_role_category']==cat]['requirement_description'])\n",
    "    columns  =  np.array(cvt.get_feature_names())   \n",
    "    \n",
    "    excluded_keywords = ['experience','skills','data','years','working','degree','e g','years experience']\n",
    "    freq_words = get_freq_words(X_nlp, columns)\n",
    "    print(cat)\n",
    "    print(freq_words[~freq_words['keyword'].isin(excluded_keywords)][:10])\n",
    "    print('-'*100)"
   ]
  },
  {
   "cell_type": "markdown",
   "metadata": {},
   "source": [
    "### Comparing top keywords of each data role:\n",
    "\n",
    "#### DATA SCIENTISTS:\n",
    "1. Machine Learning\n",
    "2. Data Science\n",
    "3. Computer Science\n",
    "4. Big Data  \n",
    "\n",
    "#### DATA ANALYSTS:\n",
    "1. Communication skills\n",
    "2. Business requirements\n",
    "3. Computer science\n",
    "4. Problem solving\n",
    "\n",
    "##### Data scientists requires more of technical skills (hard skills) from the candidate.\n",
    "##### On the contrary, the hiring manager is emphasizing more of interpersonal skills (soft skills) for data analysts."
   ]
  },
  {
   "cell_type": "markdown",
   "metadata": {},
   "source": [
    "### Identify key differences between data analyst vs data scientist/ data engineer from job requirement using k-mean clustering and classification\n",
    "\n"
   ]
  },
  {
   "cell_type": "markdown",
   "metadata": {},
   "source": [
    "### Method 2: Un-supervised learning: k-mean clustering\n",
    "-- identifying key difference of job scope between data scientist vs data engineer vs data analyst"
   ]
  },
  {
   "cell_type": "code",
   "execution_count": 44,
   "metadata": {},
   "outputs": [
    {
     "data": {
      "image/png": "[encoded data removed]",
      "text/plain": [
       "<Figure size 576x360 with 1 Axes>"
      ]
     },
     "metadata": {
      "needs_background": "light"
     },
     "output_type": "display_data"
    }
   ],
   "source": [
    "# plotting the silhoutte score for each k to identify a good number of clusters\n",
    "\n",
    "sils = []\n",
    "for k in [2,3,4,5,6,7,8]:\n",
    "    km = cluster.KMeans(n_clusters=k,random_state=99)\n",
    "    km.fit(jobs[keywords_column])\n",
    "    sils.append(metrics.silhouette_score(jobs[keywords_column], km.labels_, metric='euclidean'))\n",
    "    \n",
    "fig, ax = plt.subplots(figsize=(8,5))\n",
    "ax.plot([2,3,4,5,6,7,8], sils, c='grey', lw=3.5, alpha=0.7)\n",
    "ax.scatter([2,3,4,5,6,7,8], sils, c='darkred', s=175)\n",
    "plt.title('Silhouette score for different values of k')\n",
    "plt.xlabel('k')\n",
    "plt.ylabel('silhouette score')\n",
    "plt.show()"
   ]
  },
  {
   "cell_type": "markdown",
   "metadata": {},
   "source": [
    "By using Silhouette score, it's suggesting that the optimal clusters from the dataset is 3."
   ]
  },
  {
   "cell_type": "code",
   "execution_count": 45,
   "metadata": {},
   "outputs": [
    {
     "data": {
      "text/plain": [
       "0.1923290631583285"
      ]
     },
     "execution_count": 45,
     "metadata": {},
     "output_type": "execute_result"
    }
   ],
   "source": [
    "from sklearn import cluster, metrics\n",
    "\n",
    "k = 3\n",
    "kmeans = cluster.KMeans(n_clusters=k,random_state=99)\n",
    "X_cluster = jobs[keywords_column]\n",
    "kmeans.fit(X_cluster)\n",
    "\n",
    "# checking silhoutte score between clusters\n",
    "labels = kmeans.labels_\n",
    "centroids = kmeans.cluster_centers_\n",
    "metrics.silhouette_score(X_cluster, labels, metric='euclidean')"
   ]
  },
  {
   "cell_type": "markdown",
   "metadata": {},
   "source": [
    "The score is positive (though not 1.), indicating that there is decent separation and coherence with 4 clusters."
   ]
  },
  {
   "cell_type": "code",
   "execution_count": 46,
   "metadata": {},
   "outputs": [
    {
     "data": {
      "text/plain": [
       "kmean_label\n",
       "0    412 \n",
       "1    45  \n",
       "2    1060\n",
       "dtype: int64"
      ]
     },
     "execution_count": 46,
     "metadata": {},
     "output_type": "execute_result"
    }
   ],
   "source": [
    "jobs['kmean_label'] = kmeans.labels_\n",
    "jobs.groupby('kmean_label').size()"
   ]
  },
  {
   "cell_type": "markdown",
   "metadata": {},
   "source": [
    "#### Excluding some keywords and look at top 10 keywords with ngram=(2,3) for each label"
   ]
  },
  {
   "cell_type": "code",
   "execution_count": 47,
   "metadata": {},
   "outputs": [
    {
     "name": "stdout",
     "output_type": "stream",
     "text": [
      "Job Role Category: 0\n",
      " \n",
      "                  keyword  frequency\n",
      "0   communication skills   173      \n",
      "2   computer science       113      \n",
      "3   business requirements  100      \n",
      "4   business analyst       99       \n",
      "5   problem solving        94       \n",
      "6   skills ability         90       \n",
      "7   ability work           88       \n",
      "8   working experience     79       \n",
      "9   team player            78       \n",
      "10  able work              73       \n",
      "----------------------------------------------------------------------------------------------------\n",
      " \n",
      "Job Role Category: 1\n",
      " \n",
      "                keyword  frequency\n",
      "1  communication skills  19       \n",
      "2  experience working    16       \n",
      "3  problem solving       14       \n",
      "4  team player           11       \n",
      "5  computer science      11       \n",
      "----------------------------------------------------------------------------------------------------\n",
      " \n",
      "Job Role Category: 2\n",
      " \n",
      "                  keyword  frequency\n",
      "0   communication skills   347      \n",
      "2   computer science       296      \n",
      "3   machine learning       233      \n",
      "4   problem solving        220      \n",
      "5   ability work           188      \n",
      "6   big data               188      \n",
      "7   team player            181      \n",
      "8   working experience     179      \n",
      "9   business requirements  172      \n",
      "10  experience working     170      \n",
      "----------------------------------------------------------------------------------------------------\n",
      " \n"
     ]
    }
   ],
   "source": [
    "# data_role={0:'data scientist/engineer',1:'analyst',2:'other'}\n",
    "\n",
    "for label in [0,1,2]:\n",
    "\n",
    "    cvt = CountVectorizer(min_df=10,stop_words='english',ngram_range=(2, 3))\n",
    "    X_nlp    =  cvt.fit_transform(jobs[jobs['kmean_label']==label]['requirement_description'])\n",
    "    columns  =  np.array(cvt.get_feature_names())   \n",
    "    \n",
    "    excluded_keywords = ['experience','skills','data','years','working','degree','e g','years experience']\n",
    "    freq_words = get_freq_words(X_nlp, columns)\n",
    "    \n",
    "    print(\"Job Role Category: \" + str(label))\n",
    "    print(\" \")\n",
    "    print(freq_words[~freq_words['keyword'].isin(excluded_keywords)][:10])\n",
    "    print('-'*100)\n",
    "    print(\" \")"
   ]
  },
  {
   "cell_type": "markdown",
   "metadata": {},
   "source": [
    "There are no clear diferences between 3 clusters found by looking at the keywords from job requirements.\n",
    "\n",
    "By comparing distribution of the labels with our real distribution of analyst vs data scientist vs data engineers, I assume that label 0 == data scientist, label 1 == others and label 2 == analysts. \n",
    "Let's quickly compare the labels against title and check my accuracy:"
   ]
  },
  {
   "cell_type": "code",
   "execution_count": 48,
   "metadata": {},
   "outputs": [
    {
     "data": {
      "text/plain": [
       "0.5"
      ]
     },
     "execution_count": 48,
     "metadata": {},
     "output_type": "execute_result"
    }
   ],
   "source": [
    "# Check labels against title\n",
    "\n",
    "jobs['data_role_category_num'] = [2 if val =='analyst' else (1 if val =='other' else 0) for val in jobs['data_role_category'] ] \n",
    "round(1.*len(jobs[ jobs['data_role_category_num'] == jobs['kmean_label']  ])\\\n",
    "/len(jobs['data_role_category_num']),2)\n"
   ]
  },
  {
   "cell_type": "code",
   "execution_count": 49,
   "metadata": {},
   "outputs": [
    {
     "name": "stdout",
     "output_type": "stream",
     "text": [
      "0 data scientist/engineer | 0.2\n",
      "1 other | 0.03\n",
      "2 analyst | 0.67\n"
     ]
    }
   ],
   "source": [
    "# check accuracy for each data role\n",
    "data_role={0:'data scientist/engineer',1:'other',2:'analyst'}\n",
    "for i in [0,1,2]:\n",
    "    df_temp_c = jobs[jobs['data_role_category_num']==i] \n",
    "    print(i,data_role[i],\"|\",round(1.*len(df_temp_c[df_temp_c['data_role_category_num']==df_temp_c['kmean_label']])/len(df_temp_c),2))"
   ]
  },
  {
   "cell_type": "markdown",
   "metadata": {},
   "source": [
    "It seems by using just job requirements and company description, k-mean clustering is unable to accurately help me identifying different job titles."
   ]
  },
  {
   "cell_type": "markdown",
   "metadata": {},
   "source": [
    "### Method 3: Supervised-learning: Classification"
   ]
  },
  {
   "cell_type": "code",
   "execution_count": 50,
   "metadata": {},
   "outputs": [
    {
     "name": "stdout",
     "output_type": "stream",
     "text": [
      "(1016, 162) (1016,) (501, 162) (501,)\n",
      "Baseline:  0.693\n"
     ]
    }
   ],
   "source": [
    "# exclude Others from data_role_category\n",
    "\n",
    "jobs_subset = jobs[jobs['data_role_category']!='others']\n",
    "\n",
    "X_subset = jobs_subset[keywords_column]\n",
    "y_subset = pd.Series([1 if val =='analyst' else 0 for val in jobs_subset['data_role_category']])\n",
    "Xsubset_train, Xsubset_test, ysubset_train, ysubset_test = train_test_split(X_subset,y_subset,test_size=0.33,random_state=42)\n",
    "print(Xsubset_train.shape,ysubset_train.shape,Xsubset_test.shape,ysubset_test.shape)\n",
    "print(\"Baseline: \", round(y_subset.value_counts()[1] / len(y_subset),3))"
   ]
  },
  {
   "cell_type": "code",
   "execution_count": 51,
   "metadata": {},
   "outputs": [
    {
     "name": "stdout",
     "output_type": "stream",
     "text": [
      "0.7280781462971376\n",
      "0.7193385122410546\n",
      "0.6522144522144523\n",
      "0.6862277353689569\n",
      "0.7112758945386064\n",
      "----------------------------------------------------------------------------------------------------\n",
      "mean auc:  0.6994269481320415\n"
     ]
    }
   ],
   "source": [
    "xgb_2 = XGBClassifier(base_score=0.5, booster='gbtree', colsample_bylevel=1,\n",
    "      colsample_bytree=1, gamma=0, learning_rate=0.1, max_delta_step=0,\n",
    "      max_depth=5, min_child_weight=1, missing=None, n_estimators=100,\n",
    "      n_jobs=1, nthread=None, objective='binary:logistic', random_state=0,\n",
    "      reg_alpha=1, reg_lambda=0, scale_pos_weight=1, seed=None,\n",
    "      silent=True, subsample=1)\n",
    "\n",
    "kfolds = KFold(n_splits=5,random_state=99)\n",
    "\n",
    "roc_auc_values =[]\n",
    "for traini, testi in kfolds.split(Xsubset_train):\n",
    "    Xsubset_train_ = Xsubset_train.iloc[traini]\n",
    "    ysubset_train_ = ysubset_train.iloc[traini]\n",
    "    xgb_2.fit(Xsubset_train_,ysubset_train_)\n",
    "    y_pred = xgb_2.predict_proba(Xsubset_train.iloc[testi,:])[:,1]\n",
    "    fpr, tpr, _ = roc_curve(ysubset_train.iloc[testi], y_pred)\n",
    "    roc_auc = auc(fpr, tpr)\n",
    "    roc_auc_values.append(roc_auc)\n",
    "    print(roc_auc)\n",
    "print(\"-\"*100)\n",
    "print(\"mean auc: \",np.mean(roc_auc_values))"
   ]
  },
  {
   "cell_type": "markdown",
   "metadata": {},
   "source": []
  }
 ],
 "metadata": {
  "kernelspec": {
   "display_name": "Python 3",
   "language": "python",
   "name": "python3"
  },
  "language_info": {
   "codemirror_mode": {
    "name": "ipython",
    "version": 3
   },
   "file_extension": ".py",
   "mimetype": "text/x-python",
   "name": "python",
   "nbconvert_exporter": "python",
   "pygments_lexer": "ipython3",
   "version": "3.6.8"
  }
 },
 "nbformat": 4,
 "nbformat_minor": 2
}
