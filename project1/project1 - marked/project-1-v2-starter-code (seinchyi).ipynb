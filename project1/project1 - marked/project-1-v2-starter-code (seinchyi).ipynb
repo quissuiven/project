{
 "cells": [
  {
   "cell_type": "markdown",
   "metadata": {},
   "source": [
    "<img src=\"http://imgur.com/1ZcRyrc.png\" style=\"float: left; margin: 15px; height: 80px\">\n",
    "\n",
    "# Project 1\n",
    "\n",
    "### Building \"Pokemon Stay\"\n",
    "\n",
    "---\n",
    "You are an analyst at a \"scrappy\" online gaming company that specializes in remakes of last year's fads.\n",
    "\n",
    "Your boss, who runs the product development team, is convinced that Pokemon Go's fatal flaw was that you had to actually move around outside. She has design mock-ups for a new game called Pokemon Stay: in this version players still need to move, but just from website to website. Pokemon gyms are now popular online destinations, and catching Pokemon in the \"wild\" simply requires browsing the internet for hours in the comfort of your home.\n",
    "\n",
    "She wants you to program a prototype version of the game, and analyze the planned content to help the team calibrate the design."
   ]
  },
  {
   "cell_type": "markdown",
   "metadata": {},
   "source": [
    "#### Package imports\n",
    "\n",
    "The pprint package below is the only package imported here, and it's not even strictly required to do any of the project. Printing python variables and objects with pprint can help to format them in a \"prettier\" way."
   ]
  },
  {
   "cell_type": "code",
   "execution_count": 1,
   "metadata": {},
   "outputs": [],
   "source": [
    "from pprint import pprint"
   ]
  },
  {
   "cell_type": "markdown",
   "metadata": {},
   "source": [
    "<img src=\"http://imgur.com/l5NasQj.png\" style=\"float: left; margin: 25px 15px 0px 0px; height: 25px\">\n",
    "\n",
    "## 1. Defining a player\n",
    "\n",
    "---\n",
    "\n",
    "The player variables are:\n",
    "\n",
    "    player_id : id code unique to each player (integer)\n",
    "    player_name : entered name of the player (string)\n",
    "    time_played : number of time played the game in minutes (float)\n",
    "    player_pokemon: the player's captured pokemon (dictionary)\n",
    "    gyms_visited: ids of the gyms that a player has visited (list)\n",
    "    \n",
    "Create the components for a player object by defining each of these variables. The dictionary and list variables should just be defined as empty; you can use any (correctly typed) values for the others."
   ]
  },
  {
   "cell_type": "code",
   "execution_count": 2,
   "metadata": {},
   "outputs": [
    {
     "name": "stdout",
     "output_type": "stream",
     "text": [
      "\"Player 'andy' with id = 1 is created\"\n"
     ]
    }
   ],
   "source": [
    "# Defining a class with instance attribute so that attributes are not shared when updating players class\n",
    "\n",
    "class player(object):\n",
    "    \n",
    "    def __init__(self,player_id,player_name='',time_played=1,player_pokemon=None,gyms_visited=None):\n",
    "        \n",
    "        self.player_id=player_id\n",
    "        self.player_name=player_name\n",
    "        self.time_played=time_played\n",
    "        if player_pokemon is None:\n",
    "            player_pokemon={}\n",
    "        self.player_pokemon=player_pokemon\n",
    "        if gyms_visited is None:\n",
    "            gyms_visited =[]\n",
    "        self.gyms_visited=gyms_visited\n",
    "        \n",
    "    def print_stats(self):\n",
    "        print('player_id:', self.player_id)\n",
    "        print('player_name:', self.player_name)\n",
    "        print('time_played:', self.time_played)\n",
    "        print('player_pokemon:', self.player_pokemon)\n",
    "        print('gyms_visited:', self.gyms_visited)\n",
    " \n",
    "andy=player(player_id=1,player_name='andy')\n",
    "\n",
    "pprint(\"Player '{}' with id = {} is created\".format(andy.player_name,andy.player_id))"
   ]
  },
  {
   "cell_type": "markdown",
   "metadata": {},
   "source": [
    "> <font size = 3 color = \"olive\">It will be good to indicate units for your variables where applicable, e.g. time in seconds, minutes, or?\n",
    "    <p>Regardless, it's great to see effort in implementing Classes for this. Good work.</p></font>"
   ]
  },
  {
   "cell_type": "markdown",
   "metadata": {},
   "source": [
    "<img src=\"http://imgur.com/l5NasQj.png\" style=\"float: left; margin: 25px 15px 0px 0px; height: 25px\">\n",
    "\n",
    "## 2. Defining \"gym\" locations\n",
    "\n",
    "---\n",
    "\n",
    "As the sole programmer, Pokemon Stay will have to start small. To begin, there will be 10 different gym location websites on the internet. The gym locations are:\n",
    "\n",
    "    1. 'reddit.com'\n",
    "    2. 'amazon.com'\n",
    "    3. 'twitter.com'\n",
    "    4. 'linkedin.com'\n",
    "    5. 'ebay.com'\n",
    "    6. 'netflix.com'\n",
    "    7. 'sporcle.com'\n",
    "    8. 'stackoverflow.com'\n",
    "    9. 'github.com'\n",
    "    10. 'quora.com'\n",
    "\n",
    "1. Set up a list of all the gym locations. This will be a list of strings.\n",
    "2. Append two of these locations to your player's list of visited gyms.\n",
    "3. Print the list."
   ]
  },
  {
   "cell_type": "code",
   "execution_count": 3,
   "metadata": {},
   "outputs": [
    {
     "data": {
      "text/plain": [
       "['reddit.com', 'amazon.com']"
      ]
     },
     "execution_count": 3,
     "metadata": {},
     "output_type": "execute_result"
    }
   ],
   "source": [
    "# Adding the 1st and 2nd gym from the list of gyms to Andy's visited gyms\n",
    "\n",
    "pokemon_gyms=['reddit.com', 'amazon.com','twitter.com','linkedin.com','ebay.com','netflix.com','sporcle.com','stackoverflow.com','github.com','quora.com']\n",
    "andy.gyms_visited=[pokemon_gyms[0], pokemon_gyms[1]]\n",
    "\n",
    "andy.gyms_visited"
   ]
  },
  {
   "cell_type": "markdown",
   "metadata": {},
   "source": [
    "> <font size=3 color = \"olive\">Try to contain code within the cell width. You can use 'Enter', or backslash to indicate a pause in the current line for a line break (example below).</font>"
   ]
  },
  {
   "cell_type": "code",
   "execution_count": 4,
   "metadata": {},
   "outputs": [],
   "source": [
    "## EXAMPLE\n",
    "\n",
    "example = [\n",
    "    \"reddit\",\n",
    "    \"amazon\",\n",
    "    \"twitter\"\n",
    "]\n",
    "\n",
    "example2 = [\"redditredditredditredditredditredditreddit\", \"amazonamazonamazonamazonamazonamazonamazon\", \\\n",
    "           \"twittertwittertwitter\"]"
   ]
  },
  {
   "cell_type": "markdown",
   "metadata": {},
   "source": [
    "<img src=\"http://imgur.com/l5NasQj.png\" style=\"float: left; margin: 25px 15px 0px 0px; height: 25px\">\n",
    "\n",
    "## 3. Create a pokedex\n",
    "\n",
    "---\n",
    "\n",
    "We also need to create some pokemon to catch. Each pokemon will be defined by these variables:\n",
    "\n",
    "    pokemon_id : unique identifier for each pokemon (integer)\n",
    "    name : the name of the pokemon (string)\n",
    "    type : the category of pokemon (string)\n",
    "    hp : base hitpoints (integer)\n",
    "    attack : base attack (integer)\n",
    "    defense : base defense (integer)\n",
    "    special_attack : base special attack (integer)\n",
    "    special_defense : base sepecial defense (integer)\n",
    "    speed : base speed (integer)\n",
    "\n",
    "We are only going to create 3 different pokemon with these `pokemon_id` and `pokemon_name` values:\n",
    "\n",
    "    1 : 'charmander'\n",
    "    2 : 'squirtle'\n",
    "    3 : 'bulbasaur'\n",
    "\n",
    "Create a dictionary that will contain the pokemon. The keys of the dictionary will be the `pokemon_id` and the values will themselves dictionaries that contain the other pokemon variables. The structure of the pokedex dictionary will start like so:\n",
    "     \n",
    "     {\n",
    "         1: {\n",
    "                 'name':'charmander',\n",
    "                 'type':'fire',\n",
    "                 ...\n",
    "                 \n",
    "The `type` of charmander, squirtle, and bulbasaur should be `'fire'`, `'water'`, and `'poison'` respectively. The other values are up to you, make them anything you like!\n",
    "\n",
    "Print (or pretty print) the pokedex dictionary with the 3 pokemon."
   ]
  },
  {
   "cell_type": "code",
   "execution_count": 5,
   "metadata": {
    "scrolled": true
   },
   "outputs": [
    {
     "name": "stdout",
     "output_type": "stream",
     "text": [
      "{1: {'attack': 52,\n",
      "     'defense': 43,\n",
      "     'hp': 39,\n",
      "     'name': 'Charmander',\n",
      "     'special attack': 60,\n",
      "     'special defense': 50,\n",
      "     'speed': 65,\n",
      "     'total': 309,\n",
      "     'type': 'fire'},\n",
      " 2: {'attack': 48,\n",
      "     'defense': 65,\n",
      "     'hp': 44,\n",
      "     'name': 'Squirtle',\n",
      "     'special attack': 50,\n",
      "     'special defense': 64,\n",
      "     'speed': 43,\n",
      "     'total': 314,\n",
      "     'type': 'water'},\n",
      " 3: {'attack': 49,\n",
      "     'defense': 49,\n",
      "     'hp': 45,\n",
      "     'name': 'Bulbasaur',\n",
      "     'special attack': 65,\n",
      "     'special defense': 65,\n",
      "     'speed': 45,\n",
      "     'total': 318,\n",
      "     'type': 'poison'}}\n"
     ]
    }
   ],
   "source": [
    "#Name\tType\tTotal\tHP\tAttack\tDefense\tSpecialAttack\tSpecialDefense\tSpeed\n",
    "#Charmander\tFire\t309\t39\t52\t43\t60\t50\t65\n",
    "#Squirtle\tWater\t314\t44\t48\t65\t50\t64\t43\n",
    "#Bulbasaur\tGrassPoison\t318\t45\t49\t49\t65\t65\t45\n",
    "\n",
    "pokedex={1:{\n",
    "            'name':'Charmander',\n",
    "            'type':'fire',\n",
    "            'total':309,\n",
    "            'hp':39,\n",
    "            'attack':52,\n",
    "            'defense':43,\n",
    "            'special attack':60,\n",
    "            'special defense':50,\n",
    "            'speed':65},\n",
    "        2:{\n",
    "            'name':'Squirtle',\n",
    "            'type':'water',\n",
    "            'total':314,\n",
    "            'hp':44,\n",
    "            'attack':48,\n",
    "            'defense':65,\n",
    "            'special attack':50,\n",
    "            'special defense':64,\n",
    "            'speed':43},\n",
    "        3:{\n",
    "            'name':'Bulbasaur',\n",
    "            'type':'poison',\n",
    "            'total':318,\n",
    "            'hp':45,\n",
    "            'attack':49,\n",
    "            'defense':49,\n",
    "            'special attack':65,\n",
    "            'special defense':65,\n",
    "            'speed':45}\n",
    "        }\n",
    "\n",
    "pprint(pokedex)"
   ]
  },
  {
   "cell_type": "markdown",
   "metadata": {},
   "source": [
    "> <font size=3 color = \"olive\">Nice formatting! Good readability.</font>"
   ]
  },
  {
   "cell_type": "markdown",
   "metadata": {},
   "source": [
    "<img src=\"http://imgur.com/l5NasQj.png\" style=\"float: left; margin: 25px 15px 0px 0px; height: 25px\">\n",
    "\n",
    "## 4. Create a data structure for players\n",
    "\n",
    "---\n",
    "\n",
    "### 4.1 \n",
    "\n",
    "In order to maintain a database of multiple players, create a dictionary that keeps track of players indexed by `player_id`. \n",
    "\n",
    "The keys of the dictionary will be `player_id` and values will be dictionaries containing each player's variables (from question 1). \n",
    "\n",
    "Construct the `players` dictionary and insert the player that you defined in question 1, then print `players`."
   ]
  },
  {
   "cell_type": "code",
   "execution_count": 6,
   "metadata": {},
   "outputs": [
    {
     "name": "stdout",
     "output_type": "stream",
     "text": [
      "{1: {'gyms_visited': ['reddit.com', 'amazon.com'],\n",
      "     'player_id': 1,\n",
      "     'player_name': 'andy',\n",
      "     'player_pokemon': {},\n",
      "     'time_played': 1}}\n"
     ]
    }
   ],
   "source": [
    "player_id={andy.player_id:andy.__dict__}\n",
    "players={}\n",
    "\n",
    "players.update({andy.player_id:andy.__dict__})\n",
    "\n",
    "pprint(players)"
   ]
  },
  {
   "cell_type": "markdown",
   "metadata": {},
   "source": [
    "> <font size=3 color = \"olive\">What's the purpose of the first player_id assignment?<br>\n",
    "Also, 'player_id' as a key in the resultng nested dictionary is not necessary as player_id is already the key in the main dictionary.</font>"
   ]
  },
  {
   "cell_type": "markdown",
   "metadata": {},
   "source": [
    "---\n",
    "\n",
    "### 4.2\n",
    "\n",
    "Create a new player with `player_id = 2` in the `players` dictionary. Leave the `'player_pokemon'` dictionary empty. Append `'alcatraz'` and `'pacific_beach'` to the `'gyms_visited'` list for player 2.\n",
    "\n",
    "The `'player_name'` and `'time_played'` values are up to you, but must be a string and float, respectively.\n",
    "\n",
    "Remember, the player_id is the key for the player in the players dictionary.\n",
    "\n",
    "Print the `players` dictionary with the new player inserted."
   ]
  },
  {
   "cell_type": "code",
   "execution_count": 7,
   "metadata": {},
   "outputs": [
    {
     "name": "stdout",
     "output_type": "stream",
     "text": [
      "{1: {'gyms_visited': ['reddit.com', 'amazon.com'],\n",
      "     'player_id': 1,\n",
      "     'player_name': 'andy',\n",
      "     'player_pokemon': {},\n",
      "     'time_played': 1},\n",
      " 2: {'gyms_visited': ['alcatraz', 'pacific beach'],\n",
      "     'player_id': 2,\n",
      "     'player_name': 'ben',\n",
      "     'player_pokemon': {},\n",
      "     'time_played': 10.0}}\n"
     ]
    }
   ],
   "source": [
    "# Adding Ben as 2nd player to players dictionary\n",
    "# As players' attributes are instance attributes, the attributes are immutable when it's updated to the dictionary\n",
    "\n",
    "ben=player(player_id=2,player_name='ben',player_pokemon=None,time_played=10.0,gyms_visited=['alcatraz','pacific beach'])\n",
    "players.update({ben.player_id:ben.__dict__})\n",
    "\n",
    "pprint(players)"
   ]
  },
  {
   "cell_type": "markdown",
   "metadata": {},
   "source": [
    "> <font size=3 color = \"olive\">Readability! It will be good to put spaces before and/or after signs/operators like \"=\" \",\" etc.</font>"
   ]
  },
  {
   "cell_type": "markdown",
   "metadata": {},
   "source": [
    "<img src=\"http://imgur.com/l5NasQj.png\" style=\"float: left; margin: 25px 15px 0px 0px; height: 25px\">\n",
    "\n",
    "## 5. Add captured pokemon for each player\n",
    "\n",
    "---\n",
    "\n",
    "The `'player_pokemon'` keyed dictionaries for each player keep track of which of the pokemon each player has.\n",
    "\n",
    "The keys of the `'player_pokemon'` dictionaries are the pokemon ids that correspond to the ids in the `pokedex` dictionary you created earlier. The values are integers specifying the stats for the pokemon.\n",
    "\n",
    "Give player 1 a squirtle. Give player 2 charmander and a bulbasaur.\n",
    "\n",
    "Print the players dictionary after adding the pokemon for each player.\n"
   ]
  },
  {
   "cell_type": "code",
   "execution_count": 8,
   "metadata": {},
   "outputs": [
    {
     "name": "stdout",
     "output_type": "stream",
     "text": [
      "{1: {'gyms_visited': ['reddit.com', 'amazon.com'],\n",
      "     'player_id': 1,\n",
      "     'player_name': 'andy',\n",
      "     'player_pokemon': {1: {'attack': 48,\n",
      "                            'defense': 65,\n",
      "                            'hp': 44,\n",
      "                            'name': 'Squirtle',\n",
      "                            'special attack': 50,\n",
      "                            'special defense': 64,\n",
      "                            'speed': 43,\n",
      "                            'total': 314,\n",
      "                            'type': 'water'}},\n",
      "     'time_played': 1},\n",
      " 2: {'gyms_visited': ['alcatraz', 'pacific beach'],\n",
      "     'player_id': 2,\n",
      "     'player_name': 'ben',\n",
      "     'player_pokemon': {2: {'attack': 52,\n",
      "                            'defense': 43,\n",
      "                            'hp': 39,\n",
      "                            'name': 'Charmander',\n",
      "                            'special attack': 60,\n",
      "                            'special defense': 50,\n",
      "                            'speed': 65,\n",
      "                            'total': 309,\n",
      "                            'type': 'fire'},\n",
      "                        3: {'attack': 49,\n",
      "                            'defense': 49,\n",
      "                            'hp': 45,\n",
      "                            'name': 'Bulbasaur',\n",
      "                            'special attack': 65,\n",
      "                            'special defense': 65,\n",
      "                            'speed': 45,\n",
      "                            'total': 318,\n",
      "                            'type': 'poison'}},\n",
      "     'time_played': 10.0}}\n"
     ]
    }
   ],
   "source": [
    "# Give player 1 a squirtle. Give player 2 charmander and a bulbasaur.\n",
    "andy.player_pokemon={1:pokedex[2]}\n",
    "ben.player_pokemon={2:pokedex[1],3:pokedex[3]}\n",
    "\n",
    "# Print the players dictionary after adding the pokemon for each player.\n",
    "pprint(players)"
   ]
  },
  {
   "cell_type": "markdown",
   "metadata": {},
   "source": [
    "\n",
    "\n",
    "## 6. What gyms have players visited?\n",
    "\n",
    "---\n",
    "<img src=\"http://imgur.com/l5NasQj.png\" style=\"float: left; margin: 25px 15px 0px 0px; height: 25px\">\n",
    "### 6.1\n",
    "\n",
    "Write a for-loop that:\n",
    "\n",
    "1. Iterates through the `pokemon_gyms` list of gym locations you defined before.\n",
    "2. For each gym, iterate through each player in the `players` dictionary with a second, internal for-loop.\n",
    "3. If the player has visited the gym, print out \"[player] has visited [gym location].\", filling in [player] and [gym location] with the current player's name and current gym location."
   ]
  },
  {
   "cell_type": "code",
   "execution_count": 9,
   "metadata": {},
   "outputs": [
    {
     "name": "stdout",
     "output_type": "stream",
     "text": [
      "andy has visited: reddit.com.\n",
      "andy has visited: amazon.com.\n"
     ]
    }
   ],
   "source": [
    "# 1st solution\n",
    "# If we are starting the loop with pokemon_gyms, player 2's gym (Alcatraz and Pacific Beach) will not be displayed \n",
    "# as it's not in the list of original gyms_location\n",
    "\n",
    "for gym in pokemon_gyms:\n",
    "    for k in players.keys():\n",
    "        if gym in players[k]['gyms_visited']:\n",
    "            print(\"{} has visited: {}.\".format(players[k]['player_name'], gym))\n"
   ]
  },
  {
   "cell_type": "code",
   "execution_count": 10,
   "metadata": {},
   "outputs": [
    {
     "name": "stdout",
     "output_type": "stream",
     "text": [
      "andy has visited reddit.com.\n",
      "andy has visited amazon.com.\n",
      "ben has visited alcatraz.\n",
      "ben has visited pacific beach.\n"
     ]
    }
   ],
   "source": [
    "# 2nd solution\n",
    "# If we want to show all gym locations visited by all players we have\n",
    "\n",
    "for k in players.keys():\n",
    "    for gyms in players[k]['gyms_visited']: \n",
    "        print(\"{} has visited {}.\".format(players[k]['player_name'],gyms))"
   ]
  },
  {
   "cell_type": "markdown",
   "metadata": {},
   "source": [
    "<img src=\"http://imgur.com/xDpSobf.png\" style=\"float: left; margin: 25px 15px 0px 0px; height: 25px\">\n",
    "### 6.2\n",
    "\n",
    "How many times did that loop run? If you have N gyms and also N players, how many times would it run as a function of N?\n",
    "\n",
    "Can you think of a more efficient way to accomplish the same thing? \n",
    "\n",
    "(You can write your answer as Markdown text.)"
   ]
  },
  {
   "cell_type": "markdown",
   "metadata": {},
   "source": [
    "# Answer:\n",
    "Assuming each player has visited X number of gyms\n",
    "How many times did that loop run: N*N*X\n",
    "\n",
    "More efficcient way to accomplish the same thing?\n",
    "By looping through the gyms_visited in players list without looping through the list of gyms (2nd solution in 6.1)\n",
    "\n"
   ]
  },
  {
   "cell_type": "markdown",
   "metadata": {},
   "source": [
    "> <font size=3 color=\"olive\">Why is it N x N x X?<br>\n",
    "For the second solution, it seems that a conditional check is missing. While it does what you've described (print all the gyms players have visited), but the concept is different from the original 6.1 output.<br></font>"
   ]
  },
  {
   "cell_type": "markdown",
   "metadata": {},
   "source": [
    "<img src=\"http://imgur.com/l5NasQj.png\" style=\"float: left; margin: 25px 15px 0px 0px; height: 25px\">\n",
    "\n",
    "## 7. Calculate player \"power\".\n",
    "\n",
    "---\n",
    "\n",
    "Define a function that will calculate a player's \"power\". Player power is defined as the sum of the base statistics all of their pokemon.\n",
    "\n",
    "Your function will:\n",
    "\n",
    "1. Accept the `players` dictionary, `pokedex` dictionary, and a player_id as arguments.\n",
    "2. For the specified player_id, look up that player's pokemon and their level(s).\n",
    "3. Find and aggregate the attack and defense values for each of the player's pokemon from the `pokedex` dictionary.\n",
    "4. Print \"[player name]'s power is [player power].\", where the player power is the sum of the base statistics for all of their pokemon.\n",
    "5. Return the player's power value.\n",
    "\n",
    "Print out the pokemon power for each of your players."
   ]
  },
  {
   "cell_type": "code",
   "execution_count": 11,
   "metadata": {},
   "outputs": [
    {
     "name": "stdout",
     "output_type": "stream",
     "text": [
      "andy's power is 113\n",
      "---------------------------------------------\n",
      "andy's power is 113\n",
      "ben's power is 193\n"
     ]
    }
   ],
   "source": [
    "def power(players,pokedex,player_id):\n",
    "    \"\"\" Calculate player's power.\"\"\"\n",
    "    pokemon=players[player_id]['player_pokemon']\n",
    "    name=players[player_id]['player_name']\n",
    "    power=[]\n",
    "    for k in pokemon.keys():\n",
    "        power.append(pokemon[k]['attack'])\n",
    "        power.append(pokemon[k]['defense'])\n",
    "    print(name+\"'s power is \"+str(sum(power)))\n",
    "\n",
    "# Print one player's power\n",
    "power(players,pokedex,1)\n",
    "\n",
    "print(\"---------------------------------------------\")\n",
    "\n",
    "# Print out every player's power value\n",
    "for p in players:\n",
    "    power(players,pokedex,p)\n",
    "    "
   ]
  },
  {
   "cell_type": "markdown",
   "metadata": {},
   "source": [
    "> <font size=3 color = \"olive\">Function docstrings will look better if \"\"\" and \"\"\" are on separate lines.<br>\n",
    "Nice and short solution code here, although you missed out \"return\" in the function.</font>"
   ]
  },
  {
   "cell_type": "markdown",
   "metadata": {
    "collapsed": true
   },
   "source": [
    "<img src=\"http://imgur.com/l5NasQj.png\" style=\"float: left; margin: 25px 15px 0px 0px; height: 25px\">\n",
    "\n",
    "## 8. Load a pokedex file containing all the pokemon\n",
    "\n",
    "---\n",
    "\n",
    "### 8.1\n",
    "\n",
    "While you were putting together the prototype code, your colleagues were preparing a dataset of Pokemon and their attributes. (This was a rush job, so they may have picked some crazy values for some...)\n",
    "\n",
    "The code below loads information from a comma separated value (csv) file. You need to parse this string into a more useable format. The format of the string is:\n",
    "\n",
    "- Rows are separated by newline characters: \\n\n",
    "- Columns are separated by commas: ,\n",
    "- All cells in the csv are double quoted. Ex: \"PokedexNumber\" is the first cell of the first row.\n",
    "\n",
    "\n",
    "Using for-loops, create a list of lists where each list within the overall list is a row of the csv/matrix, and each element in that list is a cell in that row. Additional criteria:\n",
    "\n",
    "1. Quotes are removed from each cell item.\n",
    "2. Numeric column values are converted to floats.\n",
    "3. There are some cells that are empty and have no information. For these cells put a -1 value in place.\n",
    "\n",
    "Your end result is effectively a matrix. Each list in the outer list is a row, and the *j*th elements of list together form the *j*th column, which represents a data attribute. The first three lists in your pokedex list should look like this:\n",
    "\n",
    "    ['PokedexNumber', 'Name', 'Type', 'Total', 'HP', 'Attack', 'Defense', 'SpecialAttack', 'SpecialDefense', 'Speed']\n",
    "    [1.0, 'Bulbasaur', 'GrassPoison', 318.0, 45.0, 49.0, 49.0, 65.0, 65.0, 45.0]\n",
    "    [2.0, 'Ivysaur', 'GrassPoison', 405.0, 60.0, 62.0, 63.0, 80.0, 80.0, 60.0]"
   ]
  },
  {
   "cell_type": "code",
   "execution_count": 12,
   "metadata": {},
   "outputs": [
    {
     "name": "stdout",
     "output_type": "stream",
     "text": [
      "\"PokedexNumber\",\"Name\",\"Type\",\"Total\",\"HP\",\"Attack\",\"Defense\",\"SpecialAttack\",\"SpecialDefense\",\"Speed\"\n",
      "\n",
      "\"001\",\"Bulbasaur\",\"GrassPoison\",\"318\",\"45\",\"49\",\"49\",\"65\",\"65\",\"45\"\n",
      "\n",
      "\"002\",\"Ivysaur\",\"GrassPoison\",\"405\",\"60\",\"62\",\"63\",\"80\",\"80\",\"60\"\n",
      "\n",
      "\"003\",\"Venusaur\",\"GrassPoison\",\"525\",\"80\",\"82\",\"83\",\"100\",\"100\",\"80\"\n",
      "\n",
      "\"003\",\"VenusaurMega Venusaur\",\"GrassPoison\",\"625\",\"80\",\"100\",\"123\",\"122\",\"120\",\"80\"\n",
      "\n"
     ]
    }
   ],
   "source": [
    "# Code to read in pokedex info\n",
    "raw_pd = ''\n",
    "# pokedex_file = 'C:/Users/swoo/Desktop/DSI/materials/projects/project-1/pokedex_basic.csv'\n",
    "pokedex_file = \"./pokedex_basic.csv\"\n",
    "with open(pokedex_file, 'r') as f:\n",
    "    raw_pd = f.readlines()\n",
    "    \n",
    "# the pokedex string is assigned to the raw_pd variable\n",
    "for line in raw_pd[:5]:\n",
    "    print(line)"
   ]
  },
  {
   "cell_type": "code",
   "execution_count": 13,
   "metadata": {},
   "outputs": [
    {
     "data": {
      "text/plain": [
       "['PokedexNumber,Name,Type,Total,HP,Attack,Defense,SpecialAttack,SpecialDefense,Speed',\n",
       " '001,Bulbasaur,GrassPoison,318,45,49,49,65,65,45',\n",
       " '002,Ivysaur,GrassPoison,405,60,62,63,80,80,60',\n",
       " '003,Venusaur,GrassPoison,525,80,82,83,100,100,80',\n",
       " '003,VenusaurMega Venusaur,GrassPoison,625,80,100,123,122,120,80']"
      ]
     },
     "execution_count": 13,
     "metadata": {},
     "output_type": "execute_result"
    }
   ],
   "source": [
    "#cleaning unwanted values in the data\n",
    "cleaned=[]\n",
    "for l in raw_pd:\n",
    "       cleaned.append((l.replace('\"','')).replace('\\n',''))\n",
    "\n",
    "#show 5 rows of data to validate the output\n",
    "cleaned[:5]"
   ]
  },
  {
   "cell_type": "code",
   "execution_count": 14,
   "metadata": {},
   "outputs": [
    {
     "data": {
      "text/plain": [
       "['PokedexNumber',\n",
       " 'Name',\n",
       " 'Type',\n",
       " 'Total',\n",
       " 'HP',\n",
       " 'Attack',\n",
       " 'Defense',\n",
       " 'SpecialAttack',\n",
       " 'SpecialDefense',\n",
       " 'Speed']"
      ]
     },
     "execution_count": 14,
     "metadata": {},
     "output_type": "execute_result"
    }
   ],
   "source": [
    "#splitting the data\n",
    "cleaned_split=[]\n",
    "for r in cleaned:\n",
    "    cleaned_split.append(r.split(','))\n",
    "    \n",
    "cleaned_split[0]"
   ]
  },
  {
   "cell_type": "code",
   "execution_count": 15,
   "metadata": {},
   "outputs": [
    {
     "data": {
      "text/plain": [
       "[['PokedexNumber',\n",
       "  'Name',\n",
       "  'Type',\n",
       "  'Total',\n",
       "  'HP',\n",
       "  'Attack',\n",
       "  'Defense',\n",
       "  'SpecialAttack',\n",
       "  'SpecialDefense',\n",
       "  'Speed'],\n",
       " ['001',\n",
       "  'Bulbasaur',\n",
       "  'GrassPoison',\n",
       "  318.0,\n",
       "  45.0,\n",
       "  49.0,\n",
       "  49.0,\n",
       "  65.0,\n",
       "  65.0,\n",
       "  45.0],\n",
       " ['002', 'Ivysaur', 'GrassPoison', 405.0, 60.0, 62.0, 63.0, 80.0, 80.0, 60.0],\n",
       " ['003',\n",
       "  'Venusaur',\n",
       "  'GrassPoison',\n",
       "  525.0,\n",
       "  80.0,\n",
       "  82.0,\n",
       "  83.0,\n",
       "  100.0,\n",
       "  100.0,\n",
       "  80.0],\n",
       " ['003',\n",
       "  'VenusaurMega Venusaur',\n",
       "  'GrassPoison',\n",
       "  625.0,\n",
       "  80.0,\n",
       "  100.0,\n",
       "  123.0,\n",
       "  122.0,\n",
       "  120.0,\n",
       "  80.0]]"
      ]
     },
     "execution_count": 15,
     "metadata": {},
     "output_type": "execute_result"
    }
   ],
   "source": [
    "#converting to floats\n",
    "pokedex_full=[cleaned_split[0]]\n",
    "for r in cleaned_split[1:]:\n",
    "    cell=[r[0],r[1],r[2]]\n",
    "    for col in r[3:]:\n",
    "        if col == ' ':\n",
    "            cell.append(-1)\n",
    "        else:\n",
    "            cell.append(float(col))\n",
    "    pokedex_full.append(cell)\n",
    "\n",
    "pokedex_full[:5]"
   ]
  },
  {
   "cell_type": "code",
   "execution_count": 16,
   "metadata": {},
   "outputs": [],
   "source": [
    "#clean1 = cleaned.splitlines(',')\n",
    "#clean1\n",
    "# for line in clean1:\n",
    "#     print line\n",
    "# cleanraw"
   ]
  },
  {
   "cell_type": "markdown",
   "metadata": {},
   "source": [
    "> <font size = 3 color = \"olive\">It's nice that the solution works. However, there are too many loops iterating over the entire data. Is it possible to achieve the same outcome with less loops, or just one?<br>\n",
    "<br>\n",
    "Some notes on \"converting to floats\": I understand the logic behind, but it might not be a scalable/general approach. What if the data contains strings in the middle, here and there? Also, for empty values, it is good to know that '' and ' ' and '   ' are different. Essentially, you're equating empty values as having a space inside ' '. What if the empty value is just really empty '' without any space in it, or etc.? </font>"
   ]
  },
  {
   "cell_type": "markdown",
   "metadata": {},
   "source": [
    "<img src=\"http://imgur.com/xDpSobf.png\" style=\"float: left; margin: 25px 15px 0px 0px; height: 25px\">\n",
    "\n",
    "### 8.2 Parse the raw pokedex with list comprehensions\n",
    "\n",
    "---\n",
    "\n",
    "Perform the same parsing as above, but **using only a single list comprehension** instead of for loops. You may have nested list comprehensions within the main list comprehension! The output should be exactly the same."
   ]
  },
  {
   "cell_type": "code",
   "execution_count": null,
   "metadata": {},
   "outputs": [],
   "source": []
  },
  {
   "cell_type": "markdown",
   "metadata": {},
   "source": [
    "<img src=\"http://imgur.com/l5NasQj.png\" style=\"float: left; margin: 25px 15px 0px 0px; height: 25px\">\n",
    "\n",
    "## 9. Write a function to generate the full pokedex\n",
    "\n",
    "---\n",
    "\n",
    "Write a function that recreates the pokedex you made before, but with the data read in from the full pokemon file. The `PokedexNumber` should be used as the `pokemon_id` key values for the dictionary of pokemon.\n",
    "\n",
    "Your function should:\n",
    "\n",
    "1. Take the parsed pokedex information you created above as an argument.\n",
    "2. Return a dictionary in the same format as your original pokedex you created before containing the information from the parsed full pokedex file.\n",
    "\n",
    "To test the function, print out the pokemon with id = 100."
   ]
  },
  {
   "cell_type": "code",
   "execution_count": 17,
   "metadata": {
    "scrolled": true
   },
   "outputs": [
    {
     "name": "stdout",
     "output_type": "stream",
     "text": [
      "{532: {'Attack': 50.0,\n",
      "       'Defense': 77.0,\n",
      "       'HP': 50.0,\n",
      "       'Name': 'Rotom',\n",
      "       'PokedexNumber': '479',\n",
      "       'SpecialAttack': 95.0,\n",
      "       'SpecialDefense': 77.0,\n",
      "       'Speed': 91.0,\n",
      "       'Total': 440.0,\n",
      "       'Type': 'ElectricGhost'},\n",
      " 533: {'Attack': 65.0,\n",
      "       'Defense': 107.0,\n",
      "       'HP': 50.0,\n",
      "       'Name': 'RotomHeat Rotom',\n",
      "       'PokedexNumber': '479',\n",
      "       'SpecialAttack': 105.0,\n",
      "       'SpecialDefense': 107.0,\n",
      "       'Speed': 86.0,\n",
      "       'Total': 520.0,\n",
      "       'Type': 'ElectricFire'},\n",
      " 534: {'Attack': 65.0,\n",
      "       'Defense': 107.0,\n",
      "       'HP': 50.0,\n",
      "       'Name': 'RotomWash Rotom',\n",
      "       'PokedexNumber': '479',\n",
      "       'SpecialAttack': 105.0,\n",
      "       'SpecialDefense': 107.0,\n",
      "       'Speed': 86.0,\n",
      "       'Total': 520.0,\n",
      "       'Type': 'ElectricWater'},\n",
      " 535: {'Attack': 65.0,\n",
      "       'Defense': 107.0,\n",
      "       'HP': 50.0,\n",
      "       'Name': 'RotomFrost Rotom',\n",
      "       'PokedexNumber': '479',\n",
      "       'SpecialAttack': 105.0,\n",
      "       'SpecialDefense': 107.0,\n",
      "       'Speed': 86.0,\n",
      "       'Total': 520.0,\n",
      "       'Type': 'ElectricIce'},\n",
      " 536: {'Attack': 65.0,\n",
      "       'Defense': 107.0,\n",
      "       'HP': 50.0,\n",
      "       'Name': 'RotomFan Rotom',\n",
      "       'PokedexNumber': '479',\n",
      "       'SpecialAttack': 105.0,\n",
      "       'SpecialDefense': 107.0,\n",
      "       'Speed': 86.0,\n",
      "       'Total': 520.0,\n",
      "       'Type': 'ElectricFlying'},\n",
      " 537: {'Attack': 65.0,\n",
      "       'Defense': 107.0,\n",
      "       'HP': 50.0,\n",
      "       'Name': 'RotomMow Rotom',\n",
      "       'PokedexNumber': '479',\n",
      "       'SpecialAttack': 105.0,\n",
      "       'SpecialDefense': 107.0,\n",
      "       'Speed': 86.0,\n",
      "       'Total': 520.0,\n",
      "       'Type': 'ElectricGrass'}}\n"
     ]
    }
   ],
   "source": [
    "# There are duplicates of pokedex_number for pokemon in the same family\n",
    "# Create a new column with unique ID as the key of the dictionary\n",
    "# Original PokedexNumber will still be used as the parameter\n",
    "\n",
    "def pokedex_create(pokemon_id):\n",
    "    \"\"\"Create a pokedex dictionary for the specified pokemon_id\"\"\"\n",
    "    header=pokedex_full[0]\n",
    "    rows=pokedex_full[1:]\n",
    "    ## Pad leading zeros to pokemon_id\n",
    "    pokemon_id_str= '{num:03d}'.format(num=pokemon_id)\n",
    "    pokedex={i+1:{header[j]:v for j,v in enumerate(r[0:])} for i,r in enumerate(rows) if r[0]==str(pokemon_id_str)}\n",
    "    return pokedex\n",
    "\n",
    "# For PokedexNumber with duplicates eg:479, a dictionaries of 6 pokemons with the same PokedexNumber will be returned\n",
    "pprint(pokedex_create(479))"
   ]
  },
  {
   "cell_type": "markdown",
   "metadata": {},
   "source": [
    "> <font size = 3 color = \"olive\">The question was actually asking for a function to take in the parsed information from question (8), and make a pokedex dictionary in the same format as you did in question 3! Give it a try again when time permits.<br>\n",
    "    <br>\n",
    "Regardless, it's good to have identified the issue with same ID. The way you managed it works, which is good enough for python practice now! However, just a point to note is that, domain knowledge is important as well. What happens if the original pokemon ID is changed?</font>"
   ]
  },
  {
   "cell_type": "markdown",
   "metadata": {},
   "source": [
    "<img src=\"http://i.imgur.com/GCAf1UX.png\" style=\"float: left; margin: 25px 15px 0px 0px; height: 25px\">\n",
    "\n",
    "## 10. Write a function to generate a \"filtered\" pokedex\n",
    "---\n",
    "Your function should:\n",
    "1. Take the parsed pokedex information you created above as an argument.\n",
    "1. Take a dictionary as a parameter with keys matching the features of the Pokedex, filtering by exact match for string type values, and/or filter continuous variables specified value that is greater than or equal to the dictionary key parameter.\n",
    "1. Return multiple elements from the Pokedex\n",
    "\n",
    "Example:\n",
    "\n",
    "```python\n",
    "\n",
    "# Only filter based on parameters passed\n",
    "filter_options = {\n",
    "    'Attack':   25,\n",
    "    'Defense':  30,\n",
    "    'Type':     'Electric'\n",
    "}\n",
    "\n",
    "# Return records with attack >= 24, defense >= 30, and type == \"Electric\"\n",
    "# Also anticipate that other paramters can also be passed such as \"SpecialAttack\", \"Speed\", etc.\n",
    "filtered_pokedex(pokedex_data, filter=filter_options)\n",
    "\n",
    "# Example output:\n",
    "# [{'Attack': 30.0,\n",
    "#  'Defense': 50.0,\n",
    "#  'HP': 40.0,\n",
    "#  'Name': 'Voltorb',\n",
    "#  'SpecialAttack': 55.0,\n",
    "#  'SpecialDefense': 55.0,\n",
    "#  'Speed': 100.0,\n",
    "#  'Total': 330.0,\n",
    "#  'Type': 'Electric'},\n",
    "#  {'Attack': 30.0,\n",
    "#  'Defense': 33.0,\n",
    "#  'HP': 32.0,\n",
    "#  'Name': 'Pikachu',\n",
    "#  'SpecialAttack': 55.0,\n",
    "#  'SpecialDefense': 55.0,\n",
    "#  'Speed': 100.0,\n",
    "#  'Total': 330.0,\n",
    "#  'Type': 'Electric'},\n",
    "#  ... etc\n",
    "#  ]\n",
    "\n",
    "```\n",
    "\n"
   ]
  },
  {
   "cell_type": "code",
   "execution_count": 22,
   "metadata": {},
   "outputs": [
    {
     "data": {
      "text/plain": [
       "{('Attack', 49.0), ('Defense', 49.0), ('Type', 'GrassPoison')}"
      ]
     },
     "execution_count": 22,
     "metadata": {},
     "output_type": "execute_result"
    }
   ],
   "source": [
    "# [To be completed]\n",
    "#Create a dictionary for pokedex_full list\n",
    "header=pokedex_full[0]\n",
    "rows=pokedex_full[1:]\n",
    "pokedex={i+1:{header[j]:v for j,v in enumerate(r[0:])} for i,r in enumerate(rows)}\n",
    "\n",
    "\n",
    "filter_options = {\n",
    "                'Attack':   25,\n",
    "                'Defense':  30,\n",
    "                'Type':     'Electric'\n",
    "                }\n",
    "\n",
    "# Stuck here\n",
    "{(k, v) for k, v in pokedex[1].items() for f_k,f_v in filter_options.items() if k==f_k}"
   ]
  },
  {
   "cell_type": "code",
   "execution_count": 23,
   "metadata": {},
   "outputs": [
    {
     "name": "stdout",
     "output_type": "stream",
     "text": [
      "dict_keys(['PokedexNumber', 'Name', 'Type', 'Total', 'HP', 'Attack', 'Defense', 'SpecialAttack', 'SpecialDefense', 'Speed'])\n",
      "dict_keys(['Attack', 'Defense', 'Type'])\n",
      "dict_items([('PokedexNumber', '001'), ('Name', 'Bulbasaur'), ('Type', 'GrassPoison'), ('Total', 318.0), ('HP', 45.0), ('Attack', 49.0), ('Defense', 49.0), ('SpecialAttack', 65.0), ('SpecialDefense', 65.0), ('Speed', 45.0)])\n",
      "dict_items([('Attack', 25), ('Defense', 30), ('Type', 'Electric')])\n",
      "{'Attack': 49.0,\n",
      " 'Defense': 49.0,\n",
      " 'HP': 45.0,\n",
      " 'Name': 'Bulbasaur',\n",
      " 'PokedexNumber': '001',\n",
      " 'SpecialAttack': 65.0,\n",
      " 'SpecialDefense': 65.0,\n",
      " 'Speed': 45.0,\n",
      " 'Total': 318.0,\n",
      " 'Type': 'GrassPoison'}\n",
      "{'Attack': 25, 'Defense': 30, 'Type': 'Electric'}\n"
     ]
    }
   ],
   "source": [
    "pprint(pokedex[1].keys()) \n",
    "pprint(filter_options.keys())\n",
    "pprint(pokedex[1].items()) \n",
    "pprint(filter_options.items())\n",
    "pprint(dict((k, v) for k, v in pokedex[1].items()))\n",
    "pprint(dict((k, v) for k, v in filter_options.items()))"
   ]
  },
  {
   "cell_type": "markdown",
   "metadata": {
    "collapsed": true
   },
   "source": [
    "\n",
    "## 9. Descriptive statistics on the prototype pokedex\n",
    "\n",
    "<img src=\"http://imgur.com/l5NasQj.png\" style=\"float: left; margin: 25px 15px 0px 0px; height: 25px\">\n",
    "### 9.1\n",
    "\n",
    "What is the population mean and standard deviation of the \"Total\" attribute for all characters in the Pokedex?\n",
    "\n"
   ]
  },
  {
   "cell_type": "code",
   "execution_count": 24,
   "metadata": {},
   "outputs": [
    {
     "name": "stdout",
     "output_type": "stream",
     "text": [
      "mean: 435.1275\n",
      "stdev: 119.96202000529168\n"
     ]
    }
   ],
   "source": [
    "import numpy as np\n",
    "\n",
    "total=[]\n",
    "for row in pokedex_full[1:]:\n",
    "    total.append(row[3])\n",
    "\n",
    "print('mean: '+str(np.mean(total))+\"\\n\"+\"stdev: \"+str(np.std(total)))\n"
   ]
  },
  {
   "cell_type": "markdown",
   "metadata": {},
   "source": [
    "> <font size = 3 color = \"olive\">Correct use of the mean and std functions.</font>"
   ]
  },
  {
   "cell_type": "markdown",
   "metadata": {},
   "source": [
    "<img src=\"http://imgur.com/l5NasQj.png\" style=\"float: left; margin: 25px 15px 0px 0px; height: 25px\">\n",
    "### 9.2\n",
    "\n",
    "The game is no fun if the characters are wildly unbalanced! Are any characters \"overpowered\", which we'll define as having a \"Total\" more than three standard deviations from the population mean?"
   ]
  },
  {
   "cell_type": "code",
   "execution_count": 25,
   "metadata": {},
   "outputs": [
    {
     "name": "stdout",
     "output_type": "stream",
     "text": [
      "There are 1 overpowerd pokemon: [('MewtwoMega Mewtwo X', 800.0)]\n"
     ]
    }
   ],
   "source": [
    "import numpy as np\n",
    "overpowered_pokemon=[]\n",
    "for row in pokedex_full[1:]:\n",
    "    if row[3]>=(3*np.std(total)+np.mean(total)):\n",
    "        overpowered_pokemon.append((row[1],row[3]))\n",
    "\n",
    "print(\"There are {} overpowerd pokemon: {}\".format(len(overpowered_pokemon),overpowered_pokemon)) "
   ]
  },
  {
   "cell_type": "markdown",
   "metadata": {},
   "source": [
    "> <font size = 3 color = \"olive\">Good work in retrieving the 1 overpowered pokemon.<br>\n",
    "Something additional to note: Try to keep your print statements neutral so it makes sense if output is either plural or singular. </font>"
   ]
  },
  {
   "cell_type": "markdown",
   "metadata": {},
   "source": [
    "<img src=\"http://imgur.com/xDpSobf.png\" style=\"float: left; margin: 25px 15px 0px 0px; height: 25px\">\n",
    "\n",
    "## 10. Calibrate the frequency of Pokemon\n",
    "\n",
    "The design team wants you to make the powerful Pokemon rare, and the weaklings more common. How would you set the probability $p_i$ of finding Pokemon *i* each time a player visits a gym?\n",
    "\n",
    "Write a function that takes in a Pokedex number and returns a value $p_i$ for that character.\n",
    "\n",
    "Hint: there are many ways you could do this. What do _you_ think makes sense? Start with simplifying assumptions: for example, you could assume that the probabilities of encountering any two Pokemon on one visit to a gym are independent of each other."
   ]
  },
  {
   "cell_type": "markdown",
   "metadata": {},
   "source": [
    "#### We can potentially use fit in an exponential distribution for the probability of find a pokemon with different power.\n"
   ]
  },
  {
   "cell_type": "code",
   "execution_count": 26,
   "metadata": {},
   "outputs": [
    {
     "data": {
      "text/plain": [
       "[<matplotlib.lines.Line2D at 0x115852e10>]"
      ]
     },
     "execution_count": 26,
     "metadata": {},
     "output_type": "execute_result"
    },
    {
     "data": {
      "image/png": "[encoded data removed]",
      "text/plain": [
       "<Figure size 432x288 with 1 Axes>"
      ]
     },
     "metadata": {
      "needs_background": "light"
     },
     "output_type": "display_data"
    }
   ],
   "source": [
    "# Assuming linear distribution to make the powerful pokemon rare and the weaklings more common.\n",
    "\n",
    "import numpy as np\n",
    "%matplotlib inline\n",
    "import matplotlib.pyplot as plt\n",
    "Total=[pokedex[i]['Total'] for i in pokedex.keys()]\n",
    "\n",
    "y=[1-(x/sum(Total)) for x in Total]\n",
    "plt.plot(Total,y)"
   ]
  },
  {
   "cell_type": "code",
   "execution_count": 27,
   "metadata": {},
   "outputs": [
    {
     "data": {
      "text/plain": [
       "0.129260598579757"
      ]
     },
     "execution_count": 27,
     "metadata": {},
     "output_type": "execute_result"
    }
   ],
   "source": [
    "# Assuming exponential distribution to make the powerful pokemon rara and the weaklings more common.\n",
    "\n",
    "def pokemon_prob(power):\n",
    "    \"\"\"Probability of a player finding a specified pokemon each time a player visits a gym\"\"\"\n",
    "    import numpy as np\n",
    "    import matplotlib.pyplot as plt\n",
    "    Total=[pokedex[i]['Total'] for i in pokedex.keys()]\n",
    "\n",
    "    stdev=np.std(Total)\n",
    "    mean=np.mean(Total)\n",
    "# Not too sure how or the correct way to define lambda.\n",
    "# Assuming mean/stdev for lambd\n",
    "    lambd=mean/stdev\n",
    "    \n",
    "    y=lambd*np.exp(-lambd*(power/mean))\n",
    "    \n",
    "    return y\n",
    "\n",
    "pokemon_prob(400)\n"
   ]
  },
  {
   "cell_type": "code",
   "execution_count": 28,
   "metadata": {
    "scrolled": true
   },
   "outputs": [
    {
     "data": {
      "text/plain": [
       "[<matplotlib.lines.Line2D at 0x1158fceb8>]"
      ]
     },
     "execution_count": 28,
     "metadata": {},
     "output_type": "execute_result"
    },
    {
     "data": {
      "image/png": "[encoded data removed]",
      "text/plain": [
       "<Figure size 432x288 with 1 Axes>"
      ]
     },
     "metadata": {
      "needs_background": "light"
     },
     "output_type": "display_data"
    }
   ],
   "source": [
    "# Plotting probability density function of pokemon_prob\n",
    "import numpy as np\n",
    "%matplotlib inline\n",
    "import matplotlib.pyplot as plt\n",
    "Total=[pokedex[i]['Total'] for i in pokedex.keys()]\n",
    "stdev=np.std(Total)\n",
    "mean=np.mean(Total)\n",
    "lambd=mean/stdev\n",
    "y=[lambd*np.exp(-lambd*(x/mean)) for x in Total]\n",
    "plt.plot(Total,y)\n",
    "\n"
   ]
  },
  {
   "cell_type": "code",
   "execution_count": null,
   "metadata": {},
   "outputs": [],
   "source": []
  },
  {
   "cell_type": "markdown",
   "metadata": {},
   "source": [
    "---\n",
    "---\n",
    "---\n",
    "---"
   ]
  },
  {
   "cell_type": "markdown",
   "metadata": {},
   "source": [
    "## <font color = \"olive\">Comments</font>\n",
    "<font size = 3 color = \"77658f\">Generally, good progress on computational thinking and solving problems through it. Some improvement on readability will be good. Also, remember that if your solution is looping too many times, perhaps something can be done to reduce it.<br>\n",
    "    <p>Command of basic python data structures: Good</p>\n",
    "    <p>Command of basic python syntax and control flow: Good</p>\n",
    "    <p>Comfort with calculating basic descriptive statistics: Good</p>\n",
    "</font>"
   ]
  },
  {
   "cell_type": "markdown",
   "metadata": {},
   "source": [
    "---\n",
    "---\n",
    "---\n",
    "---\n"
   ]
  }
 ],
 "metadata": {
  "anaconda-cloud": {},
  "kernelspec": {
   "display_name": "Python 3",
   "language": "python",
   "name": "python3"
  },
  "language_info": {
   "codemirror_mode": {
    "name": "ipython",
    "version": 3
   },
   "file_extension": ".py",
   "mimetype": "text/x-python",
   "name": "python",
   "nbconvert_exporter": "python",
   "pygments_lexer": "ipython3",
   "version": "3.6.8"
  }
 },
 "nbformat": 4,
 "nbformat_minor": 1
}
