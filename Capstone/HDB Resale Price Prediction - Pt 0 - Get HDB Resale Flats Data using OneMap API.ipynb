{
 "cells": [
  {
   "cell_type": "code",
   "execution_count": 68,
   "metadata": {},
   "outputs": [],
   "source": [
    "import json\n",
    "import requests\n",
    "import pandas as pd\n",
    "import pprint\n",
    "import pyodbc\n",
    "import datetime\n",
    "\n",
    "url = 'https://data.gov.sg/api/action/datastore_search?resource_id=1b702208-44bf-4829-b620-4615ee19b57c&limit=5'\n",
    "response = requests.get(url)\n",
    "data = json.loads(response.text)"
   ]
  },
  {
   "cell_type": "code",
   "execution_count": 3,
   "metadata": {},
   "outputs": [
    {
     "data": {
      "text/plain": [
       "dict_keys(['town', 'flat_type', 'flat_model', 'floor_area_sqm', 'street_name', 'resale_price', 'month', 'remaining_lease', 'lease_commence_date', 'storey_range', '_id', 'block'])"
      ]
     },
     "execution_count": 3,
     "metadata": {},
     "output_type": "execute_result"
    }
   ],
   "source": [
    "data['result']['records'][0].keys()"
   ]
  },
  {
   "cell_type": "code",
   "execution_count": 43,
   "metadata": {
    "scrolled": true
   },
   "outputs": [
    {
     "data": {
      "text/plain": [
       "[{'town': 'ANG MO KIO',\n",
       "  'flat_type': '3 ROOM',\n",
       "  'flat_model': 'Improved',\n",
       "  'floor_area_sqm': '60',\n",
       "  'street_name': 'ANG MO KIO AVE 4',\n",
       "  'resale_price': '255000',\n",
       "  'month': '2015-01',\n",
       "  'remaining_lease': '70',\n",
       "  'lease_commence_date': '1986',\n",
       "  'storey_range': '07 TO 09',\n",
       "  '_id': 1,\n",
       "  'block': '174'},\n",
       " {'town': 'ANG MO KIO',\n",
       "  'flat_type': '3 ROOM',\n",
       "  'flat_model': 'New Generation',\n",
       "  'floor_area_sqm': '68',\n",
       "  'street_name': 'ANG MO KIO AVE 10',\n",
       "  'resale_price': '275000',\n",
       "  'month': '2015-01',\n",
       "  'remaining_lease': '65',\n",
       "  'lease_commence_date': '1981',\n",
       "  'storey_range': '01 TO 03',\n",
       "  '_id': 2,\n",
       "  'block': '541'}]"
      ]
     },
     "execution_count": 43,
     "metadata": {},
     "output_type": "execute_result"
    }
   ],
   "source": [
    "result = data['result']['records']\n",
    "result[0:2]"
   ]
  },
  {
   "cell_type": "code",
   "execution_count": 66,
   "metadata": {},
   "outputs": [
    {
     "name": "stdout",
     "output_type": "stream",
     "text": [
      "[('ANG MO KIO', '3 ROOM', 'Improved', '60', 'ANG MO KIO AVE 4', '255000',\n",
      "  '2015-01', '70', '1986', '07 TO 09', 1, '174'),\n",
      " ('ANG MO KIO', '3 ROOM', 'New Generation', '68', 'ANG MO KIO AVE 10', '275000',\n",
      "  '2015-01', '65', '1981', '01 TO 03', 2, '541'),\n",
      " ('ANG MO KIO', '3 ROOM', 'New Generation', '69', 'ANG MO KIO AVE 4', '285000',\n",
      "  '2015-01', '64', '1980', '01 TO 03', 3, '163'),\n",
      " ('ANG MO KIO', '3 ROOM', 'New Generation', '68', 'ANG MO KIO AVE 10', '290000',\n",
      "  '2015-01', '63', '1979', '01 TO 03', 4, '446'),\n",
      " ('ANG MO KIO', '3 ROOM', 'New Generation', '68', 'ANG MO KIO AVE 10', '290000',\n",
      "  '2015-01', '64', '1980', '07 TO 09', 5, '557')]\n"
     ]
    }
   ],
   "source": [
    "town = []\n",
    "flat_type = []\n",
    "flat_model = []\n",
    "floor_area_sqm = []\n",
    "street_name = []\n",
    "resale_price = []\n",
    "month = []\n",
    "remaining_lease = []\n",
    "lease_commence_date = []\n",
    "storey_range = []\n",
    "_id = []\n",
    "block = []\n",
    "\n",
    "for index,row in enumerate(result):\n",
    "    for keys,values in result[index].items():\n",
    "        if keys=='town':\n",
    "            town.append(values)\n",
    "        elif keys=='flat_type':\n",
    "            flat_type.append(values)\n",
    "        elif keys=='flat_model':\n",
    "            flat_model.append(values)\n",
    "        elif keys=='floor_area_sqm':\n",
    "            floor_area_sqm.append(values)\n",
    "        elif keys=='street_name':\n",
    "            street_name.append(values)\n",
    "        elif keys=='resale_price':\n",
    "            resale_price.append(values)\n",
    "        elif keys=='month':\n",
    "            month.append(values)\n",
    "        elif keys=='remaining_lease':\n",
    "            remaining_lease.append(values)\n",
    "        elif keys=='lease_commence_date':\n",
    "            lease_commence_date.append(values)\n",
    "        elif keys=='storey_range':\n",
    "            storey_range.append(values)\n",
    "        elif keys=='_id':\n",
    "            _id.append(values)\n",
    "        elif keys=='block':\n",
    "            block.append(values)\n",
    "            \n",
    "            \n",
    "hdb = list(zip(town, flat_type, flat_model, floor_area_sqm, street_name, resale_price, month, remaining_lease, lease_commence_date, storey_range, _id, block))\n",
    "pprint.pprint(hdb,compact=True)"
   ]
  },
  {
   "cell_type": "code",
   "execution_count": 69,
   "metadata": {},
   "outputs": [
    {
     "name": "stdout",
     "output_type": "stream",
     "text": [
      "Connected\n"
     ]
    }
   ],
   "source": [
    "db_host = 'DESKTOP-2A5SVIV\\SQLEXPRESS'\n",
    "db_name = 'singapore'\n",
    "db_user = 'DESKTOP-2A5SVIV\\seinchyi'\n",
    "db_password = ''\n",
    "\n",
    "connection_string = 'DRIVER={ODBC Driver 17 for SQL Server}; SERVER=DESKTOP-2A5SVIV\\SQLEXPRESS; DATABASE=singapore; trusted_Connection=yes'\n",
    "db = pyodbc.connect(connection_string)\n",
    "print(\"Connected\")\n",
    "cursor = db.cursor()"
   ]
  },
  {
   "cell_type": "code",
   "execution_count": null,
   "metadata": {},
   "outputs": [],
   "source": []
  },
  {
   "cell_type": "code",
   "execution_count": 88,
   "metadata": {},
   "outputs": [
    {
     "name": "stdout",
     "output_type": "stream",
     "text": [
      "Data Successfully Inserted\n"
     ]
    }
   ],
   "source": [
    "for value in hdb: \n",
    "    SQLCommand = (\"INSERT INTO hdb VALUES {}\".format(value))\n",
    "    cursor.execute(SQLCommand)\n",
    "db.commit()\n",
    "#closing connection    \n",
    "print(\"Data Successfully Inserted\")   \n",
    "db.close() "
   ]
  },
  {
   "cell_type": "code",
   "execution_count": null,
   "metadata": {},
   "outputs": [],
   "source": []
  }
 ],
 "metadata": {
  "kernelspec": {
   "display_name": "Python 3",
   "language": "python",
   "name": "python3"
  },
  "language_info": {
   "codemirror_mode": {
    "name": "ipython",
    "version": 3
   },
   "file_extension": ".py",
   "mimetype": "text/x-python",
   "name": "python",
   "nbconvert_exporter": "python",
   "pygments_lexer": "ipython3",
   "version": "3.6.8"
  }
 },
 "nbformat": 4,
 "nbformat_minor": 2
}
